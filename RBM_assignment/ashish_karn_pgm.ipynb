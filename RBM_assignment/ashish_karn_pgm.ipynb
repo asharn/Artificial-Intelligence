{
 "cells": [
  {
   "cell_type": "markdown",
   "metadata": {},
   "source": [
    "# Restricted Boltzman Machine \n",
    "\n",
    "A restricted Boltzmann Machine is an \"Energy Based\" generative stochastic model. They were initially invented by Paul Smolensky in 1986 and were called \"Harmonium\". After the evolution of training algorithms in the mid 2000's by Geoffrey Hinton, the boltzman machine became more prominent. They gained big popularity in recent years in the context of the Netflix Prize where RBMs achieved state of the art performance in collaborative filtering and have beaten most of the competition.\n",
    "\n",
    "RBM's are useful for dimensionality reduction, classification, regression, collaborative filtering, feature learning and topic modeling. \n"
   ]
  },
  {
   "cell_type": "markdown",
   "metadata": {},
   "source": [
    "## Architecture\n",
    "RBMs are shallow, two-layer neural nets that constitute the building blocks of deep-belief networks. The first layer of the RBM is called the visible, or input, layer, and the second is the hidden layer. The absense of an output layer is apparent. As we move forward we would learn why the output layer won't be needed.\n",
    "<img src=\"figure1.png\" width=\"150\" height=\"50\" title=\"Layers in RBM\">\n",
    "Figure1: Layers in RBM\n",
    "Each circle in the figure above represents a neuron-like unit called a node, and nodes are simply where calculations take place. \n",
    "<img src=\"figure3.png\" width=\"500\" height=\"200\" title=\"Layers in RBM\">\n",
    "Figure2: Structure of RBM\n",
    "The nodes are connected to each other across layers, but no two nodes of the same layer are linked. That is, there is no intra-layer communication – this is the restriction in a restricted Boltzmann machine. Each node is a locus of computation that processes input, and begins by making stochastic decisions about whether to transmit that input or not. Each visible node takes a low-level feature from an item in the dataset to be learned."
   ]
  },
  {
   "cell_type": "markdown",
   "metadata": {},
   "source": [
    "Let's start by importing the packages that will be required in this project."
   ]
  },
  {
   "cell_type": "code",
   "execution_count": 205,
   "metadata": {},
   "outputs": [],
   "source": [
    "import numpy as np\n",
    "from collections import Counter, defaultdict\n",
    "import pandas as pd\n",
    "from scipy.sparse import coo_matrix, hstack\n",
    "from sklearn.feature_extraction.text import CountVectorizer\n",
    "np_rng = np.random.RandomState(1234) #setting the random state"
   ]
  },
  {
   "cell_type": "code",
   "execution_count": 206,
   "metadata": {},
   "outputs": [],
   "source": [
    "# graded\n",
    "# import data\n",
    "df = pd.read_excel(\"amazon.xlsx\")"
   ]
  },
  {
   "cell_type": "code",
   "execution_count": 207,
   "metadata": {},
   "outputs": [
    {
     "data": {
      "text/html": [
       "<div>\n",
       "<style scoped>\n",
       "    .dataframe tbody tr th:only-of-type {\n",
       "        vertical-align: middle;\n",
       "    }\n",
       "\n",
       "    .dataframe tbody tr th {\n",
       "        vertical-align: top;\n",
       "    }\n",
       "\n",
       "    .dataframe thead th {\n",
       "        text-align: right;\n",
       "    }\n",
       "</style>\n",
       "<table border=\"1\" class=\"dataframe\">\n",
       "  <thead>\n",
       "    <tr style=\"text-align: right;\">\n",
       "      <th></th>\n",
       "      <th>Text</th>\n",
       "    </tr>\n",
       "  </thead>\n",
       "  <tbody>\n",
       "    <tr>\n",
       "      <th>0</th>\n",
       "      <td>So there is no way for me to plug it in here i...</td>\n",
       "    </tr>\n",
       "    <tr>\n",
       "      <th>1</th>\n",
       "      <td>Good case, Excellent value.</td>\n",
       "    </tr>\n",
       "    <tr>\n",
       "      <th>2</th>\n",
       "      <td>Great for the jawbone.</td>\n",
       "    </tr>\n",
       "    <tr>\n",
       "      <th>3</th>\n",
       "      <td>Tied to charger for conversations lasting more...</td>\n",
       "    </tr>\n",
       "    <tr>\n",
       "      <th>4</th>\n",
       "      <td>The mic is great.</td>\n",
       "    </tr>\n",
       "  </tbody>\n",
       "</table>\n",
       "</div>"
      ],
      "text/plain": [
       "                                                Text\n",
       "0  So there is no way for me to plug it in here i...\n",
       "1                        Good case, Excellent value.\n",
       "2                             Great for the jawbone.\n",
       "3  Tied to charger for conversations lasting more...\n",
       "4                                  The mic is great."
      ]
     },
     "execution_count": 207,
     "metadata": {},
     "output_type": "execute_result"
    }
   ],
   "source": [
    "#run this and check if you have got the correct output\n",
    "df.head()"
   ]
  },
  {
   "cell_type": "markdown",
   "metadata": {},
   "source": [
    "In Topic Modelling, you find the best set of topics that describe the document. There are various ways to perform topic modelling one of which is RBM. You train your RBM on a set of documents. \n",
    "The visible layers will be the words in the text, the hidden layers will give the Topics. \n",
    "To input words into the visible layer, let's convert the train and test data you split above into a bag of words model."
   ]
  },
  {
   "cell_type": "code",
   "execution_count": 208,
   "metadata": {},
   "outputs": [],
   "source": [
    "#graded\n",
    "# create bag of words model on train and test data\n",
    "\n",
    "tf = CountVectorizer(stop_words='english')#the final shape should be (number of documents, vocabulary)\n",
    "\n",
    "# fit tf on the dataframe df\n",
    "tf = tf.fit(df['Text'])\n",
    "# transform df dataframe\n",
    "trainX = tf.transform(df['Text'])\n",
    "#vocabulary_"
   ]
  },
  {
   "cell_type": "code",
   "execution_count": 209,
   "metadata": {},
   "outputs": [
    {
     "name": "stdout",
     "output_type": "stream",
     "text": [
      "4\n"
     ]
    },
    {
     "data": {
      "text/plain": [
       "(1000, 1642)"
      ]
     },
     "execution_count": 209,
     "metadata": {},
     "output_type": "execute_result"
    }
   ],
   "source": [
    "#check if you are getting the correct output\n",
    "print(sum(trainX.toarray()[1]))\n",
    "trainX.shape"
   ]
  },
  {
   "cell_type": "markdown",
   "metadata": {},
   "source": [
    "You should get:\n",
    "<br>\n",
    "\n",
    "3 <br>\n",
    "(1000, 1825)"
   ]
  },
  {
   "cell_type": "markdown",
   "metadata": {},
   "source": [
    "Now that you have the bag of words model, let's define the number of visible and hidden units."
   ]
  },
  {
   "cell_type": "code",
   "execution_count": 210,
   "metadata": {},
   "outputs": [],
   "source": [
    "#graded\n",
    "# define visible units\n",
    "visibleUnits = trainX.shape[1]# vocabulary size ~1 line\n",
    "\n",
    "# assign number of units\n",
    "hiddenUnits = 5 # hyperparameter, this means that we are looking for 5 topics"
   ]
  },
  {
   "cell_type": "code",
   "execution_count": 211,
   "metadata": {},
   "outputs": [
    {
     "data": {
      "text/plain": [
       "1642"
      ]
     },
     "execution_count": 211,
     "metadata": {},
     "output_type": "execute_result"
    }
   ],
   "source": [
    "visibleUnits"
   ]
  },
  {
   "cell_type": "code",
   "execution_count": 212,
   "metadata": {},
   "outputs": [],
   "source": [
    "#graded\n",
    "# utility Functions\n",
    "\n",
    "# deine the sigmoid function\n",
    "def sigmoid(X):\n",
    "    return 1/(1+np.exp(-X))# ~ 1 line"
   ]
  },
  {
   "cell_type": "markdown",
   "metadata": {},
   "source": [
    "## RBM as a Probabilistic Model\n",
    "Restricted Boltzmann Machines are probabilistic. As opposed to assigning discrete values the model assigns probabilities. At each point in time the RBM is in a certain state. The state refers to the values of neurons in the visible and hidden layers v and h. The probability that a certain state of v and h can be observed is given by the following joint distribution:\n",
    "<img src=\"figure4.png\" width=\"200\" height=\"70\" title=\"Layers in RBM\">\n",
    "\n",
    "Eq. 2. Joint Distribution for v and h.\n",
    "Here Z is called the ‘partition function’ that is the summation over all possible pairs of visible and hidden vectors."
   ]
  },
  {
   "cell_type": "markdown",
   "metadata": {},
   "source": [
    "The joint distribution is known as the Boltzmann Distribution which gives the probability that a particle can be observed in the state with the energy E. Unfortunately it is very difficult to calculate the joint probability due to the huge number of possible combination of v and h in the partition function Z. Much easier is the calculation of the conditional probabilities of state h given the state v and conditional probabilities of state v given the state h:\n",
    "<img src=\"figure5.png\" width=\"200\" height=\"70\" title=\"Layers in RBM\">\n",
    "\n",
    "Eq. 3. Conditional probabilities for h and v.\n",
    "It should be noticed beforehand (before demonstrating this fact on practical example) that each neuron in a RBM can only exist in a binary state of 0 or 1. The most interesting factor is the probability that a hidden or visible layer neuron is in the state 1 — hence activated. "
   ]
  },
  {
   "cell_type": "markdown",
   "metadata": {},
   "source": [
    "# Contrastive Divergence\n",
    "\n",
    "### Gibbs Sampling\n",
    "The first part of the training is called Gibbs Sampling. Given an input vector v we are using p(h|v) for prediction of the hidden values h via sampling. Knowing the hidden values we use p(v|h) for prediction of new input values v via sampling. This process is repeated k times. After k iterations, we obtain the visible vector $v_k$ which was recreated from original input values $v_0$.\n",
    "<img src=\"figure8.png\" width=\"500\" height=\"300\" title=\"Layers in RBM\">"
   ]
  },
  {
   "cell_type": "markdown",
   "metadata": {},
   "source": [
    "The gibbs function *gibbs* is divided into subparts: <br>\n",
    "1.*sampleHiddenLayer * <br>\n",
    "2.*sampleVisibleLayer*\n",
    "\n",
    "Let's look at *sampleHiddenLayer* now.\n",
    "\n",
    "### Sample Hidden Layer"
   ]
  },
  {
   "cell_type": "markdown",
   "metadata": {},
   "source": [
    "You already know that given an input vector v the probability for a single hidden neuron j being activated is:\n",
    "<img src=\"figure6.png\" width=\"400\" height=\"200\" title=\"Layers in RBM\">\n",
    "\n",
    "Eq. 4\n",
    "Here is σ the Sigmoid function.\n",
    "\n",
    "*sampleHiddenLayer* takes the visible layer as input to calculate the hidden layer using Eq. 4 *h1Pdf* and then samples it to get * h1_sample*\n",
    "\n",
    "    v_sample: given visible layer matrix; matrix because a batch of data points will be trained at one go\n",
    "    returns a sample vector of hidden layer and its distribution for a batch of data points\n",
    "    \n",
    "    hPdf: distribution of hidden layer; a matrix for batch of datapoints = p(h|v)\n",
    "    h_sample: sampled hidden layer matrix"
   ]
  },
  {
   "cell_type": "code",
   "execution_count": 213,
   "metadata": {},
   "outputs": [],
   "source": [
    "#graded\n",
    "def sampleHiddenLayer(v_sample):\n",
    "    \n",
    "    # write the code for calculation of hPdf using vectorized implementation of Eq 4\n",
    "    #print(W.shape)\n",
    "    #print((W, v_sample).shape)\n",
    "    hPdf = sigmoid(hiddenBias + np.dot(v_sample, W))# ~ 1 line\n",
    "    \n",
    "    # Here, np.random.binomial is used to create the hidden layer sample matrix\n",
    "    h_sample = np_rng.binomial(size=hPdf.shape, n=1, p=hPdf)\n",
    "    return [hPdf, h_sample]"
   ]
  },
  {
   "cell_type": "markdown",
   "metadata": {},
   "source": [
    "### Sample Visible Layer\n",
    "Similarly, the probability that a binary state of a visible neuron i is set to 1 is:\n",
    "<img src=\"figure7.png\" width=\"400\" height=\"200\" title=\"Layers in RBM\">\n",
    "Eq. 5\n",
    "\n",
    "As seen in equation 5, we will be writing a function to sample the Visible Layer.\n",
    "This function samples the visible layer based on the sampled data of hidden layer. <br>\n",
    "\n",
    "There are some differences in writing the function *sampleVisibleLayer*. <br>Firstly, we use np.random.multinomial to sample the visible layer *v_sample* from the distribution *vPdf*. <br>Secondly,elements of *vPdf* needs to sum to 1 as the function np.random.multinomial used to sample the visible layer takes on probability distributions as *pvals*. In other words, you are finding the softmax values. <br> Thirdly, we also make use of the *D* to sample the visible layer as each document has different word count.\n",
    "    \n",
    "    h_sample: given hidden layer matrix; matrix because a batch of data points will be trained at one go\n",
    "    D: array of the sum of the row of the data vector; vector containing number of words in each document\n",
    "    \n",
    "    returns a sample vector of hidden layer and its distribution for a batch of data points\n",
    "    \n",
    "    vPdf: distribution of visible layer; a matrix for batch of datapoints = p(v|h)\n",
    "    v_sample: sampled visible layer matrix\n",
    "    "
   ]
  },
  {
   "cell_type": "code",
   "execution_count": 214,
   "metadata": {},
   "outputs": [],
   "source": [
    "#graded\n",
    "def sampleVisibleLayer(h_sample, D):\n",
    "    \n",
    "    # complete the following function such that vPdf has the sum of entries equal to 1 for each of the datapoints in the batch\n",
    "    # you have to use axis = 1 in writing the denominator\n",
    "    numerator = sigmoid(visibleBias + np.dot(h_sample,np.transpose(W)))# ~1 line\n",
    "    denominator = numerator.sum(axis=1)# ~1 line\n",
    "    vPdf = numerator/denominator[0]# ~1 line\n",
    "    print(vPdf)\n",
    "\n",
    "    # Here np.random.multinomial is used to sample as each document has different number of words \n",
    "    # and hence D is also a parameter in sampling\n",
    "    v_sample = np.zeros((batchSize, vPdf.shape[1]))\n",
    "    for i in range(batchSize):\n",
    "        v_sample[i] = np_rng.multinomial(size=1, n=D[i], pvals=vPdf[i])\n",
    "    return [vPdf, v_sample]"
   ]
  },
  {
   "cell_type": "markdown",
   "metadata": {},
   "source": [
    "### Sampling"
   ]
  },
  {
   "cell_type": "markdown",
   "metadata": {},
   "source": [
    "We use the above functions to write the function *gibbs* to run one iteration of gibbs sampling. Note that we are calculating the visible layer samples first and then using it to calculate he hidden layer sample. It'll become clear soon why we are doing so when you write the function for Contrastive Divergence.\n",
    "    \n",
    "    Input:\n",
    "    h_sample: given hidden layer matrix; matrix because a batch of data points will be trained at one go\n",
    "    D: array of the sum of the row of the data vector; vector containing number of words in each document\n",
    "    \n",
    "    Output:\n",
    "    vPdf: distribution of visible layer\n",
    "    v_sample: sampled visible layer matrix\n",
    "    hPdf: distribution of hidden layer\n",
    "    h_sample: sampled hidden layer matrix"
   ]
  },
  {
   "cell_type": "code",
   "execution_count": 215,
   "metadata": {},
   "outputs": [],
   "source": [
    "#graded\n",
    "def gibbs(h_sample, D):\n",
    "    \n",
    "    #use sampleVIsibleLayer and sampleHiddenLayer \n",
    "    vPdf, v_sample = sampleVisibleLayer(h_sample, D)[0], sampleVisibleLayer(h_sample, D)[1]# ~1 line\n",
    "    hPdf, h_sample = sampleHiddenLayer(v_sample)# ~1 line\n",
    "    return [vPdf, v_sample, hPdf, h_sample ]"
   ]
  },
  {
   "cell_type": "markdown",
   "metadata": {},
   "source": [
    "\n",
    "### Contrastive Divergence\n",
    "\n",
    "You have learned that Contrastive Divergence updates weights after one iteration of Gibbs Sampling. Here, we shall perform *k* such iterations in Contrastive Divergence. \n",
    "The update of the weight matrix happens post the Contrastive Divergence step. "
   ]
  },
  {
   "cell_type": "markdown",
   "metadata": {},
   "source": [
    "\n",
    "Now, we will writing a funtion to run the contrastive divergence algorithm in k steps\n",
    "    \n",
    "    Input:\n",
    "    data: batch data (visible layer)\n",
    "    k: no of iterations for gibbs sampling\n",
    "    \n",
    "    Output:\n",
    "    hiddenPDF_data: distribution of the hidden layer based on data\n",
    "    visibleSamples: visible samples generated by gibbs sampling \n",
    "    hiddenPDF: distribution of the hidden layer based on samples generated by gibbs"
   ]
  },
  {
   "cell_type": "code",
   "execution_count": 216,
   "metadata": {},
   "outputs": [],
   "source": [
    "#graded\n",
    "def cd_k(data,k):\n",
    "    \n",
    "    D = data.sum(axis=1)\n",
    "    hiddenPDF_data, hiddenSample_data = sampleHiddenLayer(data)# sample the hidden layer using the input data\n",
    "    chain_start = hiddenSample_data\n",
    "\n",
    "    for step in range(k):\n",
    "        if step == 0:\n",
    "            visiblePDF, visibleSamples, hiddenPDF, hiddenSamples  = gibbs(chain_start, D)# perform gibbs sampling using chain_start\n",
    "        else:\n",
    "            visiblePDF, visibleSamples, hiddenPDF, hiddenSamples = gibbs(hiddenSamples,D)# perform gibbs sampling using hiddenSamples\n",
    "    return hiddenPDF_data, visibleSamples, hiddenPDF\n"
   ]
  },
  {
   "cell_type": "markdown",
   "metadata": {},
   "source": [
    "## Training the Model\n",
    "\n",
    "Vectors $v_0$ and $v_k$ are used to calculate the activation probabilities for hidden layers $p(h_0|v_0)$ and $p(h_k|v_k)$ (Eq.4). The difference between the outer products of those probabilities with input vectors $v_0$ and $v_k$ results in the update matrix:\n",
    "<img src=\"figure9.png\" width=\"300\" height=\"200\" title=\"Layers in RBM\">\n",
    "Eq. 6. Update matrix. **Figure out** the vectorized implementation for this.\n",
    "\n",
    "In order to calculate $\\Delta (bias)$, <br>\n",
    "<center>$\\Delta (visiblebias) = average\\_ across\\_ batch(v_0 - v_k)$ </center> \n",
    "<center>$\\Delta (hiddenbias) = average\\_across\\_ batch(p(h_0|v_0) - p(h_k|v_k))$ </center> \n",
    "\n",
    "Using the update matrix the new weights can be calculated with momentum gradient ascent, given by:\n",
    "<center>  $mW_t = \\gamma \\ mW_{t-1} - \\Delta W$</center> \n",
    "<center>  $mvisiblebias_t = \\gamma \\ mvisiblebias_{t-1} - \\Delta visiblebias$</center>\n",
    "<center>  $mhiddenbias_t = \\gamma \\ mhiddenbias_{t-1} - \\Delta hiddenbias$</center><br>\n",
    "<center>  $W_t = W_{t-1} + \\alpha \\ mW_t$</center> \n",
    "<center>  $visiblebias_t = visiblebias_{t-1} + \\alpha \\ mvisiblebias_t$</center> \n",
    "<center>  $hiddenbias_t = hiddenbias_{t-1} + \\alpha \\ mhiddenbias_t$</center> \n",
    "\n",
    "\n",
    "Eq. 7. Update rule for the weights.\n",
    "\n",
    "Note that in the code implementation below <br>\n",
    " hiddenPDF_data is $p(h_0|v_0)$ <br>\n",
    " visibleSamples is $v_k$ <br>\n",
    " hiddenPDF is $p(h_k|v_k)$ <br>\n",
    " mdata is $v_0$ <br>\n",
    " eta is $\\alpha$ <br>\n",
    " mrate is $\\gamma$ <br>\n",
    "These will be helpful in writing the weight updates.\n",
    "\n",
    "In this we will write a function which iterates over our data for *epochs*.\n",
    "At every epoch we shuffle the data and then run CD on a mini batch size defined by *batchSize*"
   ]
  },
  {
   "cell_type": "markdown",
   "metadata": {},
   "source": [
    "### Initializations"
   ]
  },
  {
   "cell_type": "code",
   "execution_count": 217,
   "metadata": {},
   "outputs": [],
   "source": [
    "\"\"\"\n",
    "visibleUnits: no of words in your Bag of words Model\n",
    "hiddenUnits: no of topics\n",
    "batchSize: data slice to be selected \n",
    "epochs: no of iterations\n",
    "eta: learning rate\n",
    "mrate: momentum coefficient\n",
    "W : weights between the visible and hidden layer\n",
    "visibleBias, hiddenBias: biases for visible and hidden layer respectively\n",
    "\"\"\"\n",
    "\n",
    "# define batch size\n",
    "batchSize = 200\n",
    "\n",
    "epochs = 100\n",
    "eta = 0.05 \n",
    "mrate = 0.5\n",
    "\n",
    "# initialise weights\n",
    "weightinit=0.01\n",
    "W = weightinit * np_rng.randn(visibleUnits, hiddenUnits)\n",
    "visibleBias = weightinit * np_rng.randn(visibleUnits)\n",
    "hiddenBias = np.zeros((hiddenUnits))\n",
    "\n",
    "# we shall use 10 interations of gibbs sampling\n",
    "k=10"
   ]
  },
  {
   "cell_type": "markdown",
   "metadata": {},
   "source": [
    "### Training"
   ]
  },
  {
   "cell_type": "code",
   "execution_count": 218,
   "metadata": {},
   "outputs": [],
   "source": [
    "#graded\n",
    "def train(dataX,k):\n",
    "    \n",
    "    mW = np.zeros((visibleUnits, hiddenUnits))# initialise momentum_weights\n",
    "    mvisibleBias =  np.zeros(visibleUnits)# initialise momentum_visiblebiases\n",
    "    mhiddenBias =  np.zeros(hiddenUnits)# initialise momentum_hiddenbiases\n",
    "    global W,visibleBias,hiddenBias,mrate,batchSize,epochs # calling the variables initiliazed at the begining\n",
    "    for epoch in range(epochs):\n",
    "        np_rng.shuffle(dataX) #shuffling the data\n",
    "        \n",
    "        for i in range(0, dataX.shape[0], batchSize):\n",
    "            mData = dataX[i:i+batchSize]#select a batch of datapoints\n",
    "            hiddenPDF_data, visibleSamples, hiddenPDF =  cd_k(mData,k)# perfrom Contrastive Divergence on the batch for k iterations\n",
    "\n",
    "            mW = mrate*mW - (np.outer(visibleSamples[0], hiddenPDF_data)-np.outer(visibleSamples[-1], hiddenPDF))#write the momentum update equation for weight matrix\n",
    "            mvisibleBias =  mrate*mvisibleBias - np.mean(visibleSamples[0]-visibleSamples[-1])#write the momentum update equation for visiblebias vector\n",
    "            mhiddenBias =  mrate*mhiddenBias - np.mean(hiddenPDF_data - hiddenPDF)#write the momentum update equation for hiddenbias vector\n",
    "\n",
    "            W =  W + eta*mW#weight update equation\n",
    "            visibleBias =  visibleBias + eta*mvisibleBias#visible bias update equation\n",
    "            hiddenBias =  hiddenBias + eta*mhiddenBias#hidden bias update equation"
   ]
  },
  {
   "cell_type": "markdown",
   "metadata": {},
   "source": [
    "## Train the Model\n",
    "\n",
    "This will take around 10 minutes of time to run."
   ]
  },
  {
   "cell_type": "code",
   "execution_count": 219,
   "metadata": {},
   "outputs": [
    {
     "name": "stdout",
     "output_type": "stream",
     "text": [
      "[[0.00060869 0.00060992 0.00060261 ... 0.00060458 0.00061362 0.00060076]\n",
      " [0.00061449 0.00061069 0.00060901 ... 0.00060706 0.00061536 0.00060908]\n",
      " [0.00060745 0.00061519 0.00061528 ... 0.00061529 0.0006146  0.0006106 ]\n",
      " ...\n",
      " [0.00061086 0.0006133  0.00061203 ... 0.00061078 0.00061588 0.00061148]\n",
      " [0.00060745 0.00060305 0.00060774 ... 0.00061275 0.00060809 0.00060512]\n",
      " [0.00060965 0.00060988 0.00060876 ... 0.00061193 0.00061145 0.00060559]]\n",
      "[[0.00060869 0.00060992 0.00060261 ... 0.00060458 0.00061362 0.00060076]\n",
      " [0.00061449 0.00061069 0.00060901 ... 0.00060706 0.00061536 0.00060908]\n",
      " [0.00060745 0.00061519 0.00061528 ... 0.00061529 0.0006146  0.0006106 ]\n",
      " ...\n",
      " [0.00061086 0.0006133  0.00061203 ... 0.00061078 0.00061588 0.00061148]\n",
      " [0.00060745 0.00060305 0.00060774 ... 0.00061275 0.00060809 0.00060512]\n",
      " [0.00060965 0.00060988 0.00060876 ... 0.00061193 0.00061145 0.00060559]]\n",
      "[[0.00061079 0.00060109 0.00060443 ... 0.00060818 0.0006093  0.00060593]\n",
      " [0.00060956 0.00060636 0.0006171  ... 0.00061889 0.00061029 0.00061577]\n",
      " [0.00061175 0.00061319 0.00061812 ... 0.00061806 0.00061365 0.00061624]\n",
      " ...\n",
      " [0.00060519 0.0006083  0.0006142  ... 0.00061604 0.00061118 0.00061007]\n",
      " [0.00061101 0.00061251 0.00061219 ... 0.0006115  0.00061402 0.00060814]\n",
      " [0.00060882 0.00060568 0.00061118 ... 0.00061232 0.00061066 0.00060767]]\n",
      "[[0.00061079 0.00060109 0.00060443 ... 0.00060818 0.0006093  0.00060593]\n",
      " [0.00060956 0.00060636 0.0006171  ... 0.00061889 0.00061029 0.00061577]\n",
      " [0.00061175 0.00061319 0.00061812 ... 0.00061806 0.00061365 0.00061624]\n",
      " ...\n",
      " [0.00060519 0.0006083  0.0006142  ... 0.00061604 0.00061118 0.00061007]\n",
      " [0.00061101 0.00061251 0.00061219 ... 0.0006115  0.00061402 0.00060814]\n",
      " [0.00060882 0.00060568 0.00061118 ... 0.00061232 0.00061066 0.00060767]]\n",
      "[[0.00060869 0.00060992 0.00060261 ... 0.00060458 0.00061362 0.00060076]\n",
      " [0.00061086 0.00060116 0.00060449 ... 0.00060825 0.00060937 0.000606  ]\n",
      " [0.00060507 0.00061254 0.00060563 ... 0.0006083  0.00061414 0.00060317]\n",
      " ...\n",
      " [0.00061181 0.00060111 0.00061065 ... 0.0006156  0.0006072  0.00061083]\n",
      " [0.00060507 0.00061254 0.00060563 ... 0.0006083  0.00061414 0.00060317]\n",
      " [0.00061325 0.00060381 0.00061415 ... 0.00061523 0.00060984 0.00061344]]\n",
      "[[0.00060869 0.00060992 0.00060261 ... 0.00060458 0.00061362 0.00060076]\n",
      " [0.00061086 0.00060116 0.00060449 ... 0.00060825 0.00060937 0.000606  ]\n",
      " [0.00060507 0.00061254 0.00060563 ... 0.0006083  0.00061414 0.00060317]\n",
      " ...\n",
      " [0.00061181 0.00060111 0.00061065 ... 0.0006156  0.0006072  0.00061083]\n",
      " [0.00060507 0.00061254 0.00060563 ... 0.0006083  0.00061414 0.00060317]\n",
      " [0.00061325 0.00060381 0.00061415 ... 0.00061523 0.00060984 0.00061344]]\n",
      "[[0.00060869 0.00060992 0.00060261 ... 0.00060458 0.00061362 0.00060076]\n",
      " [0.00061108 0.00061258 0.00061226 ... 0.00061156 0.00061408 0.0006082 ]\n",
      " [0.0006123  0.00060386 0.00060799 ... 0.00060788 0.00061201 0.00060861]\n",
      " ...\n",
      " [0.00060602 0.00061249 0.00061178 ... 0.00061565 0.00061197 0.00060799]\n",
      " [0.00061013 0.00061263 0.00060611 ... 0.00060422 0.00061625 0.00060338]\n",
      " [0.00061181 0.00060111 0.00061065 ... 0.0006156  0.0006072  0.00061083]]\n",
      "[[0.00060869 0.00060992 0.00060261 ... 0.00060458 0.00061362 0.00060076]\n",
      " [0.00061108 0.00061258 0.00061226 ... 0.00061156 0.00061408 0.0006082 ]\n",
      " [0.0006123  0.00060386 0.00060799 ... 0.00060788 0.00061201 0.00060861]\n",
      " ...\n",
      " [0.00060602 0.00061249 0.00061178 ... 0.00061565 0.00061197 0.00060799]\n",
      " [0.00061013 0.00061263 0.00060611 ... 0.00060422 0.00061625 0.00060338]\n",
      " [0.00061181 0.00060111 0.00061065 ... 0.0006156  0.0006072  0.00061083]]\n",
      "[[0.00060843 0.00060624 0.00061078 ... 0.00061137 0.00061229 0.00061078]\n",
      " [0.00060865 0.00060551 0.00061101 ... 0.00061215 0.00061049 0.0006075 ]\n",
      " [0.00060941 0.00060964 0.00060852 ... 0.00061169 0.00061121 0.00060536]\n",
      " ...\n",
      " [0.00060795 0.00060349 0.00061343 ... 0.00061908 0.00060749 0.00061299]\n",
      " [0.00060941 0.00060964 0.00060852 ... 0.00061169 0.00061121 0.00060536]\n",
      " [0.00061062 0.00060093 0.00060426 ... 0.00060801 0.00060913 0.00060576]]\n",
      "[[0.00060843 0.00060624 0.00061078 ... 0.00061137 0.00061229 0.00061078]\n",
      " [0.00060865 0.00060551 0.00061101 ... 0.00061215 0.00061049 0.0006075 ]\n",
      " [0.00060941 0.00060964 0.00060852 ... 0.00061169 0.00061121 0.00060536]\n",
      " ...\n",
      " [0.00060795 0.00060349 0.00061343 ... 0.00061908 0.00060749 0.00061299]\n",
      " [0.00060941 0.00060964 0.00060852 ... 0.00061169 0.00061121 0.00060536]\n",
      " [0.00061062 0.00060093 0.00060426 ... 0.00060801 0.00060913 0.00060576]]\n",
      "[[0.00060655 0.00060315 0.00060164 ... 0.00060545 0.00061031 0.00060035]\n",
      " [0.0006097  0.00060993 0.00060881 ... 0.00061198 0.0006115  0.00060564]\n",
      " [0.00061187 0.00061331 0.00061823 ... 0.00061818 0.00061377 0.00061636]\n",
      " ...\n",
      " [0.00060967 0.00060648 0.00061722 ... 0.000619   0.00061041 0.00061589]\n",
      " [0.00061406 0.00060799 0.00061171 ... 0.00061482 0.00061061 0.00061134]\n",
      " [0.00060607 0.00061254 0.00061183 ... 0.0006157  0.00061202 0.00060804]]\n",
      "[[0.00060655 0.00060315 0.00060164 ... 0.00060545 0.00061031 0.00060035]\n",
      " [0.0006097  0.00060993 0.00060881 ... 0.00061198 0.0006115  0.00060564]\n",
      " [0.00061187 0.00061331 0.00061823 ... 0.00061818 0.00061377 0.00061636]\n",
      " ...\n",
      " [0.00060967 0.00060648 0.00061722 ... 0.000619   0.00061041 0.00061589]\n",
      " [0.00061406 0.00060799 0.00061171 ... 0.00061482 0.00061061 0.00061134]\n",
      " [0.00060607 0.00061254 0.00061183 ... 0.0006157  0.00061202 0.00060804]]\n",
      "[[0.00061294 0.00060787 0.00060539 ... 0.00060731 0.00061261 0.00060635]\n",
      " [0.00060858 0.00060981 0.00060249 ... 0.00060446 0.0006135  0.00060065]\n",
      " [0.0006117  0.000601   0.00061053 ... 0.00061548 0.00060709 0.00061071]\n",
      " ...\n",
      " [0.00060953 0.00060976 0.00060864 ... 0.00061181 0.00061133 0.00060547]\n",
      " [0.00060639 0.00061512 0.00060901 ... 0.00060782 0.00061665 0.00060566]\n",
      " [0.00060855 0.00060636 0.0006109  ... 0.00061149 0.00061241 0.0006109 ]]\n",
      "[[0.00061294 0.00060787 0.00060539 ... 0.00060731 0.00061261 0.00060635]\n",
      " [0.00060858 0.00060981 0.00060249 ... 0.00060446 0.0006135  0.00060065]\n",
      " [0.0006117  0.000601   0.00061053 ... 0.00061548 0.00060709 0.00061071]\n",
      " ...\n",
      " [0.00060953 0.00060976 0.00060864 ... 0.00061181 0.00061133 0.00060547]\n",
      " [0.00060639 0.00061512 0.00060901 ... 0.00060782 0.00061665 0.00060566]\n",
      " [0.00060855 0.00060636 0.0006109  ... 0.00061149 0.00061241 0.0006109 ]]\n",
      "[[0.0006142  0.0006104  0.00060873 ... 0.00060678 0.00061508 0.00060879]\n",
      " [0.00061277 0.0006077  0.00060523 ... 0.00060714 0.00061244 0.00060618]\n",
      " [0.0006101  0.00061027 0.0006144  ... 0.00061821 0.0006108  0.00061341]\n",
      " ...\n",
      " [0.00060574 0.00061221 0.0006115  ... 0.00061537 0.00061168 0.00060771]\n",
      " [0.00060574 0.00061221 0.0006115  ... 0.00061537 0.00061168 0.00060771]\n",
      " [0.00061153 0.00060083 0.00061036 ... 0.00061531 0.00060692 0.00061054]]\n",
      "[[0.0006142  0.0006104  0.00060873 ... 0.00060678 0.00061508 0.00060879]\n",
      " [0.00061277 0.0006077  0.00060523 ... 0.00060714 0.00061244 0.00060618]\n",
      " [0.0006101  0.00061027 0.0006144  ... 0.00061821 0.0006108  0.00061341]\n",
      " ...\n",
      " [0.00060574 0.00061221 0.0006115  ... 0.00061537 0.00061168 0.00060771]\n",
      " [0.00060574 0.00061221 0.0006115  ... 0.00061537 0.00061168 0.00060771]\n",
      " [0.00061153 0.00060083 0.00061036 ... 0.00061531 0.00060692 0.00061054]]\n",
      "[[0.00060735 0.00061509 0.00061518 ... 0.00061519 0.0006145  0.0006105 ]\n",
      " [0.00060952 0.00060633 0.00061706 ... 0.00061885 0.00061025 0.00061574]\n",
      " [0.00061171 0.00061315 0.00061808 ... 0.00061803 0.00061361 0.0006162 ]\n",
      " ...\n",
      " [0.00060809 0.00060363 0.00061356 ... 0.00061921 0.00060762 0.00061313]\n",
      " [0.00061171 0.00061315 0.00061808 ... 0.00061803 0.00061361 0.0006162 ]\n",
      " [0.00060516 0.00060826 0.00061416 ... 0.00061601 0.00061114 0.00061003]]\n",
      "[[0.00060735 0.00061509 0.00061518 ... 0.00061519 0.0006145  0.0006105 ]\n",
      " [0.00060952 0.00060633 0.00061706 ... 0.00061885 0.00061025 0.00061574]\n",
      " [0.00061171 0.00061315 0.00061808 ... 0.00061803 0.00061361 0.0006162 ]\n",
      " ...\n",
      " [0.00060809 0.00060363 0.00061356 ... 0.00061921 0.00060762 0.00061313]\n",
      " [0.00061171 0.00061315 0.00061808 ... 0.00061803 0.00061361 0.0006162 ]\n",
      " [0.00060516 0.00060826 0.00061416 ... 0.00061601 0.00061114 0.00061003]]\n",
      "[[0.00060996 0.00061246 0.00060594 ... 0.00060405 0.00061608 0.00060321]\n",
      " [0.00061213 0.00060369 0.00060783 ... 0.00060771 0.00061184 0.00060844]\n",
      " [0.00060802 0.00060356 0.0006135  ... 0.00061915 0.00060756 0.00061306]\n",
      " ...\n",
      " [0.0006107  0.00061314 0.00061186 ... 0.00061062 0.00061572 0.00061131]\n",
      " [0.00061069 0.00060099 0.00060433 ... 0.00060808 0.0006092  0.00060583]\n",
      " [0.00060729 0.00060288 0.00060758 ... 0.00061258 0.00060792 0.00060496]]\n",
      "[[0.00060996 0.00061246 0.00060594 ... 0.00060405 0.00061608 0.00060321]\n",
      " [0.00061213 0.00060369 0.00060783 ... 0.00060771 0.00061184 0.00060844]\n",
      " [0.00060802 0.00060356 0.0006135  ... 0.00061915 0.00060756 0.00061306]\n",
      " ...\n",
      " [0.0006107  0.00061314 0.00061186 ... 0.00061062 0.00061572 0.00061131]\n",
      " [0.00061069 0.00060099 0.00060433 ... 0.00060808 0.0006092  0.00060583]\n",
      " [0.00060729 0.00060288 0.00060758 ... 0.00061258 0.00060792 0.00060496]]\n"
     ]
    },
    {
     "ename": "ValueError",
     "evalue": "operands could not be broadcast together with shapes (1642,5) (1642,1000) ",
     "output_type": "error",
     "traceback": [
      "\u001b[0;31m---------------------------------------------------------------------------\u001b[0m",
      "\u001b[0;31mValueError\u001b[0m                                Traceback (most recent call last)",
      "\u001b[0;32m<ipython-input-219-713ac6983df3>\u001b[0m in \u001b[0;36m<module>\u001b[0;34m\u001b[0m\n\u001b[0;32m----> 1\u001b[0;31m \u001b[0mtrain\u001b[0m\u001b[0;34m(\u001b[0m\u001b[0mtrainX\u001b[0m\u001b[0;34m.\u001b[0m\u001b[0mtoarray\u001b[0m\u001b[0;34m(\u001b[0m\u001b[0;34m)\u001b[0m\u001b[0;34m,\u001b[0m\u001b[0mk\u001b[0m\u001b[0;34m)\u001b[0m\u001b[0;34m\u001b[0m\u001b[0;34m\u001b[0m\u001b[0m\n\u001b[0m",
      "\u001b[0;32m<ipython-input-218-64064e794539>\u001b[0m in \u001b[0;36mtrain\u001b[0;34m(dataX, k)\u001b[0m\n\u001b[1;32m     13\u001b[0m             \u001b[0mhiddenPDF_data\u001b[0m\u001b[0;34m,\u001b[0m \u001b[0mvisibleSamples\u001b[0m\u001b[0;34m,\u001b[0m \u001b[0mhiddenPDF\u001b[0m \u001b[0;34m=\u001b[0m  \u001b[0mcd_k\u001b[0m\u001b[0;34m(\u001b[0m\u001b[0mmData\u001b[0m\u001b[0;34m,\u001b[0m\u001b[0mk\u001b[0m\u001b[0;34m)\u001b[0m\u001b[0;31m# perfrom Contrastive Divergence on the batch for k iterations\u001b[0m\u001b[0;34m\u001b[0m\u001b[0;34m\u001b[0m\u001b[0m\n\u001b[1;32m     14\u001b[0m \u001b[0;34m\u001b[0m\u001b[0m\n\u001b[0;32m---> 15\u001b[0;31m             \u001b[0mmW\u001b[0m \u001b[0;34m=\u001b[0m \u001b[0mmrate\u001b[0m\u001b[0;34m*\u001b[0m\u001b[0mmW\u001b[0m \u001b[0;34m-\u001b[0m \u001b[0;34m(\u001b[0m\u001b[0mnp\u001b[0m\u001b[0;34m.\u001b[0m\u001b[0mouter\u001b[0m\u001b[0;34m(\u001b[0m\u001b[0mvisibleSamples\u001b[0m\u001b[0;34m[\u001b[0m\u001b[0;36m0\u001b[0m\u001b[0;34m]\u001b[0m\u001b[0;34m,\u001b[0m \u001b[0mhiddenPDF_data\u001b[0m\u001b[0;34m)\u001b[0m\u001b[0;34m-\u001b[0m\u001b[0mnp\u001b[0m\u001b[0;34m.\u001b[0m\u001b[0mouter\u001b[0m\u001b[0;34m(\u001b[0m\u001b[0mvisibleSamples\u001b[0m\u001b[0;34m[\u001b[0m\u001b[0;34m-\u001b[0m\u001b[0;36m1\u001b[0m\u001b[0;34m]\u001b[0m\u001b[0;34m,\u001b[0m \u001b[0mhiddenPDF\u001b[0m\u001b[0;34m)\u001b[0m\u001b[0;34m)\u001b[0m\u001b[0;31m#write the momentum update equation for weight matrix\u001b[0m\u001b[0;34m\u001b[0m\u001b[0;34m\u001b[0m\u001b[0m\n\u001b[0m\u001b[1;32m     16\u001b[0m             \u001b[0mmvisibleBias\u001b[0m \u001b[0;34m=\u001b[0m  \u001b[0mmrate\u001b[0m\u001b[0;34m*\u001b[0m\u001b[0mmvisibleBias\u001b[0m \u001b[0;34m-\u001b[0m \u001b[0mnp\u001b[0m\u001b[0;34m.\u001b[0m\u001b[0mmean\u001b[0m\u001b[0;34m(\u001b[0m\u001b[0mvisibleSamples\u001b[0m\u001b[0;34m[\u001b[0m\u001b[0;36m0\u001b[0m\u001b[0;34m]\u001b[0m\u001b[0;34m-\u001b[0m\u001b[0mvisibleSamples\u001b[0m\u001b[0;34m[\u001b[0m\u001b[0;34m-\u001b[0m\u001b[0;36m1\u001b[0m\u001b[0;34m]\u001b[0m\u001b[0;34m)\u001b[0m\u001b[0;31m#write the momentum update equation for visiblebias vector\u001b[0m\u001b[0;34m\u001b[0m\u001b[0;34m\u001b[0m\u001b[0m\n\u001b[1;32m     17\u001b[0m             \u001b[0mmhiddenBias\u001b[0m \u001b[0;34m=\u001b[0m  \u001b[0mmrate\u001b[0m\u001b[0;34m*\u001b[0m\u001b[0mmhiddenBias\u001b[0m \u001b[0;34m-\u001b[0m \u001b[0mnp\u001b[0m\u001b[0;34m.\u001b[0m\u001b[0mmean\u001b[0m\u001b[0;34m(\u001b[0m\u001b[0mhiddenPDF_data\u001b[0m \u001b[0;34m-\u001b[0m \u001b[0mhiddenPDF\u001b[0m\u001b[0;34m)\u001b[0m\u001b[0;31m#write the momentum update equation for hiddenbias vector\u001b[0m\u001b[0;34m\u001b[0m\u001b[0;34m\u001b[0m\u001b[0m\n",
      "\u001b[0;31mValueError\u001b[0m: operands could not be broadcast together with shapes (1642,5) (1642,1000) "
     ]
    }
   ],
   "source": [
    "train(trainX.toarray(),k)"
   ]
  },
  {
   "cell_type": "markdown",
   "metadata": {},
   "source": [
    "# Word Distribution based on Topics\n",
    "In this function, we are finding the distribution of words over the topics. You can take a look at the words under each topic and see what they are talking about. The number of topics is the number of neurons in the hidden layer. <br>\n",
    "<br>\n",
    "\n",
    "For each topic, the function prints the top 15 words that describe the topic. You can see that some of the words occur in multiple topics.\n",
    "\n",
    "    topic: number of hidden layers\n",
    "    voc: indexing of the vocabulary\n",
    "    \n",
    "Feel free to change the number of iterations of gibbs sampling in Contrastive Divergence and see how the distribution of words change under the topics."
   ]
  },
  {
   "cell_type": "code",
   "execution_count": 220,
   "metadata": {},
   "outputs": [],
   "source": [
    "def worddist( topic, voc):\n",
    "    \n",
    "    \"\"\"\n",
    "    Initialize every topic =1 once \n",
    "    \"\"\"\n",
    "    vecTopics = np.zeros((topic, topic))\n",
    "    for i in range(len(vecTopics)):\n",
    "        vecTopics[i][i] = 1\n",
    "    \n",
    "    \n",
    "    for i, vecTopic in enumerate(vecTopics):\n",
    "       \n",
    "        numerator = np.exp(np.dot(vecTopic, W.T) + visibleBias)\n",
    "        denominator = numerator.sum().reshape((1, 1))\n",
    "        word_distribution = (numerator/denominator).flatten()\n",
    "        \n",
    "        tmpDict = {}\n",
    "        for j in voc.keys():\n",
    "            tmpDict[j] = word_distribution[voc[j]]\n",
    "        print('topic', str(i), ':', vecTopic)\n",
    "        lm=0\n",
    "        for word, prob in sorted(tmpDict.items(), key=lambda x:x[1], reverse=True):\n",
    "            print ( word, str(prob))\n",
    "            lm+=1\n",
    "            if lm==15:\n",
    "                break\n",
    "        print('\\n')"
   ]
  },
  {
   "cell_type": "code",
   "execution_count": 221,
   "metadata": {},
   "outputs": [
    {
     "name": "stdout",
     "output_type": "stream",
     "text": [
      "topic 0 : [1. 0. 0. 0. 0.]\n",
      "spinn 0.0006379565177117481\n",
      "scratched 0.000636152382777895\n",
      "controls 0.0006334030394393014\n",
      "loose 0.000632183301117277\n",
      "50 0.0006321175296802414\n",
      "noted 0.000631780973983011\n",
      "somewhat 0.0006316763325665434\n",
      "gadgets 0.0006315498283358207\n",
      "ears 0.0006314718932895621\n",
      "regretted 0.0006310663695762577\n",
      "speakerphone 0.0006307949173899025\n",
      "numbers 0.0006303221910363814\n",
      "purpose 0.0006298770156734586\n",
      "dissapointed 0.0006294847807677973\n",
      "free 0.0006292137566182452\n",
      "\n",
      "\n",
      "topic 1 : [0. 1. 0. 0. 0.]\n",
      "echo 0.000644964663961509\n",
      "speakerphone 0.0006354094770505684\n",
      "noted 0.000633974509663662\n",
      "died 0.0006333647269084327\n",
      "music 0.0006312707795136227\n",
      "controls 0.0006306776792956029\n",
      "e715 0.0006306574750786232\n",
      "absolutel 0.0006305492952554221\n",
      "awful 0.0006303984536323288\n",
      "looking 0.0006302364971139969\n",
      "flawlessly 0.0006301742043026613\n",
      "overly 0.0006292417618318936\n",
      "inexpensive 0.0006290120676221188\n",
      "lesson 0.0006289851352568824\n",
      "shiny 0.0006282460140366275\n",
      "\n",
      "\n",
      "topic 2 : [0. 0. 1. 0. 0.]\n",
      "looking 0.0006351542469455943\n",
      "shiny 0.0006345982322432521\n",
      "monkeys 0.0006340462791676931\n",
      "muddy 0.0006337478288186996\n",
      "wired 0.0006331783283573981\n",
      "make 0.0006327613953896223\n",
      "sent 0.0006319518198337131\n",
      "catching 0.0006313369035071719\n",
      "treo 0.000631249904628454\n",
      "needless 0.0006311369801726646\n",
      "scratched 0.0006306021514350573\n",
      "according 0.0006303292446246685\n",
      "free 0.0006302804370277849\n",
      "looses 0.0006302338289155135\n",
      "upstairs 0.0006295502872190275\n",
      "\n",
      "\n",
      "topic 3 : [0. 0. 0. 1. 0.]\n",
      "worst 0.0006363164451141168\n",
      "im 0.0006362138544369606\n",
      "procedure 0.0006340787998579356\n",
      "died 0.0006340760656205235\n",
      "awful 0.0006327014953280096\n",
      "bougth 0.0006323383837321751\n",
      "controls 0.0006321126426612296\n",
      "accessing 0.0006320936468324165\n",
      "spinn 0.0006320249678628126\n",
      "thorn 0.0006315681635955835\n",
      "50 0.0006315254856644577\n",
      "owned 0.0006312517908088278\n",
      "distorted 0.0006312073890609891\n",
      "replaced 0.0006310745582013346\n",
      "kindle 0.0006310572941923744\n",
      "\n",
      "\n",
      "topic 4 : [0. 0. 0. 0. 1.]\n",
      "controls 0.000638585217162162\n",
      "scratched 0.000635196104296228\n",
      "free 0.0006337887069105409\n",
      "latest 0.0006331876962256228\n",
      "ear 0.0006317071039992346\n",
      "overly 0.0006313994557513466\n",
      "3o 0.0006305517359854569\n",
      "volume 0.0006304673600755398\n",
      "weak 0.0006302632601822988\n",
      "18 0.000629815645507974\n",
      "friends 0.0006296251106947009\n",
      "counter 0.0006295249140388451\n",
      "managed 0.0006294715767974062\n",
      "shooters 0.0006294382951326242\n",
      "party 0.0006294361312221577\n",
      "\n",
      "\n"
     ]
    }
   ],
   "source": [
    "worddist( hiddenUnits, tf.vocabulary_)"
   ]
  },
  {
   "cell_type": "markdown",
   "metadata": {},
   "source": [
    "The output shows the probability assigned to each word for ever topic present."
   ]
  },
  {
   "cell_type": "code",
   "execution_count": null,
   "metadata": {},
   "outputs": [],
   "source": []
  },
  {
   "cell_type": "code",
   "execution_count": null,
   "metadata": {},
   "outputs": [],
   "source": []
  },
  {
   "cell_type": "code",
   "execution_count": null,
   "metadata": {},
   "outputs": [],
   "source": []
  }
 ],
 "metadata": {
  "anaconda-cloud": {},
  "kernelspec": {
   "display_name": "Python 3",
   "language": "python",
   "name": "python3"
  },
  "language_info": {
   "codemirror_mode": {
    "name": "ipython",
    "version": 3
   },
   "file_extension": ".py",
   "mimetype": "text/x-python",
   "name": "python",
   "nbconvert_exporter": "python",
   "pygments_lexer": "ipython3",
   "version": "3.7.3"
  }
 },
 "nbformat": 4,
 "nbformat_minor": 1
}
