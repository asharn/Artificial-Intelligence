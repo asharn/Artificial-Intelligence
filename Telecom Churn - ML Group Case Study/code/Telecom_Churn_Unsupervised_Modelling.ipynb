{
 "cells": [
  {
   "cell_type": "markdown",
   "metadata": {},
   "source": [
    "# Importing Required Library"
   ]
  },
  {
   "cell_type": "code",
   "execution_count": null,
   "metadata": {},
   "outputs": [],
   "source": [
    "# import numpy and pandas\n",
    "import pandas as pd\n",
    "import numpy as np\n",
    "\n",
    "# import libraries for plotting\n",
    "import matplotlib.pyplot as plt\n",
    "import seaborn as sns\n",
    "# do an inline so that plt.show() is not required everytime\n",
    "%matplotlib inline\n",
    "\n",
    "# import for pre-processing\n",
    "# scale (this is same as standard scalar)\n",
    "from sklearn.preprocessing import scale\n",
    "# label encoding\n",
    "from sklearn.preprocessing import LabelEncoder\n",
    "\n",
    "# import for model selection:\n",
    "# splitting data into training and test data (validation set)\n",
    "from sklearn.model_selection import train_test_split\n",
    "# import for creating K-folds\n",
    "from sklearn.model_selection import KFold\n",
    "# import for CV using folds created\n",
    "from sklearn.model_selection import cross_val_score\n",
    "# import for grid search cv for Hyperparameter tuning\n",
    "from sklearn.model_selection import GridSearchCV\n",
    "\n",
    "# for deleting unused variables\n",
    "import gc\n",
    "\n",
    "# filter warnings\n",
    "import os\n",
    "import warnings\n",
    "warnings.filterwarnings('ignore')"
   ]
  },
  {
   "cell_type": "code",
   "execution_count": null,
   "metadata": {},
   "outputs": [],
   "source": []
  }
 ],
 "metadata": {
  "kernelspec": {
   "display_name": "Python 3",
   "language": "python",
   "name": "python3"
  },
  "language_info": {
   "codemirror_mode": {
    "name": "ipython",
    "version": 3
   },
   "file_extension": ".py",
   "mimetype": "text/x-python",
   "name": "python",
   "nbconvert_exporter": "python",
   "pygments_lexer": "ipython3",
   "version": "3.7.1"
  }
 },
 "nbformat": 4,
 "nbformat_minor": 2
}
