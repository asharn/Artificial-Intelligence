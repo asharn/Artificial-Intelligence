{
 "cells": [
  {
   "cell_type": "markdown",
   "metadata": {},
   "source": [
    "# Importing Required Library"
   ]
  },
  {
   "cell_type": "code",
   "execution_count": 113,
   "metadata": {},
   "outputs": [],
   "source": [
    "## import numpy and pandas\n",
    "import pandas as pd\n",
    "import numpy as np\n",
    "\n",
    "## import libraries for plotting\n",
    "import matplotlib.pyplot as plt\n",
    "import seaborn as sns\n",
    "## do an inline so that plt.show() is not required everytime\n",
    "%matplotlib inline\n",
    "\n",
    "## import for pre-processing\n",
    "## scale (this is same as standard scalar)\n",
    "from sklearn.preprocessing import scale\n",
    "## label encoding\n",
    "from sklearn.preprocessing import LabelEncoder\n",
    "\n",
    "## import for model selection:\n",
    "## splitting data into training and test data (validation set)\n",
    "from sklearn.model_selection import train_test_split\n",
    "## import for creating K-folds\n",
    "from sklearn.model_selection import KFold\n",
    "## import for CV using folds created\n",
    "from sklearn.model_selection import cross_val_score\n",
    "## import for grid search cv for Hyperparameter tuning\n",
    "from sklearn.model_selection import GridSearchCV\n",
    "\n",
    "## for deleting unused variables\n",
    "import gc\n",
    "\n",
    "## filter warnings\n",
    "import os\n",
    "import warnings\n",
    "warnings.filterwarnings('ignore')\n",
    "\n",
    "# Until fuction: line seperator\n",
    "def print_dashes_and_ln():\n",
    "    print('-'*100, '\\n')\n",
    "    \n",
    "# Formatter to display all float format in 2 decimal format\n",
    "pd.options.display.float_format = '{:.2f}'.format"
   ]
  },
  {
   "cell_type": "markdown",
   "metadata": {},
   "source": [
    "# Loading data from csv file"
   ]
  },
  {
   "cell_type": "code",
   "execution_count": 114,
   "metadata": {},
   "outputs": [
    {
     "name": "stdout",
     "output_type": "stream",
     "text": [
      "Dataframe Shape:  (99999, 226)\n",
      "---------------------------------------------------------------------------------------------------- \n",
      "\n"
     ]
    },
    {
     "data": {
      "text/html": [
       "<div>\n",
       "<style scoped>\n",
       "    .dataframe tbody tr th:only-of-type {\n",
       "        vertical-align: middle;\n",
       "    }\n",
       "\n",
       "    .dataframe tbody tr th {\n",
       "        vertical-align: top;\n",
       "    }\n",
       "\n",
       "    .dataframe thead th {\n",
       "        text-align: right;\n",
       "    }\n",
       "</style>\n",
       "<table border=\"1\" class=\"dataframe\">\n",
       "  <thead>\n",
       "    <tr style=\"text-align: right;\">\n",
       "      <th></th>\n",
       "      <th>mobile_number</th>\n",
       "      <th>circle_id</th>\n",
       "      <th>loc_og_t2o_mou</th>\n",
       "      <th>std_og_t2o_mou</th>\n",
       "      <th>loc_ic_t2o_mou</th>\n",
       "      <th>last_date_of_month_6</th>\n",
       "      <th>last_date_of_month_7</th>\n",
       "      <th>last_date_of_month_8</th>\n",
       "      <th>last_date_of_month_9</th>\n",
       "      <th>arpu_6</th>\n",
       "      <th>...</th>\n",
       "      <th>sachet_3g_9</th>\n",
       "      <th>fb_user_6</th>\n",
       "      <th>fb_user_7</th>\n",
       "      <th>fb_user_8</th>\n",
       "      <th>fb_user_9</th>\n",
       "      <th>aon</th>\n",
       "      <th>aug_vbc_3g</th>\n",
       "      <th>jul_vbc_3g</th>\n",
       "      <th>jun_vbc_3g</th>\n",
       "      <th>sep_vbc_3g</th>\n",
       "    </tr>\n",
       "  </thead>\n",
       "  <tbody>\n",
       "    <tr>\n",
       "      <th>0</th>\n",
       "      <td>7000842753</td>\n",
       "      <td>109</td>\n",
       "      <td>0.00</td>\n",
       "      <td>0.00</td>\n",
       "      <td>0.00</td>\n",
       "      <td>6/30/2014</td>\n",
       "      <td>7/31/2014</td>\n",
       "      <td>8/31/2014</td>\n",
       "      <td>9/30/2014</td>\n",
       "      <td>197.38</td>\n",
       "      <td>...</td>\n",
       "      <td>0</td>\n",
       "      <td>1.00</td>\n",
       "      <td>1.00</td>\n",
       "      <td>1.00</td>\n",
       "      <td>nan</td>\n",
       "      <td>968</td>\n",
       "      <td>30.40</td>\n",
       "      <td>0.00</td>\n",
       "      <td>101.20</td>\n",
       "      <td>3.58</td>\n",
       "    </tr>\n",
       "    <tr>\n",
       "      <th>1</th>\n",
       "      <td>7001865778</td>\n",
       "      <td>109</td>\n",
       "      <td>0.00</td>\n",
       "      <td>0.00</td>\n",
       "      <td>0.00</td>\n",
       "      <td>6/30/2014</td>\n",
       "      <td>7/31/2014</td>\n",
       "      <td>8/31/2014</td>\n",
       "      <td>9/30/2014</td>\n",
       "      <td>34.05</td>\n",
       "      <td>...</td>\n",
       "      <td>0</td>\n",
       "      <td>nan</td>\n",
       "      <td>1.00</td>\n",
       "      <td>1.00</td>\n",
       "      <td>nan</td>\n",
       "      <td>1006</td>\n",
       "      <td>0.00</td>\n",
       "      <td>0.00</td>\n",
       "      <td>0.00</td>\n",
       "      <td>0.00</td>\n",
       "    </tr>\n",
       "    <tr>\n",
       "      <th>2</th>\n",
       "      <td>7001625959</td>\n",
       "      <td>109</td>\n",
       "      <td>0.00</td>\n",
       "      <td>0.00</td>\n",
       "      <td>0.00</td>\n",
       "      <td>6/30/2014</td>\n",
       "      <td>7/31/2014</td>\n",
       "      <td>8/31/2014</td>\n",
       "      <td>9/30/2014</td>\n",
       "      <td>167.69</td>\n",
       "      <td>...</td>\n",
       "      <td>0</td>\n",
       "      <td>nan</td>\n",
       "      <td>nan</td>\n",
       "      <td>nan</td>\n",
       "      <td>1.00</td>\n",
       "      <td>1103</td>\n",
       "      <td>0.00</td>\n",
       "      <td>0.00</td>\n",
       "      <td>4.17</td>\n",
       "      <td>0.00</td>\n",
       "    </tr>\n",
       "    <tr>\n",
       "      <th>3</th>\n",
       "      <td>7001204172</td>\n",
       "      <td>109</td>\n",
       "      <td>0.00</td>\n",
       "      <td>0.00</td>\n",
       "      <td>0.00</td>\n",
       "      <td>6/30/2014</td>\n",
       "      <td>7/31/2014</td>\n",
       "      <td>8/31/2014</td>\n",
       "      <td>9/30/2014</td>\n",
       "      <td>221.34</td>\n",
       "      <td>...</td>\n",
       "      <td>0</td>\n",
       "      <td>nan</td>\n",
       "      <td>nan</td>\n",
       "      <td>nan</td>\n",
       "      <td>nan</td>\n",
       "      <td>2491</td>\n",
       "      <td>0.00</td>\n",
       "      <td>0.00</td>\n",
       "      <td>0.00</td>\n",
       "      <td>0.00</td>\n",
       "    </tr>\n",
       "    <tr>\n",
       "      <th>4</th>\n",
       "      <td>7000142493</td>\n",
       "      <td>109</td>\n",
       "      <td>0.00</td>\n",
       "      <td>0.00</td>\n",
       "      <td>0.00</td>\n",
       "      <td>6/30/2014</td>\n",
       "      <td>7/31/2014</td>\n",
       "      <td>8/31/2014</td>\n",
       "      <td>9/30/2014</td>\n",
       "      <td>261.64</td>\n",
       "      <td>...</td>\n",
       "      <td>0</td>\n",
       "      <td>0.00</td>\n",
       "      <td>nan</td>\n",
       "      <td>nan</td>\n",
       "      <td>nan</td>\n",
       "      <td>1526</td>\n",
       "      <td>0.00</td>\n",
       "      <td>0.00</td>\n",
       "      <td>0.00</td>\n",
       "      <td>0.00</td>\n",
       "    </tr>\n",
       "  </tbody>\n",
       "</table>\n",
       "<p>5 rows × 226 columns</p>\n",
       "</div>"
      ],
      "text/plain": [
       "   mobile_number  circle_id  loc_og_t2o_mou  std_og_t2o_mou  loc_ic_t2o_mou  \\\n",
       "0     7000842753        109            0.00            0.00            0.00   \n",
       "1     7001865778        109            0.00            0.00            0.00   \n",
       "2     7001625959        109            0.00            0.00            0.00   \n",
       "3     7001204172        109            0.00            0.00            0.00   \n",
       "4     7000142493        109            0.00            0.00            0.00   \n",
       "\n",
       "  last_date_of_month_6 last_date_of_month_7 last_date_of_month_8  \\\n",
       "0            6/30/2014            7/31/2014            8/31/2014   \n",
       "1            6/30/2014            7/31/2014            8/31/2014   \n",
       "2            6/30/2014            7/31/2014            8/31/2014   \n",
       "3            6/30/2014            7/31/2014            8/31/2014   \n",
       "4            6/30/2014            7/31/2014            8/31/2014   \n",
       "\n",
       "  last_date_of_month_9  arpu_6     ...      sachet_3g_9  fb_user_6  fb_user_7  \\\n",
       "0            9/30/2014  197.38     ...                0       1.00       1.00   \n",
       "1            9/30/2014   34.05     ...                0        nan       1.00   \n",
       "2            9/30/2014  167.69     ...                0        nan        nan   \n",
       "3            9/30/2014  221.34     ...                0        nan        nan   \n",
       "4            9/30/2014  261.64     ...                0       0.00        nan   \n",
       "\n",
       "   fb_user_8  fb_user_9   aon  aug_vbc_3g  jul_vbc_3g  jun_vbc_3g  sep_vbc_3g  \n",
       "0       1.00        nan   968       30.40        0.00      101.20        3.58  \n",
       "1       1.00        nan  1006        0.00        0.00        0.00        0.00  \n",
       "2        nan       1.00  1103        0.00        0.00        4.17        0.00  \n",
       "3        nan        nan  2491        0.00        0.00        0.00        0.00  \n",
       "4        nan        nan  1526        0.00        0.00        0.00        0.00  \n",
       "\n",
       "[5 rows x 226 columns]"
      ]
     },
     "execution_count": 114,
     "metadata": {},
     "output_type": "execute_result"
    }
   ],
   "source": [
    "# Loading telecom churn data from telecom_churn_data.csv file\n",
    "telecom_orig = pd.read_csv('telecom_churn_data.csv')\n",
    "telecom = telecom_orig.copy()\n",
    "print('Dataframe Shape: ', telecom.shape); print_dashes_and_ln();\n",
    "telecom.head()"
   ]
  },
  {
   "cell_type": "code",
   "execution_count": 115,
   "metadata": {},
   "outputs": [
    {
     "name": "stdout",
     "output_type": "stream",
     "text": [
      "<class 'pandas.core.frame.DataFrame'>\n",
      "RangeIndex: 99999 entries, 0 to 99998\n",
      "Columns: 226 entries, mobile_number to sep_vbc_3g\n",
      "dtypes: float64(179), int64(35), object(12)\n",
      "memory usage: 172.4+ MB\n",
      "Data related Information:  None\n",
      "---------------------------------------------------------------------------------------------------- \n",
      "\n"
     ]
    }
   ],
   "source": [
    "# Understanding data type, columns, amount, etc\n",
    "print('Data related Information: ', telecom.info()); print_dashes_and_ln();"
   ]
  },
  {
   "cell_type": "markdown",
   "metadata": {},
   "source": [
    "After doing analysis on data and understanding business. We may come to understancd that those columns are more important. Whose column name contain rech_amt, rech_data, night_pck, fb_user as substring . So, firstly filling those columns with 0 as new category will help in further manupulation, cleaning and to determine the high value customers."
   ]
  },
  {
   "cell_type": "code",
   "execution_count": 123,
   "metadata": {},
   "outputs": [
    {
     "name": "stdout",
     "output_type": "stream",
     "text": [
      "Index(['total_rech_amt_6', 'total_rech_amt_7', 'total_rech_amt_8',\n",
      "       'total_rech_amt_9', 'max_rech_amt_6', 'max_rech_amt_7',\n",
      "       'max_rech_amt_8', 'max_rech_amt_9', 'date_of_last_rech_data_6',\n",
      "       'date_of_last_rech_data_7', 'date_of_last_rech_data_8',\n",
      "       'date_of_last_rech_data_9', 'total_rech_data_6', 'total_rech_data_7',\n",
      "       'total_rech_data_8', 'total_rech_data_9', 'max_rech_data_6',\n",
      "       'max_rech_data_7', 'max_rech_data_8', 'max_rech_data_9',\n",
      "       'av_rech_amt_data_6', 'av_rech_amt_data_7', 'av_rech_amt_data_8',\n",
      "       'av_rech_amt_data_9', 'night_pck_user_6', 'night_pck_user_7',\n",
      "       'night_pck_user_8', 'night_pck_user_9', 'fb_user_6', 'fb_user_7',\n",
      "       'fb_user_8', 'fb_user_9'],\n",
      "      dtype='object')\n",
      "---------------------------------------------------------------------------------------------------- \n",
      "\n"
     ]
    }
   ],
   "source": [
    "# let us first extract list of columns containing recharge amount\n",
    "imp_columns =  telecom.columns[telecom.columns.str.contains('rech_amt|rech_data|user')]\n",
    "\n",
    "print(imp_columns);print_dashes_and_ln();"
   ]
  },
  {
   "cell_type": "code",
   "execution_count": null,
   "metadata": {},
   "outputs": [],
   "source": []
  },
  {
   "cell_type": "markdown",
   "metadata": {},
   "source": [
    "# Data Cleaning and Filling missing value"
   ]
  },
  {
   "cell_type": "markdown",
   "metadata": {},
   "source": [
    "### Treating all Categorical Variables"
   ]
  },
  {
   "cell_type": "code",
   "execution_count": 95,
   "metadata": {},
   "outputs": [
    {
     "name": "stdout",
     "output_type": "stream",
     "text": [
      "Number of Columns dropped\t:  40\n",
      "---------------------------------------------------------------------------------------------------- \n",
      "\n"
     ]
    }
   ],
   "source": [
    "#1. Data Cleaning. ## Replacing Columns values with -1 as new category when > 70% Null Values\n",
    "#print('Total number of missing values in the DataFrame: ', telecom.isnull().values.sum());print_dashes_and_ln();\n",
    "#print('Checking percentage the column-wise distribution of null values: ', round(100*(telecom.isnull().sum()/len(telecom.index)), 2));print_dashes_and_ln();\n",
    "#categorical_vars = list(categorical_vars[categorical_vars.values>=0.7].index)\n",
    "#print('The columns that need to replace with new category as -1: ', colnames);print_dashes_and_ln();\n",
    "# Missing values can be imputed with '-1' \n",
    "# where -1 can be treated as a new category.\n",
    "#for var in categorical_vars:\n",
    "#    telecom[var].fillna(value=-1, inplace=True)\n",
    "    \n",
    "    \n",
    "#1. Data Cleaning. Removing Columns with > 70% Null Values\n",
    "colnames = (telecom.isnull().sum()/len(telecom))\n",
    "colnames = list(colnames[colnames.values>=0.7].index)\n",
    "telecom.drop(labels = colnames,axis =1,inplace=True)\n",
    "print(\"Number of Columns dropped\\t: \",len(colnames));print_dashes_and_ln();"
   ]
  },
  {
   "cell_type": "code",
   "execution_count": 96,
   "metadata": {},
   "outputs": [
    {
     "name": "stdout",
     "output_type": "stream",
     "text": [
      "So now we are left with (99999, 170) rows & columns.\n",
      "---------------------------------------------------------------------------------------------------- \n",
      "\n"
     ]
    }
   ],
   "source": [
    "#2. Data Cleaning. ## Removing Columns with single Unique Value\n",
    "unique = telecom.nunique()\n",
    "unique = unique[unique.values == 1]\n",
    "telecom.drop(labels = list(unique.index), axis =1, inplace=True)\n",
    "print(\"So now we are left with\",telecom.shape ,\"rows & columns.\"); print_dashes_and_ln();"
   ]
  },
  {
   "cell_type": "code",
   "execution_count": 97,
   "metadata": {},
   "outputs": [
    {
     "name": "stdout",
     "output_type": "stream",
     "text": [
      "Numeric \t:  Index(['mobile_number', 'arpu_6', 'arpu_7', 'arpu_8', 'arpu_9', 'onnet_mou_6',\n",
      "       'onnet_mou_7', 'onnet_mou_8', 'onnet_mou_9', 'offnet_mou_6',\n",
      "       ...\n",
      "       'monthly_3g_9', 'sachet_3g_6', 'sachet_3g_7', 'sachet_3g_8',\n",
      "       'sachet_3g_9', 'aon', 'aug_vbc_3g', 'jul_vbc_3g', 'jun_vbc_3g',\n",
      "       'sep_vbc_3g'],\n",
      "      dtype='object', length=166)\n",
      "---------------------------------------------------------------------------------------------------- \n",
      "\n",
      "Non-numeric Columns \t:  Index(['date_of_last_rech_6', 'date_of_last_rech_7', 'date_of_last_rech_8',\n",
      "       'date_of_last_rech_9'],\n",
      "      dtype='object')\n",
      "---------------------------------------------------------------------------------------------------- \n",
      "\n"
     ]
    }
   ],
   "source": [
    "#3. Columns by Data Type\n",
    "non_numeric_columns = telecom.select_dtypes(['object']).columns\n",
    "numeric_columns = telecom.select_dtypes(['number']).columns\n",
    "print(\"Numeric \\t: \",numeric_columns); print_dashes_and_ln();\n",
    "print(\"Non-numeric Columns \\t: \",non_numeric_columns); print_dashes_and_ln();\n",
    "\n"
   ]
  },
  {
   "cell_type": "code",
   "execution_count": null,
   "metadata": {},
   "outputs": [],
   "source": [
    "\n",
    "##Treating all non numerical columns or Categorical Variables\n",
    "\n",
    "There are 12 of them and all of these have more than 70% missing values. Missing values can be imputed with '-1' where -1 can be treated as a new category.\n",
    "\n",
    "CATEGORICAL VARIABLES:\n",
    "\n",
    "    night_pck_user_6\n",
    "    night_pck_user_7\n",
    "    night_pck_user_8\n",
    "    night_pck_user_9\n",
    "    fb_user_6\n",
    "    fb_user_7\n",
    "    fb_user_8\n",
    "    fb_user_9\n",
    "\n"
   ]
  },
  {
   "cell_type": "markdown",
   "metadata": {},
   "source": [
    "# Data Preparation"
   ]
  },
  {
   "cell_type": "markdown",
   "metadata": {},
   "source": [
    "## 1. Derive new features\n",
    "There are some importance variable which must have missing value. So, first lets create a new category."
   ]
  },
  {
   "cell_type": "code",
   "execution_count": null,
   "metadata": {},
   "outputs": [],
   "source": []
  },
  {
   "cell_type": "code",
   "execution_count": null,
   "metadata": {},
   "outputs": [],
   "source": []
  },
  {
   "cell_type": "code",
   "execution_count": null,
   "metadata": {},
   "outputs": [],
   "source": []
  },
  {
   "cell_type": "code",
   "execution_count": null,
   "metadata": {},
   "outputs": [],
   "source": []
  },
  {
   "cell_type": "code",
   "execution_count": null,
   "metadata": {},
   "outputs": [],
   "source": []
  },
  {
   "cell_type": "code",
   "execution_count": null,
   "metadata": {},
   "outputs": [],
   "source": []
  },
  {
   "cell_type": "code",
   "execution_count": null,
   "metadata": {},
   "outputs": [],
   "source": []
  }
 ],
 "metadata": {
  "kernelspec": {
   "display_name": "Python 3",
   "language": "python",
   "name": "python3"
  },
  "language_info": {
   "codemirror_mode": {
    "name": "ipython",
    "version": 3
   },
   "file_extension": ".py",
   "mimetype": "text/x-python",
   "name": "python",
   "nbconvert_exporter": "python",
   "pygments_lexer": "ipython3",
   "version": "3.7.1"
  }
 },
 "nbformat": 4,
 "nbformat_minor": 2
}
