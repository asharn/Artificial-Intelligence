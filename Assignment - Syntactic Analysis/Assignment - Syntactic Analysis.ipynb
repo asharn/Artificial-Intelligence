{
 "cells": [
  {
   "cell_type": "markdown",
   "metadata": {},
   "source": [
    "# Assignment - Syntactic Analysis\n",
    "\n",
    "## Problem Statement\n",
    "\n",
    "In this assignment, you need to modify the Viterbi algorithm to solve the problem of unknown words using at least two techniques. Though there could be multiple ways to solve this problem, you may use the following hints:\n",
    "\n",
    "   - Which tag class do you think most unknown words belong to? Can you identify rules (e.g. based on morphological cues) that can be used to tag unknown words? You may define separate python functions to exploit these rules so that they work in tandem with the original Viterbi algorithm.\n",
    "   - Why does the Viterbi algorithm choose a random tag on encountering an unknown word? Can you modify the Viterbi algorithm so that it considers only one of the transition or emission probabilities for unknown words?\n",
    "\n",
    "## Data\n",
    "\n",
    "For this assignment, you’ll use the Treebank dataset of NLTK with the 'universal' tagset. The Universal tagset of NLTK(https://www.nltk.org/_modules/nltk/tag/mapping.html) comprises only 12 coarse tag classes as follows: Verb, Noun, Pronouns, Adjectives, Adverbs, Adpositions, Conjunctions, Determiners, Cardinal Numbers, Particles, Other/ Foreign words, Punctuations.\n",
    "\n",
    "Note that using only 12 coarse classes (compared to the 46 fine classes such as NNP, VBD etc.) will make the Viterbi algorithm faster as well.\n",
    "\n",
    " \n",
    "\n",
    "## Goals\n",
    "\n",
    "You can split the Treebank dataset into train and validation sets. Please use a sample size of 95:5 for training: validation sets, i.e. keep the validation size small, else the algorithm will need a very high amount of runtime.\n",
    "\n",
    " \n",
    "\n",
    "You need to accomplish the following in this assignment:\n",
    "\n",
    " - Write the vanilla Viterbi algorithm for assigning POS tags (i.e. without dealing with unknown words) \n",
    " - Solve the problem of unknown words using at least two techniques. These techniques can use any of the approaches discussed in the class - lexicon, rule-based, probabilistic etc. Note that to implement these techniques, you can either write separate functions and call them from the main Viterbi algorithm, or modify the Viterbi algorithm, or both.\n",
    " - Compare the tagging accuracy after making these modifications with the vanilla Viterbi algorithm.\n",
    " - List down at least three cases from the sample test file (i.e. unknown word-tag pairs) which were incorrectly tagged by the original Viterbi POS tagger and got corrected after your modifications."
   ]
  },
  {
   "cell_type": "markdown",
   "metadata": {},
   "source": [
    "## POS tagging using modified Viterbi"
   ]
  },
  {
   "cell_type": "markdown",
   "metadata": {},
   "source": [
    "### Data Preparation"
   ]
  },
  {
   "cell_type": "code",
   "execution_count": 1,
   "metadata": {},
   "outputs": [],
   "source": [
    "### Importing libraries\n",
    "import nltk, re\n",
    "import numpy as np\n",
    "import pandas as pd\n",
    "import requests\n",
    "import matplotlib.pyplot as plt\n",
    "import seaborn as sns\n",
    "import pprint, time\n",
    "import random\n",
    "from sklearn.model_selection import train_test_split\n",
    "from nltk.tokenize import word_tokenize\n",
    "import codecs"
   ]
  },
  {
   "cell_type": "code",
   "execution_count": 2,
   "metadata": {},
   "outputs": [],
   "source": [
    "### Reading the Treebank tagged sentences\n",
    "nltk_data = list(nltk.corpus.treebank.tagged_sents(tagset='universal'))"
   ]
  },
  {
   "cell_type": "code",
   "execution_count": 3,
   "metadata": {},
   "outputs": [
    {
     "data": {
      "text/plain": [
       "[[('Pierre', 'NOUN'),\n",
       "  ('Vinken', 'NOUN'),\n",
       "  (',', '.'),\n",
       "  ('61', 'NUM'),\n",
       "  ('years', 'NOUN'),\n",
       "  ('old', 'ADJ'),\n",
       "  (',', '.'),\n",
       "  ('will', 'VERB'),\n",
       "  ('join', 'VERB'),\n",
       "  ('the', 'DET'),\n",
       "  ('board', 'NOUN'),\n",
       "  ('as', 'ADP'),\n",
       "  ('a', 'DET'),\n",
       "  ('nonexecutive', 'ADJ'),\n",
       "  ('director', 'NOUN'),\n",
       "  ('Nov.', 'NOUN'),\n",
       "  ('29', 'NUM'),\n",
       "  ('.', '.')],\n",
       " [('Mr.', 'NOUN'),\n",
       "  ('Vinken', 'NOUN'),\n",
       "  ('is', 'VERB'),\n",
       "  ('chairman', 'NOUN'),\n",
       "  ('of', 'ADP'),\n",
       "  ('Elsevier', 'NOUN'),\n",
       "  ('N.V.', 'NOUN'),\n",
       "  (',', '.'),\n",
       "  ('the', 'DET'),\n",
       "  ('Dutch', 'NOUN'),\n",
       "  ('publishing', 'VERB'),\n",
       "  ('group', 'NOUN'),\n",
       "  ('.', '.')],\n",
       " [('Rudolph', 'NOUN'),\n",
       "  ('Agnew', 'NOUN'),\n",
       "  (',', '.'),\n",
       "  ('55', 'NUM'),\n",
       "  ('years', 'NOUN'),\n",
       "  ('old', 'ADJ'),\n",
       "  ('and', 'CONJ'),\n",
       "  ('former', 'ADJ'),\n",
       "  ('chairman', 'NOUN'),\n",
       "  ('of', 'ADP'),\n",
       "  ('Consolidated', 'NOUN'),\n",
       "  ('Gold', 'NOUN'),\n",
       "  ('Fields', 'NOUN'),\n",
       "  ('PLC', 'NOUN'),\n",
       "  (',', '.'),\n",
       "  ('was', 'VERB'),\n",
       "  ('named', 'VERB'),\n",
       "  ('*-1', 'X'),\n",
       "  ('a', 'DET'),\n",
       "  ('nonexecutive', 'ADJ'),\n",
       "  ('director', 'NOUN'),\n",
       "  ('of', 'ADP'),\n",
       "  ('this', 'DET'),\n",
       "  ('British', 'ADJ'),\n",
       "  ('industrial', 'ADJ'),\n",
       "  ('conglomerate', 'NOUN'),\n",
       "  ('.', '.')]]"
      ]
     },
     "execution_count": 3,
     "metadata": {},
     "output_type": "execute_result"
    }
   ],
   "source": [
    "### First three sentences in te dataset\n",
    "nltk_data[:3]"
   ]
  },
  {
   "cell_type": "code",
   "execution_count": 4,
   "metadata": {},
   "outputs": [
    {
     "name": "stdout",
     "output_type": "stream",
     "text": [
      "3718\n",
      "196\n"
     ]
    },
    {
     "name": "stderr",
     "output_type": "stream",
     "text": [
      "/home/ash/anaconda3/lib/python3.7/site-packages/sklearn/model_selection/_split.py:2179: FutureWarning: From version 0.21, test_size will always complement train_size unless both are specified.\n",
      "  FutureWarning)\n"
     ]
    }
   ],
   "source": [
    "### Point the random seed as starting random value so that we can use in future.\n",
    "random.seed(1000)\n",
    "\n",
    "### Divide the data into training and test sets\n",
    "train_set, test_set = train_test_split(nltk_data,train_size=0.95)\n",
    "\n",
    "### Get the length of training and test sets\n",
    "print(len(train_set))\n",
    "print(len(test_set))"
   ]
  },
  {
   "cell_type": "code",
   "execution_count": 5,
   "metadata": {},
   "outputs": [
    {
     "data": {
      "text/plain": [
       "95708"
      ]
     },
     "execution_count": 5,
     "metadata": {},
     "output_type": "execute_result"
    }
   ],
   "source": [
    "### Fetching list of tagged words within training data set\n",
    "train_tagged_words = [tup for sent in train_set for tup in sent]\n",
    "\n",
    "### Fetch the length of the total tagged words within training data set\n",
    "len(train_tagged_words)"
   ]
  },
  {
   "cell_type": "code",
   "execution_count": 6,
   "metadata": {},
   "outputs": [
    {
     "data": {
      "text/plain": [
       "['Meanwhile', ',', 'the', 'bad', 'bank', 'with', 'the', 'junk', 'bonds', '--']"
      ]
     },
     "execution_count": 6,
     "metadata": {},
     "output_type": "execute_result"
    }
   ],
   "source": [
    "### Visualize the first 10 tokens/words in the training data set\n",
    "tokens = [pair[0] for pair in train_tagged_words]\n",
    "tokens[:10]"
   ]
  },
  {
   "cell_type": "code",
   "execution_count": 7,
   "metadata": {},
   "outputs": [
    {
     "name": "stdout",
     "output_type": "stream",
     "text": [
      "12097\n"
     ]
    }
   ],
   "source": [
    "### Fetching the total unique words within the training data set\n",
    "V_unique = set(tokens)\n",
    "print(len(V_unique))"
   ]
  },
  {
   "cell_type": "code",
   "execution_count": 8,
   "metadata": {},
   "outputs": [
    {
     "name": "stdout",
     "output_type": "stream",
     "text": [
      "12\n",
      "{'ADJ', 'VERB', 'X', 'PRT', 'PRON', 'NUM', 'ADV', '.', 'ADP', 'CONJ', 'NOUN', 'DET'}\n"
     ]
    }
   ],
   "source": [
    "### Number of pos tags in the training corpus\n",
    "T_number = set([pair[1] for pair in train_tagged_words])\n",
    "print(len(T_number))\n",
    "print(T_number)"
   ]
  },
  {
   "cell_type": "markdown",
   "metadata": {},
   "source": [
    "As expected there are only 12 tags which are part of universal tagset"
   ]
  },
  {
   "cell_type": "markdown",
   "metadata": {},
   "source": [
    "### Build the vanilla Viterbi based POS tagger"
   ]
  },
  {
   "cell_type": "code",
   "execution_count": 9,
   "metadata": {},
   "outputs": [],
   "source": [
    "### Creating numpy array of no of pos tags by total vocabulary\n",
    "t = len(T_number)\n",
    "v = len(V_unique)\n",
    "w_given_t = np.zeros((t, v))"
   ]
  },
  {
   "cell_type": "code",
   "execution_count": 10,
   "metadata": {},
   "outputs": [],
   "source": [
    "### Function to compute word given tag: *Emission Probability\n",
    "def word_given_tag(word, tag, train_bag = train_tagged_words):\n",
    "    tag_list = [pair for pair in train_bag if pair[1]==tag]\n",
    "    count_tag = len(tag_list)\n",
    "    w_given_tag_list = [pair[0] for pair in tag_list if pair[0]==word]\n",
    "    count_w_given_tag = len(w_given_tag_list)\n",
    "    \n",
    "    return (count_w_given_tag, count_tag)"
   ]
  },
  {
   "cell_type": "code",
   "execution_count": 11,
   "metadata": {},
   "outputs": [],
   "source": [
    "### Function to compute tag given tag: tag2(t2) given tag1 (t1), i.e. *Transition Probability\n",
    "\n",
    "def t2_given_t1(t2, t1, train_bag = train_tagged_words):\n",
    "    tags = [pair[1] for pair in train_bag]\n",
    "    count_t1 = len([t for t in tags if t==t1])\n",
    "    count_t2_t1 = 0\n",
    "    for index in range(len(tags)-1):\n",
    "        if tags[index]==t1 and tags[index+1] == t2:\n",
    "            count_t2_t1 += 1\n",
    "    return (count_t2_t1, count_t1)"
   ]
  },
  {
   "cell_type": "code",
   "execution_count": 12,
   "metadata": {},
   "outputs": [],
   "source": [
    "### Creating t x t (pos tags x pos tags) transition matrix of same tag\n",
    "### each column is t2, each row is t1\n",
    "### thus M(i, j) represents P(tj given ti)\n",
    "\n",
    "tags_matrix = np.zeros((len(T_number), len(T_number)), dtype='float32')\n",
    "for i, t1 in enumerate(list(T_number)):\n",
    "    for j, t2 in enumerate(list(T_number)): \n",
    "        tags_matrix[i, j] = t2_given_t1(t2, t1)[0]/t2_given_t1(t2, t1)[1]"
   ]
  },
  {
   "cell_type": "code",
   "execution_count": 13,
   "metadata": {},
   "outputs": [
    {
     "data": {
      "text/html": [
       "<div>\n",
       "<style scoped>\n",
       "    .dataframe tbody tr th:only-of-type {\n",
       "        vertical-align: middle;\n",
       "    }\n",
       "\n",
       "    .dataframe tbody tr th {\n",
       "        vertical-align: top;\n",
       "    }\n",
       "\n",
       "    .dataframe thead th {\n",
       "        text-align: right;\n",
       "    }\n",
       "</style>\n",
       "<table border=\"1\" class=\"dataframe\">\n",
       "  <thead>\n",
       "    <tr style=\"text-align: right;\">\n",
       "      <th></th>\n",
       "      <th>ADJ</th>\n",
       "      <th>VERB</th>\n",
       "      <th>X</th>\n",
       "      <th>PRT</th>\n",
       "      <th>PRON</th>\n",
       "      <th>NUM</th>\n",
       "      <th>ADV</th>\n",
       "      <th>.</th>\n",
       "      <th>ADP</th>\n",
       "      <th>CONJ</th>\n",
       "      <th>NOUN</th>\n",
       "      <th>DET</th>\n",
       "    </tr>\n",
       "  </thead>\n",
       "  <tbody>\n",
       "    <tr>\n",
       "      <th>ADJ</th>\n",
       "      <td>0.066260</td>\n",
       "      <td>0.011867</td>\n",
       "      <td>0.021592</td>\n",
       "      <td>0.011208</td>\n",
       "      <td>0.000659</td>\n",
       "      <td>0.020933</td>\n",
       "      <td>0.004780</td>\n",
       "      <td>0.063623</td>\n",
       "      <td>0.077468</td>\n",
       "      <td>0.016318</td>\n",
       "      <td>0.700511</td>\n",
       "      <td>0.004780</td>\n",
       "    </tr>\n",
       "    <tr>\n",
       "      <th>VERB</th>\n",
       "      <td>0.064846</td>\n",
       "      <td>0.170084</td>\n",
       "      <td>0.217287</td>\n",
       "      <td>0.031726</td>\n",
       "      <td>0.035441</td>\n",
       "      <td>0.022054</td>\n",
       "      <td>0.081947</td>\n",
       "      <td>0.035131</td>\n",
       "      <td>0.090768</td>\n",
       "      <td>0.005417</td>\n",
       "      <td>0.110578</td>\n",
       "      <td>0.134721</td>\n",
       "    </tr>\n",
       "    <tr>\n",
       "      <th>X</th>\n",
       "      <td>0.017362</td>\n",
       "      <td>0.203727</td>\n",
       "      <td>0.074227</td>\n",
       "      <td>0.184294</td>\n",
       "      <td>0.056547</td>\n",
       "      <td>0.002389</td>\n",
       "      <td>0.026282</td>\n",
       "      <td>0.163906</td>\n",
       "      <td>0.143995</td>\n",
       "      <td>0.010354</td>\n",
       "      <td>0.061962</td>\n",
       "      <td>0.054954</td>\n",
       "    </tr>\n",
       "    <tr>\n",
       "      <th>PRT</th>\n",
       "      <td>0.083360</td>\n",
       "      <td>0.399218</td>\n",
       "      <td>0.013676</td>\n",
       "      <td>0.001954</td>\n",
       "      <td>0.016933</td>\n",
       "      <td>0.055031</td>\n",
       "      <td>0.009769</td>\n",
       "      <td>0.042331</td>\n",
       "      <td>0.020840</td>\n",
       "      <td>0.002279</td>\n",
       "      <td>0.250733</td>\n",
       "      <td>0.103875</td>\n",
       "    </tr>\n",
       "    <tr>\n",
       "      <th>PRON</th>\n",
       "      <td>0.072636</td>\n",
       "      <td>0.487702</td>\n",
       "      <td>0.091852</td>\n",
       "      <td>0.012298</td>\n",
       "      <td>0.007686</td>\n",
       "      <td>0.007302</td>\n",
       "      <td>0.033051</td>\n",
       "      <td>0.041122</td>\n",
       "      <td>0.022291</td>\n",
       "      <td>0.004996</td>\n",
       "      <td>0.209454</td>\n",
       "      <td>0.009608</td>\n",
       "    </tr>\n",
       "    <tr>\n",
       "      <th>NUM</th>\n",
       "      <td>0.033893</td>\n",
       "      <td>0.016797</td>\n",
       "      <td>0.209958</td>\n",
       "      <td>0.026695</td>\n",
       "      <td>0.001500</td>\n",
       "      <td>0.184463</td>\n",
       "      <td>0.002999</td>\n",
       "      <td>0.117277</td>\n",
       "      <td>0.035393</td>\n",
       "      <td>0.013497</td>\n",
       "      <td>0.354529</td>\n",
       "      <td>0.002999</td>\n",
       "    </tr>\n",
       "    <tr>\n",
       "      <th>ADV</th>\n",
       "      <td>0.127737</td>\n",
       "      <td>0.345388</td>\n",
       "      <td>0.023889</td>\n",
       "      <td>0.012940</td>\n",
       "      <td>0.014930</td>\n",
       "      <td>0.031851</td>\n",
       "      <td>0.078633</td>\n",
       "      <td>0.136032</td>\n",
       "      <td>0.120106</td>\n",
       "      <td>0.007299</td>\n",
       "      <td>0.031188</td>\n",
       "      <td>0.070007</td>\n",
       "    </tr>\n",
       "    <tr>\n",
       "      <th>.</th>\n",
       "      <td>0.043502</td>\n",
       "      <td>0.088084</td>\n",
       "      <td>0.027110</td>\n",
       "      <td>0.002522</td>\n",
       "      <td>0.065658</td>\n",
       "      <td>0.081059</td>\n",
       "      <td>0.051968</td>\n",
       "      <td>0.092948</td>\n",
       "      <td>0.091327</td>\n",
       "      <td>0.056922</td>\n",
       "      <td>0.223903</td>\n",
       "      <td>0.174908</td>\n",
       "    </tr>\n",
       "    <tr>\n",
       "      <th>ADP</th>\n",
       "      <td>0.106501</td>\n",
       "      <td>0.008340</td>\n",
       "      <td>0.034645</td>\n",
       "      <td>0.001497</td>\n",
       "      <td>0.069504</td>\n",
       "      <td>0.061912</td>\n",
       "      <td>0.013259</td>\n",
       "      <td>0.039136</td>\n",
       "      <td>0.017002</td>\n",
       "      <td>0.000855</td>\n",
       "      <td>0.321322</td>\n",
       "      <td>0.326027</td>\n",
       "    </tr>\n",
       "    <tr>\n",
       "      <th>CONJ</th>\n",
       "      <td>0.115295</td>\n",
       "      <td>0.158996</td>\n",
       "      <td>0.007903</td>\n",
       "      <td>0.004649</td>\n",
       "      <td>0.059042</td>\n",
       "      <td>0.040446</td>\n",
       "      <td>0.055323</td>\n",
       "      <td>0.033938</td>\n",
       "      <td>0.053464</td>\n",
       "      <td>0.000465</td>\n",
       "      <td>0.351929</td>\n",
       "      <td>0.118550</td>\n",
       "    </tr>\n",
       "    <tr>\n",
       "      <th>NOUN</th>\n",
       "      <td>0.012149</td>\n",
       "      <td>0.147248</td>\n",
       "      <td>0.028991</td>\n",
       "      <td>0.044233</td>\n",
       "      <td>0.004729</td>\n",
       "      <td>0.009530</td>\n",
       "      <td>0.017242</td>\n",
       "      <td>0.239424</td>\n",
       "      <td>0.176058</td>\n",
       "      <td>0.043105</td>\n",
       "      <td>0.264523</td>\n",
       "      <td>0.012768</td>\n",
       "    </tr>\n",
       "    <tr>\n",
       "      <th>DET</th>\n",
       "      <td>0.205960</td>\n",
       "      <td>0.040375</td>\n",
       "      <td>0.045782</td>\n",
       "      <td>0.000240</td>\n",
       "      <td>0.003244</td>\n",
       "      <td>0.021629</td>\n",
       "      <td>0.012377</td>\n",
       "      <td>0.017183</td>\n",
       "      <td>0.009012</td>\n",
       "      <td>0.000481</td>\n",
       "      <td>0.638308</td>\n",
       "      <td>0.005407</td>\n",
       "    </tr>\n",
       "  </tbody>\n",
       "</table>\n",
       "</div>"
      ],
      "text/plain": [
       "           ADJ      VERB         X       PRT      PRON       NUM       ADV  \\\n",
       "ADJ   0.066260  0.011867  0.021592  0.011208  0.000659  0.020933  0.004780   \n",
       "VERB  0.064846  0.170084  0.217287  0.031726  0.035441  0.022054  0.081947   \n",
       "X     0.017362  0.203727  0.074227  0.184294  0.056547  0.002389  0.026282   \n",
       "PRT   0.083360  0.399218  0.013676  0.001954  0.016933  0.055031  0.009769   \n",
       "PRON  0.072636  0.487702  0.091852  0.012298  0.007686  0.007302  0.033051   \n",
       "NUM   0.033893  0.016797  0.209958  0.026695  0.001500  0.184463  0.002999   \n",
       "ADV   0.127737  0.345388  0.023889  0.012940  0.014930  0.031851  0.078633   \n",
       ".     0.043502  0.088084  0.027110  0.002522  0.065658  0.081059  0.051968   \n",
       "ADP   0.106501  0.008340  0.034645  0.001497  0.069504  0.061912  0.013259   \n",
       "CONJ  0.115295  0.158996  0.007903  0.004649  0.059042  0.040446  0.055323   \n",
       "NOUN  0.012149  0.147248  0.028991  0.044233  0.004729  0.009530  0.017242   \n",
       "DET   0.205960  0.040375  0.045782  0.000240  0.003244  0.021629  0.012377   \n",
       "\n",
       "             .       ADP      CONJ      NOUN       DET  \n",
       "ADJ   0.063623  0.077468  0.016318  0.700511  0.004780  \n",
       "VERB  0.035131  0.090768  0.005417  0.110578  0.134721  \n",
       "X     0.163906  0.143995  0.010354  0.061962  0.054954  \n",
       "PRT   0.042331  0.020840  0.002279  0.250733  0.103875  \n",
       "PRON  0.041122  0.022291  0.004996  0.209454  0.009608  \n",
       "NUM   0.117277  0.035393  0.013497  0.354529  0.002999  \n",
       "ADV   0.136032  0.120106  0.007299  0.031188  0.070007  \n",
       ".     0.092948  0.091327  0.056922  0.223903  0.174908  \n",
       "ADP   0.039136  0.017002  0.000855  0.321322  0.326027  \n",
       "CONJ  0.033938  0.053464  0.000465  0.351929  0.118550  \n",
       "NOUN  0.239424  0.176058  0.043105  0.264523  0.012768  \n",
       "DET   0.017183  0.009012  0.000481  0.638308  0.005407  "
      ]
     },
     "execution_count": 13,
     "metadata": {},
     "output_type": "execute_result"
    }
   ],
   "source": [
    "### Converting the matrix to a df for better readability.\n",
    "tags_df = pd.DataFrame(tags_matrix, columns = list(T_number), index=list(T_number))\n",
    "tags_df"
   ]
  },
  {
   "cell_type": "code",
   "execution_count": 14,
   "metadata": {},
   "outputs": [
    {
     "data": {
      "image/png": "[encoded data removed]",
      "text/plain": [
       "<Figure size 1296x864 with 2 Axes>"
      ]
     },
     "metadata": {
      "needs_background": "light"
     },
     "output_type": "display_data"
    }
   ],
   "source": [
    "### Visualization of heatmap of tags matrix\n",
    "# T(i, j) indicates P(tag j given tag i)\n",
    "plt.figure(figsize=(18, 12))\n",
    "sns.heatmap(tags_df)\n",
    "plt.show()"
   ]
  },
  {
   "cell_type": "code",
   "execution_count": 15,
   "metadata": {},
   "outputs": [
    {
     "data": {
      "image/png": "[encoded data removed]",
      "text/plain": [
       "<Figure size 1296x864 with 2 Axes>"
      ]
     },
     "metadata": {
      "needs_background": "light"
     },
     "output_type": "display_data"
    }
   ],
   "source": [
    "### Understanding frequency of tags\n",
    "### and filter the df to get P(t2, t1) > 0.5\n",
    "tags_frequent = tags_df[tags_df>0.5]\n",
    "plt.figure(figsize=(18, 12))\n",
    "sns.heatmap(tags_frequent)\n",
    "plt.show()"
   ]
  },
  {
   "cell_type": "markdown",
   "metadata": {},
   "source": [
    "Clearly as expected Noun and Adjective and Noun and Determinent are highly correlated. Most often nouns are followed by adjectives and detectives"
   ]
  },
  {
   "cell_type": "code",
   "execution_count": 16,
   "metadata": {},
   "outputs": [
    {
     "data": {
      "text/plain": [
       "95708"
      ]
     },
     "execution_count": 16,
     "metadata": {},
     "output_type": "execute_result"
    }
   ],
   "source": [
    "### Fetching the total length of tagged words in training corpus data\n",
    "len(train_tagged_words)"
   ]
  },
  {
   "cell_type": "code",
   "execution_count": 17,
   "metadata": {},
   "outputs": [],
   "source": [
    "### Modified version of Viterbi Heuristic function to solve current problem.\n",
    "def Viterbi(words, train_bag = train_tagged_words):\n",
    "    state = []\n",
    "    T = list(set([pair[1] for pair in train_bag]))\n",
    "    \n",
    "    for key, word in enumerate(words):\n",
    "        ### initialising list of probability column for a given observation\n",
    "        p = [] \n",
    "        for tag in T:\n",
    "            if key == 0:\n",
    "                transition_p = tags_df.loc['.', tag]\n",
    "            else:\n",
    "                transition_p = tags_df.loc[state[-1], tag]\n",
    "                \n",
    "            ### Computing emission and state probabilities\n",
    "            emission_p = word_given_tag(words[key], tag)[0]/word_given_tag(words[key], tag)[1]\n",
    "            state_probability = emission_p * transition_p    \n",
    "            p.append(state_probability)\n",
    "            \n",
    "        pmax = max(p)\n",
    "        ### Getting state for which probability is maximum\n",
    "        state_max = T[p.index(pmax)] \n",
    "        state.append(state_max)\n",
    "    return list(zip(words, state))"
   ]
  },
  {
   "cell_type": "code",
   "execution_count": 18,
   "metadata": {},
   "outputs": [],
   "source": [
    "### Running on entire test dataset would take more than 3-4 hours so better test on sample of data set. \n",
    "### Let's test our Viterbi algorithm on a few sample sentences of test dataset\n",
    "\n",
    "### List of tagged words in test set\n",
    "test_run_base = [tup for sent in test_set for tup in sent]\n",
    "\n",
    "### List of  words which are untagged in test set\n",
    "test_tagged_words = [tup[0] for sent in test_set for tup in sent]"
   ]
  },
  {
   "cell_type": "code",
   "execution_count": 19,
   "metadata": {},
   "outputs": [],
   "source": [
    "### Tagging the test sentences\n",
    "start = time.time()\n",
    "tagged_seq = Viterbi(test_tagged_words)\n",
    "end = time.time()\n",
    "difference = end-start"
   ]
  },
  {
   "cell_type": "code",
   "execution_count": 20,
   "metadata": {},
   "outputs": [
    {
     "name": "stdout",
     "output_type": "stream",
     "text": [
      "2175.0269346237183\n"
     ]
    }
   ],
   "source": [
    "### Printing total time taken to train the algorithm to see performance\n",
    "print(difference)"
   ]
  },
  {
   "cell_type": "code",
   "execution_count": 21,
   "metadata": {},
   "outputs": [
    {
     "name": "stdout",
     "output_type": "stream",
     "text": [
      "0.9198872785829307\n"
     ]
    }
   ],
   "source": [
    "### Fetching accuracy of build model.\n",
    "check = [i for i, j in zip(tagged_seq, test_run_base) if i == j] \n",
    "accuracy = len(check)/len(tagged_seq)\n",
    "print(accuracy)"
   ]
  },
  {
   "cell_type": "markdown",
   "metadata": {},
   "source": [
    "We get around 90% of accuracy with the default Viterbi algorithm.\n",
    "\n",
    "Let's compare with the test sentences and see how it tagged the sentences"
   ]
  },
  {
   "cell_type": "code",
   "execution_count": 22,
   "metadata": {},
   "outputs": [
    {
     "name": "stdout",
     "output_type": "stream",
     "text": [
      "Android is a mobile operating system developed by Google.\r\n",
      "\n",
      "Android has been the best-selling OS worldwide on smartphones since 2011 and on tablets since 2013.\r\n",
      "\n",
      "Google and Twitter made a deal in 2015 that gave Google access to Twitter's firehose.\r\n",
      "\n",
      "Twitter is an online news and social networking service on which users post and interact with messages known as tweets.\r\n",
      "\n",
      "Before entering politics, Donald Trump was a domineering businessman and a television personality.\r\n",
      "\n",
      "The 2018 FIFA World Cup is the 21st FIFA World Cup, an international football tournament contested once every four years.\r\n",
      "\n",
      "This is the first World Cup to be held in Eastern Europe and the 11th time that it has been held in Europe.\r\n",
      "\n",
      "Show me the cheapest round trips from Dallas to Atlanta\r\n",
      "\n",
      "I would like to see flights from Denver to Philadelphia.\r\n",
      "\n",
      "Show me the price of the flights leaving Atlanta at about 3 in the afternoon and arriving in San Francisco.\r\n",
      "\n",
      "NASA invited social media users to experience the launch of ICESAT-2 Satellite.\r\n",
      "\n",
      "\r\n",
      "\n",
      "\r\n",
      "\n",
      "\r\n",
      "\n"
     ]
    }
   ],
   "source": [
    "### Reading the Test sentence text file\n",
    "lines=[]\n",
    "f = codecs.open(\"Test_sentences.txt\", encoding='utf-8')\n",
    "for line in f:\n",
    "    print(line)\n",
    "    lines.append(line)"
   ]
  },
  {
   "cell_type": "markdown",
   "metadata": {},
   "source": [
    "### Solve the problem of unknown words"
   ]
  },
  {
   "cell_type": "code",
   "execution_count": 23,
   "metadata": {},
   "outputs": [
    {
     "data": {
      "text/plain": [
       "['Android is a mobile operating system developed by Google.\\r\\n',\n",
       " 'Android has been the best-selling OS worldwide on smartphones since 2011 and on tablets since 2013.\\r\\n',\n",
       " \"Google and Twitter made a deal in 2015 that gave Google access to Twitter's firehose.\\r\\n\",\n",
       " 'Twitter is an online news and social networking service on which users post and interact with messages known as tweets.\\r\\n',\n",
       " 'Before entering politics, Donald Trump was a domineering businessman and a television personality.\\r\\n',\n",
       " 'The 2018 FIFA World Cup is the 21st FIFA World Cup, an international football tournament contested once every four years.\\r\\n',\n",
       " 'This is the first World Cup to be held in Eastern Europe and the 11th time that it has been held in Europe.\\r\\n',\n",
       " 'Show me the cheapest round trips from Dallas to Atlanta\\r\\n',\n",
       " 'I would like to see flights from Denver to Philadelphia.\\r\\n',\n",
       " 'Show me the price of the flights leaving Atlanta at about 3 in the afternoon and arriving in San Francisco.\\r\\n',\n",
       " 'NASA invited social media users to experience the launch of ICESAT-2 Satellite.\\r\\n',\n",
       " '\\r\\n',\n",
       " '\\r\\n',\n",
       " '\\r\\n']"
      ]
     },
     "execution_count": 23,
     "metadata": {},
     "output_type": "execute_result"
    }
   ],
   "source": [
    "lines"
   ]
  },
  {
   "cell_type": "code",
   "execution_count": 24,
   "metadata": {},
   "outputs": [
    {
     "data": {
      "text/plain": [
       "['Android is a mobile operating system developed by Google.',\n",
       " 'Android has been the best-selling OS worldwide on smartphones since 2011 and on tablets since 2013.',\n",
       " \"Google and Twitter made a deal in 2015 that gave Google access to Twitter's firehose.\",\n",
       " 'Twitter is an online news and social networking service on which users post and interact with messages known as tweets.',\n",
       " 'Before entering politics, Donald Trump was a domineering businessman and a television personality.',\n",
       " 'The 2018 FIFA World Cup is the 21st FIFA World Cup, an international football tournament contested once every four years.',\n",
       " 'This is the first World Cup to be held in Eastern Europe and the 11th time that it has been held in Europe.',\n",
       " 'Show me the cheapest round trips from Dallas to Atlanta',\n",
       " 'I would like to see flights from Denver to Philadelphia.',\n",
       " 'Show me the price of the flights leaving Atlanta at about 3 in the afternoon and arriving in San Francisco.',\n",
       " 'NASA invited social media users to experience the launch of ICESAT-2 Satellite.']"
      ]
     },
     "execution_count": 24,
     "metadata": {},
     "output_type": "execute_result"
    }
   ],
   "source": [
    "### Striping the special characters and empty strings in the list file\n",
    "test_lines =[sent.rstrip() for sent in lines if sent.rstrip()!='']\n",
    "test_lines"
   ]
  },
  {
   "cell_type": "code",
   "execution_count": 25,
   "metadata": {},
   "outputs": [
    {
     "data": {
      "text/plain": [
       "[[('$', '.'), (('47.5', 'ADJ'), ('47.5', 'NUM'))],\n",
       " [('to', 'PRT'), (('end', 'NOUN'), ('end', 'VERB'))],\n",
       " [('The', 'DET'), (('Huntsville', 'ADJ'), ('Huntsville', 'NOUN'))],\n",
       " [(',', '.'), (('Ala.', 'ADJ'), ('Ala.', 'NOUN'))],\n",
       " [('``', '.'), (('Particularly', 'ADJ'), ('Particularly', 'ADV'))],\n",
       " [('numerous', 'ADJ'), (('failures', 'ADJ'), ('failures', 'NOUN'))],\n",
       " [('to', 'PRT'), (('properly', 'ADJ'), ('properly', 'ADV'))],\n",
       " [('properly', 'ADV'), (('record', 'NOUN'), ('record', 'VERB'))],\n",
       " [('in', 'ADP'), (('spite', 'ADJ'), ('spite', 'NOUN'))],\n",
       " [('the', 'DET'), (('firm', 'NOUN'), ('firm', 'ADJ'))],\n",
       " [('to', 'PRT'), (('correct', 'ADJ'), ('correct', 'VERB'))],\n",
       " [('of', 'ADP'), (('0.50', 'ADJ'), ('0.50', 'NUM'))],\n",
       " [('to', 'PRT'), (('14.00', 'ADJ'), ('14.00', 'NUM'))],\n",
       " [('Both', 'DET'), (('Deryck', 'ADJ'), ('Deryck', 'NOUN'))],\n",
       " [('who', 'PRON'), (('*T*-256', 'ADJ'), ('*T*-256', 'X'))],\n",
       " [('*T*-256', 'X'), (('heads', 'NOUN'), ('heads', 'VERB'))],\n",
       " [('S.', 'NOUN'), (('Wadsworth', 'ADJ'), ('Wadsworth', 'NOUN'))],\n",
       " [('who', 'PRON'), (('*T*-257', 'ADJ'), ('*T*-257', 'X'))],\n",
       " [('*T*-257', 'X'), (('heads', 'NOUN'), ('heads', 'VERB'))],\n",
       " [('Stanley', 'NOUN'), (('there', 'DET'), ('there', 'ADV'))],\n",
       " [(',', '.'), (('ascribe', 'ADJ'), ('ascribe', 'VERB'))],\n",
       " [('to', 'PRT'), (('offer', 'NOUN'), ('offer', 'VERB'))],\n",
       " [('was', 'VERB'), (('8.12', 'ADJ'), ('8.12', 'NUM'))],\n",
       " [('from', 'ADP'), (('8.14', 'ADJ'), ('8.14', 'NUM'))],\n",
       " [('had', 'VERB'), (('no', 'DET'), ('no', 'ADV'))],\n",
       " [('the', 'DET'), (('municipality', 'ADJ'), ('municipality', 'NOUN'))],\n",
       " [(',', '.'), (('pretax', 'NOUN'), ('pretax', 'ADJ'))],\n",
       " [('$', '.'), (('107.9', 'ADJ'), ('107.9', 'NUM'))],\n",
       " [('$', '.'), (('96.4', 'ADJ'), ('96.4', 'NUM'))],\n",
       " [('.', '.'), (('Garret', 'ADJ'), ('Garret', 'NOUN'))],\n",
       " [('*T*-11', 'X'), (('teaches', 'ADJ'), ('teaches', 'VERB'))],\n",
       " [('at', 'ADP'), (('Earlham', 'ADJ'), ('Earlham', 'NOUN'))],\n",
       " [('one', 'NUM'), (('that', 'ADP'), ('that', 'DET'))],\n",
       " [('*T*-1', 'X'), (('blocks', 'NOUN'), ('blocks', 'VERB'))],\n",
       " [('a', 'DET'), (('planner', 'ADJ'), ('planner', 'NOUN'))],\n",
       " [('of', 'ADP'), (('fronts', 'ADJ'), ('fronts', 'NOUN'))],\n",
       " [('increasing', 'VERB'), (('trade', 'VERB'), ('trade', 'NOUN'))],\n",
       " [('trade', 'NOUN'), (('flows', 'VERB'), ('flows', 'NOUN'))],\n",
       " [('many', 'ADJ'), (('emerging', 'ADJ'), ('emerging', 'VERB'))],\n",
       " [('have', 'VERB'), (('outpaced', 'ADJ'), ('outpaced', 'VERB'))],\n",
       " [('outpaced', 'VERB'), (('more', 'ADJ'), ('more', 'ADV'))],\n",
       " [('more', 'ADV'), (('mature', 'VERB'), ('mature', 'ADJ'))],\n",
       " [('a', 'DET'), (('bargain', 'ADJ'), ('bargain', 'NOUN'))],\n",
       " [('very', 'ADV'), (('complicated', 'ADJ'), ('complicated', 'VERB'))],\n",
       " [('What', 'PRON'), (('*T*-247', 'ADJ'), ('*T*-247', 'X'))],\n",
       " [('*T*-247', 'X'), ((\"'s\", 'PRT'), (\"'s\", 'VERB'))],\n",
       " [('officials', 'NOUN'), (('voice', 'NOUN'), ('voice', 'VERB'))],\n",
       " [('also', 'ADV'), (('convey', 'ADJ'), ('convey', 'VERB'))],\n",
       " [('an', 'DET'), (('undertone', 'ADJ'), ('undertone', 'NOUN'))],\n",
       " [('revenue-desperate', 'ADJ'), (('magazines', 'ADJ'), ('magazines', 'NOUN'))],\n",
       " [('*-1', 'X'), (('fawning', 'ADJ'), ('fawning', 'VERB'))],\n",
       " [('in', 'ADP'), (('articles', 'ADJ'), ('articles', 'NOUN'))],\n",
       " [('and', 'CONJ'), (('offering', 'NOUN'), ('offering', 'VERB'))],\n",
       " [('market', 'NOUN'), (('crises', 'ADJ'), ('crises', 'NOUN'))],\n",
       " [('.', '.'), (('Orders', 'ADJ'), ('Orders', 'NOUN'))],\n",
       " [('up', 'ADV'), (('0.2', 'ADJ'), ('0.2', 'NUM'))],\n",
       " [('$', '.'), (('127.03', 'ADJ'), ('127.03', 'NUM'))],\n",
       " [('month', 'NOUN'), (('before', 'ADP'), ('before', 'ADV'))],\n",
       " [('wine', 'NOUN'), (('that', 'ADP'), ('that', 'DET'))],\n",
       " [('that', 'DET'), (('*T*-167', 'ADJ'), ('*T*-167', 'X'))],\n",
       " [('*T*-167', 'X'), (('wins', 'ADJ'), ('wins', 'VERB'))],\n",
       " [('tons', 'NOUN'), (('that', 'ADP'), ('that', 'DET'))],\n",
       " [('*T*-2', 'X'), (('Judith', 'ADJ'), ('Judith', 'NOUN'))],\n",
       " [('*-1', 'X'), (('sliding', 'ADJ'), ('sliding', 'VERB'))],\n",
       " [('dividends', 'NOUN'), (('that', 'ADP'), ('that', 'DET'))],\n",
       " [(\"'s\", 'PRT'), (('attempt', 'VERB'), ('attempt', 'NOUN'))],\n",
       " [('*', 'X'), (('guarding', 'ADJ'), ('guarding', 'VERB'))],\n",
       " [('public', 'ADJ'), (('purse', 'ADJ'), ('purse', 'NOUN'))],\n",
       " [('agency', 'NOUN'), (('that', 'ADP'), ('that', 'DET'))],\n",
       " [('*T*-1', 'X'), (('broadcasts', 'NOUN'), ('broadcasts', 'VERB'))],\n",
       " [('43', 'NUM'), (('languages', 'ADJ'), ('languages', 'NOUN'))],\n",
       " [('million', 'NUM'), (('listeners', 'ADJ'), ('listeners', 'NOUN'))],\n",
       " [('of', 'ADP'), (('Marina', 'ADJ'), ('Marina', 'NOUN'))],\n",
       " [('Marina', 'NOUN'), (('del', 'ADJ'), ('del', 'DET'))],\n",
       " [('del', 'DET'), (('Rey', 'ADJ'), ('Rey', 'NOUN'))],\n",
       " [('for', 'ADP'), (('alleged', 'ADJ'), ('alleged', 'VERB'))],\n",
       " [('of', 'ADP'), (('reporting', 'NOUN'), ('reporting', 'VERB'))],\n",
       " [('that', 'ADP'), (('net', 'ADJ'), ('net', 'NOUN'))],\n",
       " [(\"'s\", 'PRT'), (('net', 'ADJ'), ('net', 'NOUN'))],\n",
       " [('$', '.'), (('2.19', 'ADJ'), ('2.19', 'NUM'))],\n",
       " [('The', 'DET'), (('average', 'ADJ'), ('average', 'NOUN'))],\n",
       " [('on', 'ADP'), (('quotations', 'ADJ'), ('quotations', 'NOUN'))],\n",
       " [('being', 'VERB'), (('influenced', 'ADJ'), ('influenced', 'VERB'))],\n",
       " [('*-1', 'X'), (('more', 'ADV'), ('more', 'ADJ'))],\n",
       " [('William', 'NOUN'), ((\"O'Neill\", 'ADJ'), (\"O'Neill\", 'NOUN'))],\n",
       " [('at', 'ADP'), (('Elders', 'ADJ'), ('Elders', 'NOUN'))],\n",
       " [('The', 'DET'), (('Soviet', 'ADJ'), ('Soviet', 'NOUN'))],\n",
       " [('wants', 'VERB'), (('much', 'ADV'), ('much', 'ADJ'))],\n",
       " [('a', 'DET'), (('strain', 'ADJ'), ('strain', 'NOUN'))],\n",
       " [('Ohio', 'NOUN'), (('Mattress', 'ADJ'), ('Mattress', 'NOUN'))],\n",
       " [('junk', 'NOUN'), (('financing', 'VERB'), ('financing', 'NOUN'))],\n",
       " [('the', 'DET'), (('bedding', 'ADJ'), ('bedding', 'NOUN'))],\n",
       " [('.', '.'), (('DISCOUNT', 'ADJ'), ('DISCOUNT', 'NOUN'))],\n",
       " [('.', '.'), (('Pakistan', 'ADJ'), ('Pakistan', 'NOUN'))],\n",
       " [(\"'s\", 'PRT'), (('Bhutto', 'ADJ'), ('Bhutto', 'NOUN'))],\n",
       " [('Bhutto', 'NOUN'), (('defeated', 'ADJ'), ('defeated', 'VERB'))],\n",
       " [('first', 'ADJ'), (('no-confidence', 'ADJ'), ('no-confidence', 'NOUN'))],\n",
       " [('vote', 'NOUN'), (('that', 'ADP'), ('that', 'DET'))],\n",
       " [('brought', 'VERB'), (('down', 'ADV'), ('down', 'PRT'))],\n",
       " [('yield', 'VERB'), (('7.65', 'ADJ'), ('7.65', 'NUM'))],\n",
       " [('of', 'ADP'), (('ingredients', 'ADJ'), ('ingredients', 'NOUN'))],\n",
       " [('business', 'NOUN'), (('as', 'ADP'), ('as', 'ADV'))],\n",
       " [('of', 'ADP'), (('858,000', 'ADJ'), ('858,000', 'NUM'))],\n",
       " [('make', 'VERB'), (('such', 'ADJ'), ('such', 'DET'))],\n",
       " [('disturbing', 'ADJ'), (('developments', 'ADJ'), ('developments', 'NOUN'))],\n",
       " [('continuing', 'VERB'), (('slow', 'VERB'), ('slow', 'ADJ'))],\n",
       " [('year', 'NOUN'), (('earlier', 'ADV'), ('earlier', 'ADJ'))],\n",
       " [('due', 'ADJ'), (('1995', 'ADJ'), ('1995', 'NUM'))],\n",
       " [('fell', 'VERB'), (('9\\\\/32', 'ADJ'), ('9\\\\/32', 'NUM'))],\n",
       " [('to', 'PRT'), (('103', 'ADJ'), ('103', 'NUM'))],\n",
       " [('yield', 'VERB'), (('11.10', 'ADJ'), ('11.10', 'NUM'))],\n",
       " [('which', 'DET'), (('there', 'ADV'), ('there', 'DET'))],\n",
       " [('economic', 'ADJ'), (('slowdowns', 'ADJ'), ('slowdowns', 'NOUN'))],\n",
       " [('--', '.'), (('the', 'DET'), ('the', 'ADJ'))],\n",
       " [('--', '.'), (('the', 'DET'), ('the', 'ADJ'))],\n",
       " [('Thomas', 'NOUN'), (('Doerflinger', 'ADJ'), ('Doerflinger', 'NOUN'))],\n",
       " [('The', 'DET'), (('Perch', 'ADJ'), ('Perch', 'NOUN'))],\n",
       " [('and', 'CONJ'), (('Dolphin', 'ADJ'), ('Dolphin', 'NOUN'))],\n",
       " [('producing', 'VERB'), (('early', 'ADV'), ('early', 'ADJ'))],\n",
       " [('the', 'DET'), (('Seahorse', 'ADJ'), ('Seahorse', 'NOUN'))],\n",
       " [('and', 'CONJ'), (('Tarwhine', 'ADJ'), ('Tarwhine', 'NOUN'))],\n",
       " [('economic', 'ADJ'), (('sluggishness', 'ADJ'), ('sluggishness', 'NOUN'))],\n",
       " [('.', '.'), (('Private', 'NOUN'), ('Private', 'ADJ'))],\n",
       " [('A', 'DET'), (('shift', 'ADJ'), ('shift', 'NOUN'))],\n",
       " [('producing', 'VERB'), (('more', 'ADV'), ('more', 'ADJ'))],\n",
       " [('a', 'DET'), (('more', 'ADJ'), ('more', 'ADV'))],\n",
       " [('drastic', 'ADJ'), (('shift', 'ADJ'), ('shift', 'NOUN'))],\n",
       " [('good', 'ADJ'), (('match', 'VERB'), ('match', 'NOUN'))],\n",
       " [('grain', 'NOUN'), (('hauling', 'ADJ'), ('hauling', 'VERB'))],\n",
       " [('the', 'DET'), (('Antitrust', 'ADJ'), ('Antitrust', 'NOUN'))],\n",
       " [('Antitrust', 'NOUN'), (('Division', 'ADJ'), ('Division', 'NOUN'))],\n",
       " [('.', '.'), (('PAPERS', 'ADJ'), ('PAPERS', 'NOUN'))],\n",
       " [('Assuming', 'VERB'), (('that', 'ADP'), ('that', 'DET'))],\n",
       " [('in', 'ADP'), (('universities', 'ADJ'), ('universities', 'NOUN'))],\n",
       " [('H.', 'NOUN'), (('Strother', 'ADJ'), ('Strother', 'NOUN'))],\n",
       " [('is', 'VERB'), (('researching', 'ADJ'), ('researching', 'VERB'))],\n",
       " [('been', 'VERB'), (('hailed', 'ADJ'), ('hailed', 'VERB'))],\n",
       " [('but', 'CONJ'), (('despised', 'ADJ'), ('despised', 'VERB'))],\n",
       " [('would', 'VERB'), (('limit', 'NOUN'), ('limit', 'VERB'))],\n",
       " [('psychiatric', 'ADJ'), (('examinations', 'ADJ'), ('examinations', 'NOUN'))],\n",
       " [('tax', 'NOUN'), (('adjustment', 'ADJ'), ('adjustment', 'NOUN'))],\n",
       " [('the', 'DET'), (('B-1B', 'NOUN'), ('B-1B', 'ADJ'))],\n",
       " [('B-1B', 'ADJ'), (('bomber', 'ADJ'), ('bomber', 'NOUN'))],\n",
       " [('industrial', 'ADJ'),\n",
       "  (('sewing-machine', 'ADJ'), ('sewing-machine', 'NOUN'))],\n",
       " [('$', '.'), (('185.9', 'ADJ'), ('185.9', 'NUM'))],\n",
       " [('has', 'VERB'), (('420', 'ADJ'), ('420', 'NUM'))],\n",
       " [('In', 'ADP'), (('early', 'ADJ'), ('early', 'ADV'))],\n",
       " [('fell', 'VERB'), (('63.79', 'ADJ'), ('63.79', 'NUM'))],\n",
       " [('to', 'PRT'), (('35500.64', 'ADJ'), ('35500.64', 'NUM'))],\n",
       " [('he', 'PRON'), (('supports', 'ADJ'), ('supports', 'VERB'))],\n",
       " [('but', 'CONJ'), (('that', 'DET'), ('that', 'ADP'))],\n",
       " [('his', 'PRON'), (('doctorate', 'ADJ'), ('doctorate', 'NOUN'))],\n",
       " [('the', 'DET'), (('junk-bond', 'NOUN'), ('junk-bond', 'ADJ'))],\n",
       " [('*', 'X'), (('lessening', 'ADJ'), ('lessening', 'VERB'))],\n",
       " [('the', 'DET'), (('likelihood', 'ADJ'), ('likelihood', 'NOUN'))],\n",
       " [('until', 'ADP'), (('midyear', 'ADJ'), ('midyear', 'NOUN'))],\n",
       " [(\"''\", '.'), (('N.V', 'ADJ'), ('N.V', 'NOUN'))],\n",
       " [('can', 'VERB'), (('tote', 'ADJ'), ('tote', 'VERB'))],\n",
       " [('tote', 'VERB'), (('as', 'ADP'), ('as', 'ADV'))],\n",
       " [('four', 'NUM'), (('cups', 'ADJ'), ('cups', 'NOUN'))],\n",
       " [('Peter', 'NOUN'), (('Walters', 'ADJ'), ('Walters', 'NOUN'))],\n",
       " [('of', 'ADP'), (('British', 'ADJ'), ('British', 'NOUN'))],\n",
       " [('this', 'DET'), (('cement', 'ADJ'), ('cement', 'NOUN'))],\n",
       " [('spent', 'VERB'), (('much', 'ADV'), ('much', 'ADJ'))],\n",
       " [('reported', 'VERB'), (('declines', 'VERB'), ('declines', 'NOUN'))],\n",
       " [('would', 'VERB'), (('like', 'ADP'), ('like', 'VERB'))],\n",
       " [('to', 'PRT'), (('apologize', 'ADJ'), ('apologize', 'VERB'))],\n",
       " [('the', 'DET'), (('brakes', 'ADJ'), ('brakes', 'NOUN'))],\n",
       " [('acquisitions', 'NOUN'), (('that', 'ADP'), ('that', 'DET'))],\n",
       " [('would', 'VERB'), (('impede', 'ADJ'), ('impede', 'VERB'))],\n",
       " [(',', '.'), (('Ark', 'ADJ'), ('Ark', 'NOUN'))],\n",
       " [('are', 'VERB'), (('Joni', 'ADJ'), ('Joni', 'NOUN'))],\n",
       " [(',', '.'), (('recruited', 'ADJ'), ('recruited', 'VERB'))],\n",
       " [('and', 'CONJ'), (('Sonny', 'ADJ'), ('Sonny', 'NOUN'))],\n",
       " [('*', 'X'), (('denouncing', 'ADJ'), ('denouncing', 'VERB'))],\n",
       " [('*', 'X'), (('denouncing', 'ADJ'), ('denouncing', 'VERB'))],\n",
       " [('denouncing', 'VERB'), (('capitalism', 'ADJ'), ('capitalism', 'NOUN'))],\n",
       " [('*-2', 'X'), (('Reached', 'ADJ'), ('Reached', 'VERB'))],\n",
       " [('An', 'DET'), (('implication', 'ADJ'), ('implication', 'NOUN'))],\n",
       " [('to', 'PRT'), (('return', 'NOUN'), ('return', 'VERB'))],\n",
       " [('we', 'PRON'), (('evaluated', 'ADJ'), ('evaluated', 'VERB'))],\n",
       " [('way', 'NOUN'), (('out', 'PRT'), ('out', 'ADP'))],\n",
       " [('at', 'ADP'), (('102', 'ADJ'), ('102', 'NUM'))],\n",
       " [('with', 'ADP'), (('102', 'ADJ'), ('102', 'NUM'))],\n",
       " [('102', 'NUM'), (('12\\\\/32', 'ADJ'), ('12\\\\/32', 'NUM'))],\n",
       " [('the', 'DET'), (('Colorliner', 'ADJ'), ('Colorliner', 'NOUN'))],\n",
       " [('Colorliner', 'NOUN'),\n",
       "  (('newspaper-printing', 'ADJ'), ('newspaper-printing', 'NOUN'))],\n",
       " [('*-1', 'X'), (('needing', 'ADJ'), ('needing', 'VERB'))],\n",
       " [('one', 'NUM'), (('feature', 'ADJ'), ('feature', 'NOUN'))],\n",
       " [('``', '.'), (('In', 'ADP'), ('In', 'NOUN'))],\n",
       " [('editors', 'NOUN'), (('point', 'NOUN'), ('point', 'VERB'))],\n",
       " [('they', 'PRON'), (('deem', 'ADJ'), ('deem', 'VERB'))],\n",
       " [('to', 'PRT'), (('scrape', 'ADJ'), ('scrape', 'VERB'))],\n",
       " [('retired', 'VERB'),\n",
       "  (('water-authority', 'ADJ'), ('water-authority', 'NOUN'))],\n",
       " [('Charities', 'NOUN'), (('test', 'NOUN'), ('test', 'VERB'))],\n",
       " [('fund', 'NOUN'), (('raising', 'VERB'), ('raising', 'NOUN'))],\n",
       " [('far', 'ADV'), (('more', 'ADJ'), ('more', 'ADV'))],\n",
       " [('more', 'ADV'), (('limited', 'ADJ'), ('limited', 'VERB'))],\n",
       " [('limited', 'VERB'), (('applicability', 'ADJ'), ('applicability', 'NOUN'))],\n",
       " [('J.', 'NOUN'), (('Landis', 'ADJ'), ('Landis', 'NOUN'))],\n",
       " [('and', 'CONJ'), (('chief', 'NOUN'), ('chief', 'ADJ'))],\n",
       " [('transaction', 'NOUN'), (('that', 'ADP'), ('that', 'DET'))],\n",
       " [('that', 'DET'), (('*T*-180', 'ADJ'), ('*T*-180', 'X'))],\n",
       " [('included', 'VERB'), (('about', 'ADP'), ('about', 'ADV'))],\n",
       " [('.', '.'), (('Much', 'ADV'), ('Much', 'ADJ'))],\n",
       " [('``', '.'), (('migrate', 'ADJ'), ('migrate', 'VERB'))],\n",
       " [(\"''\", '.'), (('predicts', 'ADJ'), ('predicts', 'VERB'))],\n",
       " [('Jack', 'NOUN'), (('Lawless', 'ADJ'), ('Lawless', 'NOUN'))],\n",
       " [('of', 'ADP'), (('US', 'ADJ'), ('US', 'NOUN'))],\n",
       " [('US', 'NOUN'), (('Sprint', 'ADJ'), ('Sprint', 'NOUN'))],\n",
       " [('*', 'X'), (('Kill', 'ADJ'), ('Kill', 'VERB'))],\n",
       " [('the', 'DET'), (('Anti-Deficiency', 'ADJ'), ('Anti-Deficiency', 'NOUN'))],\n",
       " [(\"'s\", 'PRT'), (('Silicon', 'ADJ'), ('Silicon', 'NOUN'))],\n",
       " [('financed', 'VERB'), (('*-119', 'ADJ'), ('*-119', 'X'))],\n",
       " [('with', 'ADP'), (('trading-company', 'ADJ'), ('trading-company', 'NOUN'))],\n",
       " [('to', 'PRT'), (('more', 'ADJ'), ('more', 'ADV'))],\n",
       " [('.', '.'), (('AMR', 'ADJ'), ('AMR', 'NOUN'))],\n",
       " [('York', 'NOUN'), (('developer', 'ADJ'), ('developer', 'NOUN'))],\n",
       " [('seeking', 'VERB'), (('financing', 'VERB'), ('financing', 'NOUN'))],\n",
       " [('to', 'PRT'), (('mount', 'ADJ'), ('mount', 'VERB'))],\n",
       " [('of', 'ADP'), (('American', 'ADJ'), ('American', 'NOUN'))],\n",
       " [('.', '.'), (('GRAINS', 'ADJ'), ('GRAINS', 'NOUN'))],\n",
       " [('GRAINS', 'NOUN'), (('AND', 'ADJ'), ('AND', 'NOUN'))],\n",
       " [('AND', 'NOUN'), (('SOYBEANS', 'ADJ'), ('SOYBEANS', 'NOUN'))],\n",
       " [('Campbell', 'NOUN'), (('Soups', 'ADJ'), ('Soups', 'NOUN'))],\n",
       " [('a', 'DET'), (('run', 'VERB'), ('run', 'NOUN'))],\n",
       " [('*T*-2', 'X'), (('Mike', 'ADJ'), ('Mike', 'NOUN'))],\n",
       " [('at', 'ADP'), (('DDB', 'ADJ'), ('DDB', 'NOUN'))],\n",
       " [('owns', 'VERB'), (('about', 'ADP'), ('about', 'PRT'))],\n",
       " [('former', 'ADJ'), (('ratepayers', 'ADJ'), ('ratepayers', 'NOUN'))],\n",
       " [('cost', 'NOUN'), (('overruns', 'ADJ'), ('overruns', 'NOUN'))],\n",
       " [('edged', 'VERB'), (('up', 'ADV'), ('up', 'ADP'))],\n",
       " [('Red', 'NOUN'), (('Rock', 'ADJ'), ('Rock', 'NOUN'))],\n",
       " [('Rock', 'NOUN'), (('Terrace', 'ADJ'), ('Terrace', 'NOUN'))],\n",
       " [('the', 'DET'), (('Dunn', 'ADJ'), ('Dunn', 'NOUN'))],\n",
       " [('would', 'VERB'), (('like', 'ADP'), ('like', 'VERB'))],\n",
       " [('.', '.'), (('THREE', 'ADJ'), ('THREE', 'NUM'))],\n",
       " [('THREE', 'NUM'), (('COMPUTERS', 'ADJ'), ('COMPUTERS', 'NOUN'))],\n",
       " [('COMPUTERS', 'NOUN'), (('THAT', 'ADJ'), ('THAT', 'DET'))],\n",
       " [('*T*-31', 'X'), (('CHANGED', 'ADJ'), ('CHANGED', 'VERB'))],\n",
       " [('are', 'VERB'), (('somehow', 'ADJ'), ('somehow', 'ADV'))],\n",
       " [('somehow', 'ADV'), (('less', 'ADJ'), ('less', 'ADV'))],\n",
       " [('expert', 'NOUN'), (('studiously', 'ADJ'), ('studiously', 'ADV'))],\n",
       " [('studiously', 'ADV'), (('devouring', 'ADJ'), ('devouring', 'VERB'))],\n",
       " [('press', 'NOUN'), (('clippings', 'ADJ'), ('clippings', 'NOUN'))],\n",
       " [('M.', 'NOUN'), (('Rexinger', 'ADJ'), ('Rexinger', 'NOUN'))],\n",
       " [('City', 'NOUN'), (('executive', 'NOUN'), ('executive', 'ADJ'))],\n",
       " [('R.', 'NOUN'), (('Glauber', 'ADJ'), ('Glauber', 'NOUN'))],\n",
       " [('The', 'DET'), (('most', 'ADJ'), ('most', 'ADV'))],\n",
       " [('&', 'CONJ'), (('poor', 'ADJ'), ('poor', 'NOUN'))],\n",
       " [('index', 'NOUN'), (('that', 'ADP'), ('that', 'DET'))],\n",
       " [('*T*-1', 'X'), (('mimics', 'ADJ'), ('mimics', 'VERB'))],\n",
       " [('the', 'DET'), (('chicago', 'ADJ'), ('chicago', 'NOUN'))],\n",
       " [('biggest', 'ADJ'), (('issuers', 'ADJ'), ('issuers', 'NOUN'))],\n",
       " [('corporate', 'ADJ'), (('IOUs', 'ADJ'), ('IOUs', 'NOUN'))],\n",
       " [('numerous', 'ADJ'), (('occurrences', 'ADJ'), ('occurrences', 'NOUN'))],\n",
       " [('teacher', 'NOUN'), (('help', 'VERB'), ('help', 'NOUN'))],\n",
       " [('is', 'VERB'), (('revising', 'ADJ'), ('revising', 'VERB'))],\n",
       " [('.', '.'), (('Separately', 'ADV'), ('Separately', 'NOUN'))],\n",
       " [('market', 'NOUN'), (('emergencies', 'ADJ'), ('emergencies', 'NOUN'))],\n",
       " [('the', 'DET'), (('failures', 'ADJ'), ('failures', 'NOUN'))],\n",
       " [('to', 'PRT'), (('debate', 'NOUN'), ('debate', 'VERB'))],\n",
       " [('and', 'CONJ'), (('innovation', 'ADJ'), ('innovation', 'NOUN'))],\n",
       " [('The', 'DET'), (('purchasing', 'NOUN'), ('purchasing', 'VERB'))],\n",
       " [('proposal', 'NOUN'), (('that', 'ADP'), ('that', 'DET'))],\n",
       " [('emissions', 'NOUN'), (('that', 'ADP'), ('that', 'DET'))],\n",
       " [('military', 'ADJ'), (('domination', 'ADJ'), ('domination', 'NOUN'))],\n",
       " [('economic', 'ADJ'), (('hegemony', 'ADJ'), ('hegemony', 'NOUN'))],\n",
       " [('the', 'DET'), (('Little', 'ADJ'), ('Little', 'NOUN'))],\n",
       " [('activity', 'NOUN'), (('varied', 'ADJ'), ('varied', 'VERB'))],\n",
       " [('among', 'ADP'), (('industries', 'ADJ'), ('industries', 'NOUN'))],\n",
       " [('buying', 'VERB'), (('more', 'ADV'), ('more', 'ADJ'))],\n",
       " [('to', 'PRT'), (('phase', 'ADJ'), ('phase', 'VERB'))],\n",
       " [('phase', 'VERB'), (('out', 'ADP'), ('out', 'PRT'))],\n",
       " [('Bell', 'NOUN'), (('established', 'ADJ'), ('established', 'VERB'))],\n",
       " [('patent', 'NOUN'), (('caveat', 'ADJ'), ('caveat', 'NOUN'))],\n",
       " [('registered', 'VERB'), (('*-145', 'ADJ'), ('*-145', 'X'))],\n",
       " [('to', 'PRT'), (('enter', 'ADJ'), ('enter', 'VERB'))],\n",
       " [(',', '.'), (('as', 'ADP'), ('as', 'ADV'))],\n",
       " [('as', 'ADV'), (('long', 'ADJ'), ('long', 'ADV'))],\n",
       " [('$', '.'), (('325,000', 'ADJ'), ('325,000', 'NUM'))],\n",
       " [('$', '.'), (('340,000', 'ADJ'), ('340,000', 'NUM'))],\n",
       " [('was', 'VERB'), (('executive', 'ADJ'), ('executive', 'NOUN'))],\n",
       " [('this', 'DET'),\n",
       "  (('electric-utility', 'ADJ'), ('electric-utility', 'NOUN'))],\n",
       " [('been', 'VERB'), (('firmly', 'ADJ'), ('firmly', 'ADV'))],\n",
       " [('firmly', 'ADV'), (('set', 'NOUN'), ('set', 'VERB'))],\n",
       " [('not', 'ADV'), (('profit', 'VERB'), ('profit', 'NOUN'))],\n",
       " [('your', 'PRON'), (('cousins', 'ADJ'), ('cousins', 'NOUN'))],\n",
       " [('.', '.'), (('Inventor', 'ADJ'), ('Inventor', 'NOUN'))],\n",
       " [('Inventor', 'NOUN'), (('Claire', 'ADJ'), ('Claire', 'NOUN'))],\n",
       " [('his', 'PRON'), (('design', 'VERB'), ('design', 'NOUN'))],\n",
       " [('eliminates', 'VERB'), (('spilling', 'ADJ'), ('spilling', 'NOUN'))],\n",
       " [('their', 'PRON'), (('winter', 'ADJ'), ('winter', 'NOUN'))],\n",
       " [('on', 'ADP'), (('64.5', 'ADJ'), ('64.5', 'NUM'))],\n",
       " [('.', '.'), (('Nylev', 'ADJ'), ('Nylev', 'NOUN'))],\n",
       " [('.', '.'), (('FreudToy', 'ADJ'), ('FreudToy', 'NOUN'))],\n",
       " [('a', 'DET'), (('pillow', 'ADJ'), ('pillow', 'NOUN'))],\n",
       " [('pillow', 'NOUN'), (('bearing', 'NOUN'), ('bearing', 'VERB'))],\n",
       " [('the', 'DET'), (('likeness', 'ADJ'), ('likeness', 'NOUN'))],\n",
       " [('of', 'ADP'), (('Sigmund', 'ADJ'), ('Sigmund', 'NOUN'))],\n",
       " [('Sigmund', 'NOUN'), (('Freud', 'ADJ'), ('Freud', 'NOUN'))],\n",
       " [('$', '.'), (('24.95', 'ADJ'), ('24.95', 'NUM'))],\n",
       " [('*U*', 'X'), (('tool', 'ADJ'), ('tool', 'NOUN'))],\n",
       " [('``', '.'), (('focus', 'NOUN'), ('focus', 'VERB'))],\n",
       " [('pickers', 'NOUN'), (('scream', 'ADJ'), ('scream', 'VERB'))],\n",
       " [('markets', 'NOUN'), (('decline', 'NOUN'), ('decline', 'VERB'))],\n",
       " [('*-3', 'X'), (('hailing', 'ADJ'), ('hailing', 'VERB'))],\n",
       " [('still', 'ADV'), (('abounding', 'ADJ'), ('abounding', 'VERB'))],\n",
       " [('raise', 'VERB'), (('salaries', 'ADJ'), ('salaries', 'NOUN'))],\n",
       " [('improve', 'VERB'), (('working', 'VERB'), ('working', 'NOUN'))],\n",
       " [('-LRB-', '.'), (('better', 'ADV'), ('better', 'ADJ'))],\n",
       " [('hire', 'VERB'), (('more', 'ADV'), ('more', 'ADJ'))],\n",
       " [('easily', 'ADV'), (('outdistanced', 'ADJ'), ('outdistanced', 'VERB'))],\n",
       " [('John', 'NOUN'), (('Lonski', 'ADJ'), ('Lonski', 'NOUN'))],\n",
       " [('to', 'PRT'), (('penetrate', 'ADJ'), ('penetrate', 'VERB'))],\n",
       " [('largest', 'ADJ'), (('trading', 'NOUN'), ('trading', 'VERB'))],\n",
       " [('$', '.'), (('415.6', 'ADJ'), ('415.6', 'NUM'))],\n",
       " [('$', '.'), (('415.8', 'ADJ'), ('415.8', 'NUM'))],\n",
       " [('gaining', 'VERB'), (('1.28', 'ADJ'), ('1.28', 'NUM'))],\n",
       " [('to', 'PRT'), (('449.04', 'ADJ'), ('449.04', 'NUM'))],\n",
       " [('*-2', 'X'), (('Filmed', 'ADJ'), ('Filmed', 'VERB'))],\n",
       " [('lovely', 'ADJ'), (('black', 'ADJ'), ('black', 'NOUN'))],\n",
       " [('and', 'CONJ'), (('white', 'ADJ'), ('white', 'NOUN'))],\n",
       " [('Bill', 'NOUN'), (('Dill', 'ADJ'), ('Dill', 'NOUN'))],\n",
       " [('0', 'X'), (('445', 'ADJ'), ('445', 'NUM'))],\n",
       " [('in', 'ADP'), (('Shelby', 'ADJ'), ('Shelby', 'NOUN'))],\n",
       " [('United', 'NOUN'), (('Steelworkers', 'ADJ'), ('Steelworkers', 'NOUN'))],\n",
       " [('Steelworkers', 'NOUN'), (('Local', 'ADJ'), ('Local', 'NOUN'))],\n",
       " [('Local', 'NOUN'), (('3057', 'ADJ'), ('3057', 'NUM'))],\n",
       " [('ringer', 'NOUN'), (('out', 'PRT'), ('out', 'ADP'))],\n",
       " [('the', 'DET'), (('statue', 'ADJ'), ('statue', 'NOUN'))],\n",
       " [('Thomas', 'NOUN'), (('Jefferson', 'ADJ'), ('Jefferson', 'NOUN'))],\n",
       " [('Jefferson', 'NOUN'), (('dissolves', 'ADJ'), ('dissolves', 'VERB'))],\n",
       " [('take', 'VERB'), (('away', 'ADV'), ('away', 'PRT'))],\n",
       " [('purchases', 'NOUN'), (('show', 'NOUN'), ('show', 'VERB'))],\n",
       " [('David', 'NOUN'), (('O.', 'ADJ'), ('O.', 'NOUN'))],\n",
       " [('G.', 'NOUN'), (('Kuhns', 'ADJ'), ('Kuhns', 'NOUN'))],\n",
       " [('and', 'CONJ'), (('chief', 'NOUN'), ('chief', 'ADJ'))],\n",
       " [('chief', 'ADJ'), (('executive', 'NOUN'), ('executive', 'ADJ'))],\n",
       " [('*', 'X'), (('Depending', 'ADJ'), ('Depending', 'VERB'))],\n",
       " [('would', 'VERB'), (('issue', 'NOUN'), ('issue', 'VERB'))],\n",
       " [('and', 'CONJ'), (('2.35', 'ADJ'), ('2.35', 'NUM'))],\n",
       " [('million', 'NUM'), (('preferred', 'ADJ'), ('preferred', 'VERB'))],\n",
       " [('.', '.'), (('Oh', 'ADJ'), ('Oh', 'X'))],\n",
       " [('.', '.'), (('Earlier', 'ADV'), ('Earlier', 'ADJ'))],\n",
       " [('to', 'PRT'), (('defuse', 'ADJ'), ('defuse', 'VERB'))],\n",
       " [('to', 'PRT'), (('head', 'NOUN'), ('head', 'VERB'))],\n",
       " [('the', 'DET'), (('CDC', 'ADJ'), ('CDC', 'NOUN'))],\n",
       " [('be', 'VERB'), (('judged', 'ADJ'), ('judged', 'VERB'))],\n",
       " [('administrative', 'ADJ'), (('excellence', 'ADJ'), ('excellence', 'NOUN'))],\n",
       " [('So', 'ADV'), (('Long', 'NOUN'), ('Long', 'ADJ'))],\n",
       " [(',', '.'), (('L.A.', 'ADJ'), ('L.A.', 'NOUN'))],\n",
       " [('final', 'ADJ'), (('headline', 'ADJ'), ('headline', 'NOUN'))],\n",
       " [(\"n't\", 'ADV'), (('replicated', 'ADJ'), ('replicated', 'VERB'))],\n",
       " [('C$', '.'), (('9.625', 'ADJ'), ('9.625', 'NUM'))],\n",
       " [('the', 'DET'), (('purse', 'ADJ'), ('purse', 'NOUN'))],\n",
       " [('so', 'ADV'), (('broadly', 'ADJ'), ('broadly', 'ADV'))],\n",
       " [('broadly', 'ADV'), (('construed', 'ADJ'), ('construed', 'VERB'))],\n",
       " [('would', 'VERB'), (('emasculate', 'ADJ'), ('emasculate', 'VERB'))],\n",
       " [('and', 'CONJ'), (('swallow', 'ADJ'), ('swallow', 'VERB'))],\n",
       " [('edged', 'VERB'), (('up', 'ADV'), ('up', 'ADP'))],\n",
       " [('thrift', 'NOUN'), (('might', 'VERB'), ('might', 'NOUN'))],\n",
       " [('might', 'NOUN'), (('restructure', 'NOUN'), ('restructure', 'VERB'))],\n",
       " [('of', 'ADP'), (('Lauderhill', 'ADJ'), ('Lauderhill', 'NOUN'))],\n",
       " [('of', 'ADP'), (('Plantation', 'ADJ'), ('Plantation', 'NOUN'))],\n",
       " [('for', 'ADP'), (('witches', 'ADJ'), ('witches', 'NOUN'))],\n",
       " [('convenient', 'ADJ'), (('boogieman', 'ADJ'), ('boogieman', 'NOUN'))],\n",
       " [('firm', 'NOUN'), (('that', 'ADP'), ('that', 'DET'))],\n",
       " [('*U*', 'X'), (('fund', 'VERB'), ('fund', 'NOUN'))],\n",
       " [('fund', 'NOUN'), (('that', 'ADP'), ('that', 'DET'))],\n",
       " [('is', 'VERB'), (('sparking', 'ADJ'), ('sparking', 'VERB'))],\n",
       " [('of', 'ADP'), (('domination', 'ADJ'), ('domination', 'NOUN'))],\n",
       " [('and', 'CONJ'), (('posing', 'ADJ'), ('posing', 'VERB'))],\n",
       " [('third-quarter', 'NOUN'), (('net', 'NOUN'), ('net', 'ADJ'))],\n",
       " [(',', '.'), (('versus', 'ADJ'), ('versus', 'CONJ'))],\n",
       " [('$', '.'), (('5.3', 'ADJ'), ('5.3', 'NUM'))],\n",
       " [('$', '.'), (('1.61', 'ADJ'), ('1.61', 'NUM'))],\n",
       " [('year', 'NOUN'), (('earlier', 'ADV'), ('earlier', 'ADJ'))],\n",
       " [('spend', 'VERB'), (('much', 'ADV'), ('much', 'ADJ'))],\n",
       " [('on', 'ADP'), (('print', 'VERB'), ('print', 'NOUN'))],\n",
       " [('print', 'NOUN'), (('advertising', 'VERB'), ('advertising', 'NOUN'))],\n",
       " [('0', 'X'), (('that', 'ADP'), ('that', 'DET'))],\n",
       " [('largest', 'ADJ'), (('supplier', 'ADJ'), ('supplier', 'NOUN'))],\n",
       " [('or', 'CONJ'), (('about', 'ADP'), ('about', 'ADV'))],\n",
       " [('stepping', 'VERB'), (('up', 'ADV'), ('up', 'PRT'))],\n",
       " [('at', 'ADP'), (('60.36', 'ADJ'), ('60.36', 'NUM'))],\n",
       " [('a', 'DET'), (('much', 'ADJ'), ('much', 'ADV'))],\n",
       " [('much', 'ADV'), (('more', 'ADJ'), ('more', 'ADV'))],\n",
       " [('currently', 'ADV'), (('possess', 'ADJ'), ('possess', 'VERB'))],\n",
       " [('understanding', 'NOUN'), (('that', 'ADP'), ('that', 'DET'))],\n",
       " [('in', 'ADP'), (('Hackensack', 'ADJ'), ('Hackensack', 'NOUN'))],\n",
       " [('I', 'PRON'), (('am', 'ADJ'), ('am', 'VERB'))],\n",
       " [('Anthony', 'NOUN'), (('Cheetham', 'ADJ'), ('Cheetham', 'NOUN'))],\n",
       " [(',', '.'), (('Century', 'ADJ'), ('Century', 'NOUN'))],\n",
       " [('Century', 'NOUN'), (('Hutchinson', 'ADJ'), ('Hutchinson', 'NOUN'))],\n",
       " [('be', 'VERB'), (('refunded', 'ADJ'), ('refunded', 'VERB'))],\n",
       " [('Argentine', 'ADJ'), (('negotiator', 'ADJ'), ('negotiator', 'NOUN'))],\n",
       " [('Carlos', 'NOUN'), (('Carballo', 'ADJ'), ('Carballo', 'NOUN'))]]"
      ]
     },
     "execution_count": 25,
     "metadata": {},
     "output_type": "execute_result"
    }
   ],
   "source": [
    "### Fetching the words in the test setting which are incorrectly classified.\n",
    "incorrect_tagged_cases = [[test_run_base[i-1],j] for i, j in enumerate(zip(tagged_seq, test_run_base)) if j[0]!=j[1]]\n",
    "incorrect_tagged_cases"
   ]
  },
  {
   "cell_type": "markdown",
   "metadata": {},
   "source": [
    "Most of the words which are not present in training set are simply assigned the first pos tag in the training pos tagset\n",
    "\n",
    "Let us do the analysis on the test file which we read before"
   ]
  },
  {
   "cell_type": "code",
   "execution_count": 27,
   "metadata": {},
   "outputs": [
    {
     "data": {
      "text/plain": [
       "[('Android', 'ADJ'),\n",
       " ('is', 'VERB'),\n",
       " ('a', 'DET'),\n",
       " ('mobile', 'ADJ'),\n",
       " ('operating', 'NOUN'),\n",
       " ('system', 'NOUN'),\n",
       " ('developed', 'VERB'),\n",
       " ('by', 'ADP'),\n",
       " ('Google', 'ADJ'),\n",
       " ('.', '.'),\n",
       " ('Android', 'ADJ'),\n",
       " ('has', 'VERB'),\n",
       " ('been', 'VERB'),\n",
       " ('the', 'DET'),\n",
       " ('best-selling', 'ADJ'),\n",
       " ('OS', 'ADJ'),\n",
       " ('worldwide', 'ADJ'),\n",
       " ('on', 'ADP'),\n",
       " ('smartphones', 'ADJ'),\n",
       " ('since', 'ADP'),\n",
       " ('2011', 'ADJ'),\n",
       " ('and', 'CONJ'),\n",
       " ('on', 'ADP'),\n",
       " ('tablets', 'NOUN'),\n",
       " ('since', 'ADP'),\n",
       " ('2013', 'ADJ'),\n",
       " ('.', '.'),\n",
       " ('Google', 'ADJ'),\n",
       " ('and', 'CONJ'),\n",
       " ('Twitter', 'ADJ'),\n",
       " ('made', 'VERB'),\n",
       " ('a', 'DET'),\n",
       " ('deal', 'NOUN'),\n",
       " ('in', 'ADP'),\n",
       " ('2015', 'ADJ'),\n",
       " ('that', 'ADP'),\n",
       " ('gave', 'VERB'),\n",
       " ('Google', 'ADJ'),\n",
       " ('access', 'NOUN'),\n",
       " ('to', 'PRT'),\n",
       " ('Twitter', 'ADJ'),\n",
       " (\"'s\", 'PRT'),\n",
       " ('firehose', 'ADJ'),\n",
       " ('.', '.'),\n",
       " ('Twitter', 'ADJ'),\n",
       " ('is', 'VERB'),\n",
       " ('an', 'DET'),\n",
       " ('online', 'ADJ'),\n",
       " ('news', 'NOUN'),\n",
       " ('and', 'CONJ'),\n",
       " ('social', 'ADJ'),\n",
       " ('networking', 'NOUN'),\n",
       " ('service', 'NOUN'),\n",
       " ('on', 'ADP'),\n",
       " ('which', 'DET'),\n",
       " ('users', 'NOUN'),\n",
       " ('post', 'NOUN'),\n",
       " ('and', 'CONJ'),\n",
       " ('interact', 'ADJ'),\n",
       " ('with', 'ADP'),\n",
       " ('messages', 'ADJ'),\n",
       " ('known', 'VERB'),\n",
       " ('as', 'ADP'),\n",
       " ('tweets', 'ADJ'),\n",
       " ('.', '.'),\n",
       " ('Before', 'ADP'),\n",
       " ('entering', 'VERB'),\n",
       " ('politics', 'NOUN'),\n",
       " (',', '.'),\n",
       " ('Donald', 'NOUN'),\n",
       " ('Trump', 'NOUN'),\n",
       " ('was', 'VERB'),\n",
       " ('a', 'DET'),\n",
       " ('domineering', 'ADJ'),\n",
       " ('businessman', 'NOUN'),\n",
       " ('and', 'CONJ'),\n",
       " ('a', 'DET'),\n",
       " ('television', 'NOUN'),\n",
       " ('personality', 'ADJ'),\n",
       " ('.', '.'),\n",
       " ('The', 'DET'),\n",
       " ('2018', 'ADJ'),\n",
       " ('FIFA', 'ADJ'),\n",
       " ('World', 'NOUN'),\n",
       " ('Cup', 'ADJ'),\n",
       " ('is', 'VERB'),\n",
       " ('the', 'DET'),\n",
       " ('21st', 'ADJ'),\n",
       " ('FIFA', 'ADJ'),\n",
       " ('World', 'NOUN'),\n",
       " ('Cup', 'ADJ'),\n",
       " (',', '.'),\n",
       " ('an', 'DET'),\n",
       " ('international', 'ADJ'),\n",
       " ('football', 'NOUN'),\n",
       " ('tournament', 'ADJ'),\n",
       " ('contested', 'ADJ'),\n",
       " ('once', 'ADV'),\n",
       " ('every', 'DET'),\n",
       " ('four', 'NUM'),\n",
       " ('years', 'NOUN'),\n",
       " ('.', '.'),\n",
       " ('This', 'DET'),\n",
       " ('is', 'VERB'),\n",
       " ('the', 'DET'),\n",
       " ('first', 'ADJ'),\n",
       " ('World', 'NOUN'),\n",
       " ('Cup', 'ADJ'),\n",
       " ('to', 'PRT'),\n",
       " ('be', 'VERB'),\n",
       " ('held', 'VERB'),\n",
       " ('in', 'ADP'),\n",
       " ('Eastern', 'NOUN'),\n",
       " ('Europe', 'NOUN'),\n",
       " ('and', 'CONJ'),\n",
       " ('the', 'DET'),\n",
       " ('11th', 'ADJ'),\n",
       " ('time', 'NOUN'),\n",
       " ('that', 'ADP'),\n",
       " ('it', 'PRON'),\n",
       " ('has', 'VERB'),\n",
       " ('been', 'VERB'),\n",
       " ('held', 'VERB'),\n",
       " ('in', 'ADP'),\n",
       " ('Europe', 'NOUN'),\n",
       " ('.', '.'),\n",
       " ('Show', 'NOUN'),\n",
       " ('me', 'PRON'),\n",
       " ('the', 'DET'),\n",
       " ('cheapest', 'ADJ'),\n",
       " ('round', 'NOUN'),\n",
       " ('trips', 'ADJ'),\n",
       " ('from', 'ADP'),\n",
       " ('Dallas', 'NOUN'),\n",
       " ('to', 'PRT'),\n",
       " ('Atlanta', 'NOUN'),\n",
       " ('I', 'PRON'),\n",
       " ('would', 'VERB'),\n",
       " ('like', 'ADP'),\n",
       " ('to', 'PRT'),\n",
       " ('see', 'VERB'),\n",
       " ('flights', 'NOUN'),\n",
       " ('from', 'ADP'),\n",
       " ('Denver', 'NOUN'),\n",
       " ('to', 'PRT'),\n",
       " ('Philadelphia', 'NOUN'),\n",
       " ('.', '.'),\n",
       " ('Show', 'NOUN'),\n",
       " ('me', 'PRON'),\n",
       " ('the', 'DET'),\n",
       " ('price', 'NOUN'),\n",
       " ('of', 'ADP'),\n",
       " ('the', 'DET'),\n",
       " ('flights', 'NOUN'),\n",
       " ('leaving', 'VERB'),\n",
       " ('Atlanta', 'NOUN'),\n",
       " ('at', 'ADP'),\n",
       " ('about', 'ADP'),\n",
       " ('3', 'NUM'),\n",
       " ('in', 'ADP'),\n",
       " ('the', 'DET'),\n",
       " ('afternoon', 'NOUN'),\n",
       " ('and', 'CONJ'),\n",
       " ('arriving', 'ADJ'),\n",
       " ('in', 'ADP'),\n",
       " ('San', 'NOUN'),\n",
       " ('Francisco', 'NOUN'),\n",
       " ('.', '.'),\n",
       " ('NASA', 'ADJ'),\n",
       " ('invited', 'ADJ'),\n",
       " ('social', 'ADJ'),\n",
       " ('media', 'NOUN'),\n",
       " ('users', 'NOUN'),\n",
       " ('to', 'PRT'),\n",
       " ('experience', 'NOUN'),\n",
       " ('the', 'DET'),\n",
       " ('launch', 'NOUN'),\n",
       " ('of', 'ADP'),\n",
       " ('ICESAT-2', 'ADJ'),\n",
       " ('Satellite', 'ADJ'),\n",
       " ('.', '.')]"
      ]
     },
     "execution_count": 27,
     "metadata": {},
     "output_type": "execute_result"
    }
   ],
   "source": [
    "### Getting the predictions on given the test sentences.\n",
    "sample_pred_list =[]\n",
    "for line in test_lines:\n",
    "    sample_pred_list=sample_pred_list+list(Viterbi(word_tokenize(line)))\n",
    "sample_pred_list"
   ]
  },
  {
   "cell_type": "markdown",
   "metadata": {},
   "source": [
    "For words like 'Android','Google' the first tag in the training pos tagset is given. Let us see if these words exist in the training corpus "
   ]
  },
  {
   "cell_type": "code",
   "execution_count": 28,
   "metadata": {},
   "outputs": [],
   "source": [
    "### Getting the tokens in the test file.\n",
    "sample_words=[tokens for line in test_lines for tokens in word_tokenize(line)]"
   ]
  },
  {
   "cell_type": "code",
   "execution_count": 29,
   "metadata": {},
   "outputs": [
    {
     "data": {
      "text/plain": [
       "['2018',\n",
       " 'OS',\n",
       " 'firehose',\n",
       " '2011',\n",
       " 'Cup',\n",
       " 'NASA',\n",
       " 'arriving',\n",
       " '21st',\n",
       " 'online',\n",
       " 'Google',\n",
       " 'tweets',\n",
       " 'invited',\n",
       " 'FIFA',\n",
       " 'personality',\n",
       " 'messages',\n",
       " 'ICESAT-2',\n",
       " 'Twitter',\n",
       " 'trips',\n",
       " '2015',\n",
       " '2013',\n",
       " 'domineering',\n",
       " 'contested',\n",
       " 'worldwide',\n",
       " 'Satellite',\n",
       " 'interact',\n",
       " 'smartphones',\n",
       " 'Android',\n",
       " 'tournament']"
      ]
     },
     "execution_count": 29,
     "metadata": {},
     "output_type": "execute_result"
    }
   ],
   "source": [
    "### Getting the list of words which are present in test lines but not in the training corpus\n",
    "words_not_in_corpus = list(set(sample_words) - set(tokens))\n",
    "words_not_in_corpus"
   ]
  },
  {
   "cell_type": "markdown",
   "metadata": {},
   "source": [
    "Clearly the words like 'Google','Android','Fifa' are not present in the training set and they are all tagged default tags. "
   ]
  },
  {
   "cell_type": "code",
   "execution_count": 30,
   "metadata": {},
   "outputs": [
    {
     "data": {
      "text/plain": [
       "[('Android', 'ADJ'),\n",
       " ('Google', 'ADJ'),\n",
       " ('Android', 'ADJ'),\n",
       " ('OS', 'ADJ'),\n",
       " ('worldwide', 'ADJ'),\n",
       " ('smartphones', 'ADJ'),\n",
       " ('2011', 'ADJ'),\n",
       " ('2013', 'ADJ'),\n",
       " ('Google', 'ADJ'),\n",
       " ('Twitter', 'ADJ'),\n",
       " ('2015', 'ADJ'),\n",
       " ('Google', 'ADJ'),\n",
       " ('Twitter', 'ADJ'),\n",
       " ('firehose', 'ADJ'),\n",
       " ('Twitter', 'ADJ'),\n",
       " ('online', 'ADJ'),\n",
       " ('interact', 'ADJ'),\n",
       " ('messages', 'ADJ'),\n",
       " ('tweets', 'ADJ'),\n",
       " ('domineering', 'ADJ'),\n",
       " ('personality', 'ADJ'),\n",
       " ('2018', 'ADJ'),\n",
       " ('FIFA', 'ADJ'),\n",
       " ('Cup', 'ADJ'),\n",
       " ('21st', 'ADJ'),\n",
       " ('FIFA', 'ADJ'),\n",
       " ('Cup', 'ADJ'),\n",
       " ('tournament', 'ADJ'),\n",
       " ('contested', 'ADJ'),\n",
       " ('Cup', 'ADJ'),\n",
       " ('trips', 'ADJ'),\n",
       " ('arriving', 'ADJ'),\n",
       " ('NASA', 'ADJ'),\n",
       " ('invited', 'ADJ'),\n",
       " ('ICESAT-2', 'ADJ'),\n",
       " ('Satellite', 'ADJ')]"
      ]
     },
     "execution_count": 30,
     "metadata": {},
     "output_type": "execute_result"
    }
   ],
   "source": [
    "### Getting the tags predicted for unknown words\n",
    "[tup for tup in sample_pred_list for word in words_not_in_corpus if tup[0]==word ]"
   ]
  },
  {
   "cell_type": "code",
   "execution_count": 31,
   "metadata": {},
   "outputs": [
    {
     "data": {
      "text/plain": [
       "Counter({'ADV': 3014,\n",
       "         '.': 11103,\n",
       "         'DET': 8322,\n",
       "         'ADJ': 6067,\n",
       "         'NOUN': 27491,\n",
       "         'ADP': 9352,\n",
       "         'CONJ': 2151,\n",
       "         'VERB': 12923,\n",
       "         'PRT': 3071,\n",
       "         'X': 6278,\n",
       "         'PRON': 2602,\n",
       "         'NUM': 3334})"
      ]
     },
     "execution_count": 31,
     "metadata": {},
     "output_type": "execute_result"
    }
   ],
   "source": [
    "### Now, Let us see the count of all tags in the training set\n",
    "from collections import Counter\n",
    "tag_counts = Counter(pair[1] for pair in train_tagged_words)\n",
    "tag_counts"
   ]
  },
  {
   "cell_type": "code",
   "execution_count": 32,
   "metadata": {},
   "outputs": [
    {
     "data": {
      "text/plain": [
       "[('NOUN', 27491), ('VERB', 12923), ('.', 11103), ('ADP', 9352), ('DET', 8322)]"
      ]
     },
     "execution_count": 32,
     "metadata": {},
     "output_type": "execute_result"
    }
   ],
   "source": [
    "### See most common tags can in the training corpus\n",
    "tag_counts.most_common(5)"
   ]
  },
  {
   "cell_type": "code",
   "execution_count": 33,
   "metadata": {},
   "outputs": [
    {
     "data": {
      "text/plain": [
       "Counter({'ADJ': 288,\n",
       "         'NOUN': 36,\n",
       "         'DET': 5,\n",
       "         'ADP': 27,\n",
       "         'VERB': 19,\n",
       "         'PRT': 3,\n",
       "         'ADV': 20})"
      ]
     },
     "execution_count": 33,
     "metadata": {},
     "output_type": "execute_result"
    }
   ],
   "source": [
    "### Lets see count of incorrectly classfied words for each tag\n",
    "wrong_tag_counts = Counter(pair[1][0][1] for pair in incorrect_tagged_cases)\n",
    "wrong_tag_counts"
   ]
  },
  {
   "cell_type": "code",
   "execution_count": 34,
   "metadata": {},
   "outputs": [
    {
     "name": "stdout",
     "output_type": "stream",
     "text": [
      "0.20691789832082333\n"
     ]
    },
    {
     "data": {
      "text/plain": [
       "[('need', 'VERB'),\n",
       " ('imposed', 'VERB'),\n",
       " ('codified', 'VERB'),\n",
       " ('exhausted', 'VERB'),\n",
       " ('limited', 'VERB'),\n",
       " ('continued', 'VERB'),\n",
       " ('helped', 'VERB'),\n",
       " ('exceed', 'VERB'),\n",
       " ('based', 'VERB'),\n",
       " ('failed', 'VERB'),\n",
       " ('acquired', 'VERB'),\n",
       " ('restructured', 'VERB'),\n",
       " ('improved', 'VERB'),\n",
       " ('continued', 'VERB'),\n",
       " ('called', 'VERB'),\n",
       " ('existed', 'VERB'),\n",
       " ('incurred', 'VERB'),\n",
       " ('mixed', 'VERB'),\n",
       " ('pointed', 'VERB'),\n",
       " ('composed', 'VERB')]"
      ]
     },
     "execution_count": 34,
     "metadata": {},
     "output_type": "execute_result"
    }
   ],
   "source": [
    "### Let us see the percentage of verbs which are classifed as 'verb which end with 'ed'\n",
    "verbs = [pair for pair in train_tagged_words if pair[1]=='VERB']\n",
    "ed_verbs = [pair for pair in verbs if pair[0].endswith('ed')]\n",
    "print(len(ed_verbs) / len(verbs))\n",
    "ed_verbs[:20]"
   ]
  },
  {
   "cell_type": "markdown",
   "metadata": {},
   "source": [
    "Around 20% of words which end with 'ed' are verbs. Though it is 20% it is high because this is universal tagset and Verbs contain all the forms of verbs"
   ]
  },
  {
   "cell_type": "code",
   "execution_count": 35,
   "metadata": {},
   "outputs": [
    {
     "name": "stdout",
     "output_type": "stream",
     "text": [
      "0.10864350383037995\n"
     ]
    },
    {
     "data": {
      "text/plain": [
       "[('including', 'VERB'),\n",
       " ('including', 'VERB'),\n",
       " ('coming', 'VERB'),\n",
       " ('trying', 'VERB'),\n",
       " ('bundling', 'VERB'),\n",
       " ('targeting', 'VERB'),\n",
       " ('looming', 'VERB'),\n",
       " ('initialing', 'VERB'),\n",
       " ('amending', 'VERB'),\n",
       " ('introducing', 'VERB'),\n",
       " ('exceeding', 'VERB'),\n",
       " ('quitting', 'VERB'),\n",
       " ('holding', 'VERB'),\n",
       " ('Buying', 'VERB'),\n",
       " ('indicating', 'VERB'),\n",
       " ('saying', 'VERB'),\n",
       " ('coming', 'VERB'),\n",
       " ('demanding', 'VERB'),\n",
       " ('passing', 'VERB'),\n",
       " ('thumbing', 'VERB')]"
      ]
     },
     "execution_count": 35,
     "metadata": {},
     "output_type": "execute_result"
    }
   ],
   "source": [
    "### Let us see the percentage of verbs which are classifed as 'verb which end with 'ing'\n",
    "verbs = [pair for pair in train_tagged_words if pair[1]=='VERB']\n",
    "ing_verbs = [pair for pair in verbs if pair[0].endswith('ing')]\n",
    "print(len(ing_verbs) / len(verbs))\n",
    "ing_verbs[:20]"
   ]
  },
  {
   "cell_type": "code",
   "execution_count": 36,
   "metadata": {},
   "outputs": [
    {
     "name": "stdout",
     "output_type": "stream",
     "text": [
      "6067\n",
      "4250\n",
      "0.7005109609362123\n"
     ]
    }
   ],
   "source": [
    "### Lets see percentage of Adjective tags followed by nouns\n",
    "### Creating a list of all tags (without the words)\n",
    "tags = [pair[1] for pair in train_tagged_words]\n",
    "\n",
    "### Creating a list of Adj tags\n",
    "adj_tags = [t for t in tags if t == 'ADJ']\n",
    "\n",
    "### Creating a list of (ADJ, Noun) tags\n",
    "adj_noun_tags = [(t, tags[index+1]) for index, t in enumerate(tags) \n",
    "              if t=='ADJ' and tags[index+1]=='NOUN']\n",
    "\n",
    "print(len(adj_tags))\n",
    "print(len(adj_noun_tags))\n",
    "print(len(adj_noun_tags) / len(adj_tags))"
   ]
  },
  {
   "cell_type": "markdown",
   "metadata": {},
   "source": [
    "Around 70% of adjectives are followed by Nouns"
   ]
  },
  {
   "cell_type": "code",
   "execution_count": 37,
   "metadata": {},
   "outputs": [
    {
     "name": "stdout",
     "output_type": "stream",
     "text": [
      "8322\n",
      "5312\n",
      "0.6383080990146599\n"
     ]
    }
   ],
   "source": [
    "### Lets see percentage of Determinent tags followed by nouns\n",
    "dt_tags = [t for t in tags if t == 'DET']\n",
    "dt_noun_tags = [(t, tags[index+1]) for index, t in enumerate(tags) \n",
    "              if t=='DET' and tags[index+1]=='NOUN']\n",
    "\n",
    "print(len(dt_tags))\n",
    "print(len(dt_noun_tags))\n",
    "print(len(dt_noun_tags) / len(dt_tags))"
   ]
  },
  {
   "cell_type": "markdown",
   "metadata": {},
   "source": [
    "Around 63% of determinants are followed by Nouns"
   ]
  },
  {
   "cell_type": "code",
   "execution_count": 38,
   "metadata": {},
   "outputs": [
    {
     "name": "stdout",
     "output_type": "stream",
     "text": [
      "3014\n",
      "1041\n",
      "0.34538818845388186\n"
     ]
    }
   ],
   "source": [
    "### Lets see percentage of Adverbs tags followed by Verbs\n",
    "adv_tags = [t for t in tags if t == 'ADV']\n",
    "adv_vb_tags = [(t, tags[index+1]) for index, t in enumerate(tags) \n",
    "              if t=='ADV' and tags[index+1]=='VERB']\n",
    "\n",
    "print(len(adv_tags))\n",
    "print(len(adv_vb_tags))\n",
    "print(len(adv_vb_tags) / len(adv_tags))"
   ]
  },
  {
   "cell_type": "markdown",
   "metadata": {},
   "source": [
    "Around 35% of adverbs are followed by verbs"
   ]
  },
  {
   "cell_type": "markdown",
   "metadata": {},
   "source": [
    "Lets use the EDA done above and also grammar to build our rules for regex based tagger"
   ]
  },
  {
   "cell_type": "code",
   "execution_count": 39,
   "metadata": {},
   "outputs": [],
   "source": [
    "### Specifing the patterns for tagging.\n",
    "patterns = [\n",
    "    (r'.*ing$', 'VERB'),              # gerund\n",
    "    (r'.*ed$', 'VERB'),               # past tense verbs\n",
    "    (r'.*es$', 'VERB'),               # singular present verbs\n",
    "    (r'.*ould$', 'VERB'),              # modal verbs\n",
    "    (r'.*\\'s$', 'NOUN'),              # possessive nouns\n",
    "    (r'.*s$', 'NOUN'),                # plural nouns\n",
    "    (r'^-?[0-9]+(.[0-9]+)?$', 'NUM'), # cardinal numbers\n",
    "    (r'(The|the|A|a|An|an)$', 'DET'),   # articles or determinants\n",
    "    (r'.*able$', 'ADJ'),                # adjectives\n",
    "    (r'.*ness$', 'NOUN'),                # nouns formed from adjectives\n",
    "    (r'.*ly$', 'ADV'),                  # adverbs\n",
    "    (r'.*', 'NOUN')                    # nouns\n",
    "]"
   ]
  },
  {
   "cell_type": "code",
   "execution_count": 40,
   "metadata": {},
   "outputs": [
    {
     "data": {
      "text/plain": [
       "0.9480676328502415"
      ]
     },
     "execution_count": 40,
     "metadata": {},
     "output_type": "execute_result"
    }
   ],
   "source": [
    "### Rule based tagger\n",
    "rule_based_tagger = nltk.RegexpTagger(patterns)\n",
    "\n",
    "### Lexicon backed up by the rule-based tagger\n",
    "lexicon_tagger = nltk.UnigramTagger(train_set, backoff=rule_based_tagger)\n",
    "\n",
    "lexicon_tagger.evaluate(test_set)"
   ]
  },
  {
   "cell_type": "markdown",
   "metadata": {},
   "source": [
    "For a Unigram lexicon tagger backed up by a rule based tagger the accuracy is around 94%. Let us improve it further by using N-gram taggers"
   ]
  },
  {
   "cell_type": "markdown",
   "metadata": {},
   "source": [
    "#### Evaluating tagging accuracy"
   ]
  },
  {
   "cell_type": "code",
   "execution_count": 41,
   "metadata": {},
   "outputs": [],
   "source": [
    "#### Trigram tagger backed by Bigram backed by Unigram which is backed by rule based tagger\n",
    "t0 = nltk.RegexpTagger(patterns)\n",
    "t1 = nltk.UnigramTagger(train_set, backoff=t0)\n",
    "t2 = nltk.BigramTagger(train_set, backoff=t1)\n",
    "t3 = nltk.TrigramTagger(train_set, backoff=t2)"
   ]
  },
  {
   "cell_type": "markdown",
   "metadata": {},
   "source": [
    "Let us use Brill algorithm as a base algorithm backed by the tagger created above"
   ]
  },
  {
   "cell_type": "code",
   "execution_count": 42,
   "metadata": {},
   "outputs": [],
   "source": [
    "### Importing libraries for brill\n",
    "import nltk.tag\n",
    "from nltk.tag import brill\n",
    "from nltk.tag.brill import *\n",
    "from nltk.tbl.template import Template\n",
    "from nltk.tag import BrillTaggerTrainer\n",
    "\n",
    "### Clear existing templates if any\n",
    "Template._cleartemplates()\n",
    "\n",
    "### Loading the fntbl37 template\n",
    "templates = fntbl37()\n",
    " \n",
    "### Training the Brill model\n",
    "trainer = BrillTaggerTrainer(t3, templates)\n",
    "brill_tagger = trainer.train(train_set, max_rules=100, min_score=3)"
   ]
  },
  {
   "cell_type": "markdown",
   "metadata": {},
   "source": [
    "The state probabilities for unknown words become zero and hence the Viterbi algorithm updates the unknown words by default with the first tag in the training set.\n",
    "\n",
    "Now lets modify the Viterbi algorithm such that when the state probabilities become zero it updates the tag based on the tagger we created above"
   ]
  },
  {
   "cell_type": "code",
   "execution_count": 43,
   "metadata": {},
   "outputs": [],
   "source": [
    "# Updated Viterbi Heuristic algorithm to solve current work.\n",
    "def Viterbi_updated(words, train_bag = train_tagged_words):\n",
    "    state = []\n",
    "    T = list(set([pair[1] for pair in train_bag]))\n",
    "    \n",
    "    for key, word in enumerate(words):\n",
    "        #initialise list of probability column for a given observation\n",
    "        p = [] \n",
    "        for tag in T:\n",
    "            if key == 0:\n",
    "                transition_p = tags_df.loc['.', tag]\n",
    "            else:\n",
    "                transition_p = tags_df.loc[state[-1], tag]\n",
    "                \n",
    "            ### Computing emission and state probabilities\n",
    "            emission_p = word_given_tag(words[key], tag)[0]/word_given_tag(words[key], tag)[1]\n",
    "            state_probability = emission_p * transition_p    \n",
    "            p.append(state_probability)\n",
    "            \n",
    "        pmax = max(p)\n",
    "       \n",
    "        ### Checking if state probability is zero\n",
    "        if(pmax==0.0):\n",
    "            #If state probability is zero i.e if the word is unknown if updates the tag based on the brill tagger\n",
    "            state_max = brill_tagger.tag([word])[0][1]\n",
    "        else:\n",
    "            ### Getting state for which probability is maximum\n",
    "            state_max = T[p.index(pmax)] \n",
    "        state.append(state_max)\n",
    "    return list(zip(words, state))"
   ]
  },
  {
   "cell_type": "markdown",
   "metadata": {},
   "source": [
    "### Compare the tagging accuracies of the modifications with the vanilla Viterbi algorithm"
   ]
  },
  {
   "cell_type": "code",
   "execution_count": 44,
   "metadata": {},
   "outputs": [
    {
     "name": "stdout",
     "output_type": "stream",
     "text": [
      "1783.3797931671143\n"
     ]
    }
   ],
   "source": [
    "### tagging the test sentences with the updated Viterbi algorithm\n",
    "start = time.time()\n",
    "updated_tagged_seq = Viterbi_updated(test_tagged_words)\n",
    "end = time.time()\n",
    "difference = end-start\n",
    "### Print total time taken to train the algorithm\n",
    "print(difference)"
   ]
  },
  {
   "cell_type": "markdown",
   "metadata": {},
   "source": []
  },
  {
   "cell_type": "code",
   "execution_count": 45,
   "metadata": {},
   "outputs": [
    {
     "data": {
      "text/plain": [
       "0.9512882447665056"
      ]
     },
     "execution_count": 45,
     "metadata": {},
     "output_type": "execute_result"
    }
   ],
   "source": [
    "### Calculating the accuracy for the updated Viterbi algorithm\n",
    "check = [i for i, j in zip(updated_tagged_seq, test_run_base) if i == j] \n",
    "accuracy = len(check)/len(updated_tagged_seq)\n",
    "accuracy"
   ]
  },
  {
   "cell_type": "markdown",
   "metadata": {},
   "source": [
    "Accuracy is increased much by the updated Viterbi algorithm"
   ]
  },
  {
   "cell_type": "markdown",
   "metadata": {},
   "source": [
    "### List down cases which were incorrectly tagged by original POS tagger and got corrected by your modifications"
   ]
  },
  {
   "cell_type": "code",
   "execution_count": 46,
   "metadata": {},
   "outputs": [
    {
     "name": "stdout",
     "output_type": "stream",
     "text": [
      "[('Android', 'ADJ'), ('is', 'VERB'), ('a', 'DET'), ('mobile', 'ADJ'), ('operating', 'NOUN'), ('system', 'NOUN'), ('developed', 'VERB'), ('by', 'ADP'), ('Google', 'ADJ'), ('.', '.')]\n",
      "[('Android', 'ADJ'), ('has', 'VERB'), ('been', 'VERB'), ('the', 'DET'), ('best-selling', 'ADJ'), ('OS', 'ADJ'), ('worldwide', 'ADJ'), ('on', 'ADP'), ('smartphones', 'ADJ'), ('since', 'ADP'), ('2011', 'ADJ'), ('and', 'CONJ'), ('on', 'ADP'), ('tablets', 'NOUN'), ('since', 'ADP'), ('2013', 'ADJ'), ('.', '.')]\n",
      "[('Google', 'ADJ'), ('and', 'CONJ'), ('Twitter', 'ADJ'), ('made', 'VERB'), ('a', 'DET'), ('deal', 'NOUN'), ('in', 'ADP'), ('2015', 'ADJ'), ('that', 'ADP'), ('gave', 'VERB'), ('Google', 'ADJ'), ('access', 'NOUN'), ('to', 'PRT'), ('Twitter', 'ADJ'), (\"'s\", 'PRT'), ('firehose', 'ADJ'), ('.', '.')]\n",
      "[('Twitter', 'ADJ'), ('is', 'VERB'), ('an', 'DET'), ('online', 'ADJ'), ('news', 'NOUN'), ('and', 'CONJ'), ('social', 'ADJ'), ('networking', 'NOUN'), ('service', 'NOUN'), ('on', 'ADP'), ('which', 'DET'), ('users', 'NOUN'), ('post', 'NOUN'), ('and', 'CONJ'), ('interact', 'ADJ'), ('with', 'ADP'), ('messages', 'ADJ'), ('known', 'VERB'), ('as', 'ADP'), ('tweets', 'ADJ'), ('.', '.')]\n",
      "[('Before', 'ADP'), ('entering', 'VERB'), ('politics', 'NOUN'), (',', '.'), ('Donald', 'NOUN'), ('Trump', 'NOUN'), ('was', 'VERB'), ('a', 'DET'), ('domineering', 'ADJ'), ('businessman', 'NOUN'), ('and', 'CONJ'), ('a', 'DET'), ('television', 'NOUN'), ('personality', 'ADJ'), ('.', '.')]\n",
      "[('The', 'DET'), ('2018', 'ADJ'), ('FIFA', 'ADJ'), ('World', 'NOUN'), ('Cup', 'ADJ'), ('is', 'VERB'), ('the', 'DET'), ('21st', 'ADJ'), ('FIFA', 'ADJ'), ('World', 'NOUN'), ('Cup', 'ADJ'), (',', '.'), ('an', 'DET'), ('international', 'ADJ'), ('football', 'NOUN'), ('tournament', 'ADJ'), ('contested', 'ADJ'), ('once', 'ADV'), ('every', 'DET'), ('four', 'NUM'), ('years', 'NOUN'), ('.', '.')]\n",
      "[('This', 'DET'), ('is', 'VERB'), ('the', 'DET'), ('first', 'ADJ'), ('World', 'NOUN'), ('Cup', 'ADJ'), ('to', 'PRT'), ('be', 'VERB'), ('held', 'VERB'), ('in', 'ADP'), ('Eastern', 'NOUN'), ('Europe', 'NOUN'), ('and', 'CONJ'), ('the', 'DET'), ('11th', 'ADJ'), ('time', 'NOUN'), ('that', 'ADP'), ('it', 'PRON'), ('has', 'VERB'), ('been', 'VERB'), ('held', 'VERB'), ('in', 'ADP'), ('Europe', 'NOUN'), ('.', '.')]\n",
      "[('Show', 'NOUN'), ('me', 'PRON'), ('the', 'DET'), ('cheapest', 'ADJ'), ('round', 'NOUN'), ('trips', 'ADJ'), ('from', 'ADP'), ('Dallas', 'NOUN'), ('to', 'PRT'), ('Atlanta', 'NOUN')]\n",
      "[('I', 'PRON'), ('would', 'VERB'), ('like', 'ADP'), ('to', 'PRT'), ('see', 'VERB'), ('flights', 'NOUN'), ('from', 'ADP'), ('Denver', 'NOUN'), ('to', 'PRT'), ('Philadelphia', 'NOUN'), ('.', '.')]\n",
      "[('Show', 'NOUN'), ('me', 'PRON'), ('the', 'DET'), ('price', 'NOUN'), ('of', 'ADP'), ('the', 'DET'), ('flights', 'NOUN'), ('leaving', 'VERB'), ('Atlanta', 'NOUN'), ('at', 'ADP'), ('about', 'ADP'), ('3', 'NUM'), ('in', 'ADP'), ('the', 'DET'), ('afternoon', 'NOUN'), ('and', 'CONJ'), ('arriving', 'ADJ'), ('in', 'ADP'), ('San', 'NOUN'), ('Francisco', 'NOUN'), ('.', '.')]\n",
      "[('NASA', 'ADJ'), ('invited', 'ADJ'), ('social', 'ADJ'), ('media', 'NOUN'), ('users', 'NOUN'), ('to', 'PRT'), ('experience', 'NOUN'), ('the', 'DET'), ('launch', 'NOUN'), ('of', 'ADP'), ('ICESAT-2', 'ADJ'), ('Satellite', 'ADJ'), ('.', '.')]\n"
     ]
    }
   ],
   "source": [
    "### Let us print the test lines with the initial Viterbi algorithm\n",
    "for line in test_lines:\n",
    "    print(list(Viterbi(word_tokenize(line))))"
   ]
  },
  {
   "cell_type": "code",
   "execution_count": 47,
   "metadata": {},
   "outputs": [
    {
     "name": "stdout",
     "output_type": "stream",
     "text": [
      "[('Android', 'NOUN'), ('is', 'VERB'), ('a', 'DET'), ('mobile', 'ADJ'), ('operating', 'NOUN'), ('system', 'NOUN'), ('developed', 'VERB'), ('by', 'ADP'), ('Google', 'NOUN'), ('.', '.')]\n",
      "[('Android', 'NOUN'), ('has', 'VERB'), ('been', 'VERB'), ('the', 'DET'), ('best-selling', 'ADJ'), ('OS', 'NOUN'), ('worldwide', 'NOUN'), ('on', 'ADP'), ('smartphones', 'VERB'), ('since', 'ADP'), ('2011', 'NUM'), ('and', 'CONJ'), ('on', 'ADP'), ('tablets', 'NOUN'), ('since', 'ADP'), ('2013', 'NUM'), ('.', '.')]\n",
      "[('Google', 'NOUN'), ('and', 'CONJ'), ('Twitter', 'NOUN'), ('made', 'VERB'), ('a', 'DET'), ('deal', 'NOUN'), ('in', 'ADP'), ('2015', 'NUM'), ('that', 'ADP'), ('gave', 'VERB'), ('Google', 'NOUN'), ('access', 'NOUN'), ('to', 'PRT'), ('Twitter', 'NOUN'), (\"'s\", 'PRT'), ('firehose', 'NOUN'), ('.', '.')]\n",
      "[('Twitter', 'NOUN'), ('is', 'VERB'), ('an', 'DET'), ('online', 'NOUN'), ('news', 'NOUN'), ('and', 'CONJ'), ('social', 'ADJ'), ('networking', 'NOUN'), ('service', 'NOUN'), ('on', 'ADP'), ('which', 'DET'), ('users', 'NOUN'), ('post', 'NOUN'), ('and', 'CONJ'), ('interact', 'NOUN'), ('with', 'ADP'), ('messages', 'VERB'), ('known', 'VERB'), ('as', 'ADP'), ('tweets', 'NOUN'), ('.', '.')]\n",
      "[('Before', 'ADP'), ('entering', 'VERB'), ('politics', 'NOUN'), (',', '.'), ('Donald', 'NOUN'), ('Trump', 'NOUN'), ('was', 'VERB'), ('a', 'DET'), ('domineering', 'VERB'), ('businessman', 'NOUN'), ('and', 'CONJ'), ('a', 'DET'), ('television', 'NOUN'), ('personality', 'NOUN'), ('.', '.')]\n",
      "[('The', 'DET'), ('2018', 'NUM'), ('FIFA', 'NOUN'), ('World', 'NOUN'), ('Cup', 'NOUN'), ('is', 'VERB'), ('the', 'DET'), ('21st', 'NOUN'), ('FIFA', 'NOUN'), ('World', 'NOUN'), ('Cup', 'NOUN'), (',', '.'), ('an', 'DET'), ('international', 'ADJ'), ('football', 'NOUN'), ('tournament', 'NOUN'), ('contested', 'VERB'), ('once', 'ADV'), ('every', 'DET'), ('four', 'NUM'), ('years', 'NOUN'), ('.', '.')]\n",
      "[('This', 'DET'), ('is', 'VERB'), ('the', 'DET'), ('first', 'ADJ'), ('World', 'NOUN'), ('Cup', 'NOUN'), ('to', 'PRT'), ('be', 'VERB'), ('held', 'VERB'), ('in', 'ADP'), ('Eastern', 'NOUN'), ('Europe', 'NOUN'), ('and', 'CONJ'), ('the', 'DET'), ('11th', 'ADJ'), ('time', 'NOUN'), ('that', 'ADP'), ('it', 'PRON'), ('has', 'VERB'), ('been', 'VERB'), ('held', 'VERB'), ('in', 'ADP'), ('Europe', 'NOUN'), ('.', '.')]\n",
      "[('Show', 'NOUN'), ('me', 'PRON'), ('the', 'DET'), ('cheapest', 'ADJ'), ('round', 'NOUN'), ('trips', 'NOUN'), ('from', 'ADP'), ('Dallas', 'NOUN'), ('to', 'PRT'), ('Atlanta', 'NOUN')]\n",
      "[('I', 'PRON'), ('would', 'VERB'), ('like', 'ADP'), ('to', 'PRT'), ('see', 'VERB'), ('flights', 'NOUN'), ('from', 'ADP'), ('Denver', 'NOUN'), ('to', 'PRT'), ('Philadelphia', 'NOUN'), ('.', '.')]\n",
      "[('Show', 'NOUN'), ('me', 'PRON'), ('the', 'DET'), ('price', 'NOUN'), ('of', 'ADP'), ('the', 'DET'), ('flights', 'NOUN'), ('leaving', 'VERB'), ('Atlanta', 'NOUN'), ('at', 'ADP'), ('about', 'ADP'), ('3', 'NUM'), ('in', 'ADP'), ('the', 'DET'), ('afternoon', 'NOUN'), ('and', 'CONJ'), ('arriving', 'VERB'), ('in', 'ADP'), ('San', 'NOUN'), ('Francisco', 'NOUN'), ('.', '.')]\n",
      "[('NASA', 'NOUN'), ('invited', 'VERB'), ('social', 'ADJ'), ('media', 'NOUN'), ('users', 'NOUN'), ('to', 'PRT'), ('experience', 'NOUN'), ('the', 'DET'), ('launch', 'NOUN'), ('of', 'ADP'), ('ICESAT-2', 'NOUN'), ('Satellite', 'NOUN'), ('.', '.')]\n"
     ]
    }
   ],
   "source": [
    "### Let us print the test lines with the updated Viterbi algorithm\n",
    "for line in test_lines:\n",
    "    print(list(Viterbi_updated(word_tokenize(line))))"
   ]
  },
  {
   "cell_type": "markdown",
   "metadata": {},
   "source": [
    "The following sentences are corrected by the modified viterbi algorithm"
   ]
  },
  {
   "cell_type": "markdown",
   "metadata": {},
   "source": [
    "##### 'Android is a mobile operating system developed by Google.'"
   ]
  },
  {
   "cell_type": "markdown",
   "metadata": {},
   "source": [
    "Here 'Android', 'Google' are unknown words and are incorrectly tagged in the initial viterbi algorithm. However with the updated Viterbi algorithm 'Android' and 'Google' are correctly classified as Nouns though they are unknown words"
   ]
  },
  {
   "cell_type": "markdown",
   "metadata": {},
   "source": [
    "###### 'Android has been the best-selling OS worldwide on smartphones since 2011 and on tablets since 2013.'"
   ]
  },
  {
   "cell_type": "markdown",
   "metadata": {},
   "source": [
    "Here 'Android', 'Google',' worldwide' are unknown words and are incorrectly tagged in the initial viterbi algorithm. However with the updated Viterbi algorithm 'Android' and 'Google' are correctly classified as Nouns though they are unknown words.\n",
    "\n",
    "Also words like '2011' are incorrectly classified with the original algorithm. Because we used rule based tagger as backoff tagger and we have rule for indicating cardinal numbers '2011' is correctly tagged as 'NUM' in the updated viterbi algorithm"
   ]
  },
  {
   "cell_type": "markdown",
   "metadata": {},
   "source": [
    " ##### 'NASA invited social media users to experience the launch of ICESAT-2 Satellite.'"
   ]
  },
  {
   "cell_type": "markdown",
   "metadata": {},
   "source": [
    "Here 'NASA', 'ICESAT-2',' Satellite' are unknown words and are incorrectly tagged in the initial viterbi algorithm. However with the updated Viterbi algorithm 'Android' and 'Google' are correctly classified as Nouns though they are unknown words.\n",
    "\n",
    "Also words like '2011' are incorrectly classified with the original algorithm. Because we used rule based tagger as backoff tagger and we have rule for indicating cardinal numbers '2011' is correctly tagged as 'NUM' in the updated viterbi algorithm"
   ]
  },
  {
   "cell_type": "code",
   "execution_count": 48,
   "metadata": {},
   "outputs": [],
   "source": [
    "### Again update Viterbi Heuristic to get more accuracy.\n",
    "def Viterbi_updated2(words, train_bag = train_tagged_words):\n",
    "    state = []\n",
    "    T = list(set([pair[1] for pair in train_bag]))\n",
    "    \n",
    "    for key, word in enumerate(words):\n",
    "        ### Initialising list of probability column for a given observation\n",
    "        p = [] \n",
    "        for tag in T:\n",
    "            if key == 0:\n",
    "                transition_p = tags_df.loc['.', tag]\n",
    "            else:\n",
    "                transition_p = tags_df.loc[state[-1], tag]\n",
    "                \n",
    "            ### Computing emission and state probabilities\n",
    "            emission_p = word_given_tag(words[key], tag)[0]/word_given_tag(words[key], tag)[1]\n",
    "            state_probability = emission_p * transition_p    \n",
    "            p.append(state_probability)\n",
    "            \n",
    "        pmax = max(p)\n",
    "       \n",
    "        ### Checking if state probability is zero\n",
    "        if(pmax<0.001):\n",
    "            #If state probability is zero i.e if the word is unknown if updates the tag based on the brill tagger\n",
    "            state_max = brill_tagger.tag([word])[0][1]\n",
    "        else:\n",
    "            ### Getting state for which probability is maximum\n",
    "            state_max = T[p.index(pmax)] \n",
    "        state.append(state_max)\n",
    "    return list(zip(words, state))"
   ]
  },
  {
   "cell_type": "code",
   "execution_count": 49,
   "metadata": {},
   "outputs": [
    {
     "name": "stdout",
     "output_type": "stream",
     "text": [
      "1994.6696999073029\n"
     ]
    }
   ],
   "source": [
    "### Tagging the test sentences with the updated Viterbi algorithm\n",
    "start = time.time()\n",
    "updated_tagged_seq = Viterbi_updated2(test_tagged_words)\n",
    "end = time.time()\n",
    "difference = end-start\n",
    "### Print total time taken to train the algorithm\n",
    "print(difference)"
   ]
  },
  {
   "cell_type": "code",
   "execution_count": 50,
   "metadata": {},
   "outputs": [
    {
     "data": {
      "text/plain": [
       "0.946658615136876"
      ]
     },
     "execution_count": 50,
     "metadata": {},
     "output_type": "execute_result"
    }
   ],
   "source": [
    "### Calculating the accuracy for the updated Viterbi algorithm\n",
    "check = [i for i, j in zip(updated_tagged_seq, test_run_base) if i == j] \n",
    "accuracy = len(check)/len(updated_tagged_seq)\n",
    "accuracy"
   ]
  },
  {
   "cell_type": "code",
   "execution_count": null,
   "metadata": {},
   "outputs": [],
   "source": []
  },
  {
   "cell_type": "code",
   "execution_count": null,
   "metadata": {},
   "outputs": [],
   "source": []
  },
  {
   "cell_type": "code",
   "execution_count": null,
   "metadata": {},
   "outputs": [],
   "source": []
  }
 ],
 "metadata": {
  "kernelspec": {
   "display_name": "Python 3",
   "language": "python",
   "name": "python3"
  },
  "language_info": {
   "codemirror_mode": {
    "name": "ipython",
    "version": 3
   },
   "file_extension": ".py",
   "mimetype": "text/x-python",
   "name": "python",
   "nbconvert_exporter": "python",
   "pygments_lexer": "ipython3",
   "version": "3.7.1"
  }
 },
 "nbformat": 4,
 "nbformat_minor": 2
}
