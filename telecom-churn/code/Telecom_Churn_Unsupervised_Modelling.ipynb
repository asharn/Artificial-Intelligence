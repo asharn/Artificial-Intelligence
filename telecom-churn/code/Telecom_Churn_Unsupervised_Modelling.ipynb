{
 "cells": [
  {
   "cell_type": "markdown",
   "metadata": {},
   "source": [
    "# Importing Required Library"
   ]
  },
  {
   "cell_type": "code",
   "execution_count": 117,
   "metadata": {},
   "outputs": [],
   "source": [
    "## import numpy and pandas\n",
    "import pandas as pd\n",
    "import numpy as np\n",
    "\n",
    "## import libraries for plotting\n",
    "import matplotlib.pyplot as plt\n",
    "import seaborn as sns\n",
    "## do an inline so that plt.show() is not required everytime\n",
    "%matplotlib inline\n",
    "\n",
    "## import for pre-processing\n",
    "## scale (this is same as standard scalar)\n",
    "from sklearn.preprocessing import scale\n",
    "## label encoding\n",
    "from sklearn.preprocessing import LabelEncoder\n",
    "\n",
    "## import for model selection:\n",
    "## splitting data into training and test data (validation set)\n",
    "from sklearn.model_selection import train_test_split\n",
    "## import for creating K-folds\n",
    "from sklearn.model_selection import KFold\n",
    "## import for CV using folds created\n",
    "from sklearn.model_selection import cross_val_score\n",
    "## import for grid search cv for Hyperparameter tuning\n",
    "from sklearn.model_selection import GridSearchCV\n",
    "\n",
    "## for deleting unused variables\n",
    "import gc\n",
    "\n",
    "## filter warnings\n",
    "import os\n",
    "import warnings\n",
    "warnings.filterwarnings('ignore')\n",
    "\n",
    "# Until fuction: line seperator\n",
    "def print_dashes_and_ln():\n",
    "    print('-'*100, '\\n')\n",
    "    \n",
    "# Formatter to display all float format in 2 decimal format\n",
    "pd.options.display.float_format = '{:.2f}'.format"
   ]
  },
  {
   "cell_type": "markdown",
   "metadata": {},
   "source": [
    "# Loading data from csv file"
   ]
  },
  {
   "cell_type": "code",
   "execution_count": 118,
   "metadata": {},
   "outputs": [
    {
     "name": "stdout",
     "output_type": "stream",
     "text": [
      "Dataframe Shape:  (99999, 226)\n",
      "---------------------------------------------------------------------------------------------------- \n",
      "\n"
     ]
    },
    {
     "data": {
      "text/html": [
       "<div>\n",
       "<style scoped>\n",
       "    .dataframe tbody tr th:only-of-type {\n",
       "        vertical-align: middle;\n",
       "    }\n",
       "\n",
       "    .dataframe tbody tr th {\n",
       "        vertical-align: top;\n",
       "    }\n",
       "\n",
       "    .dataframe thead th {\n",
       "        text-align: right;\n",
       "    }\n",
       "</style>\n",
       "<table border=\"1\" class=\"dataframe\">\n",
       "  <thead>\n",
       "    <tr style=\"text-align: right;\">\n",
       "      <th></th>\n",
       "      <th>mobile_number</th>\n",
       "      <th>circle_id</th>\n",
       "      <th>loc_og_t2o_mou</th>\n",
       "      <th>std_og_t2o_mou</th>\n",
       "      <th>loc_ic_t2o_mou</th>\n",
       "      <th>last_date_of_month_6</th>\n",
       "      <th>last_date_of_month_7</th>\n",
       "      <th>last_date_of_month_8</th>\n",
       "      <th>last_date_of_month_9</th>\n",
       "      <th>arpu_6</th>\n",
       "      <th>...</th>\n",
       "      <th>sachet_3g_9</th>\n",
       "      <th>fb_user_6</th>\n",
       "      <th>fb_user_7</th>\n",
       "      <th>fb_user_8</th>\n",
       "      <th>fb_user_9</th>\n",
       "      <th>aon</th>\n",
       "      <th>aug_vbc_3g</th>\n",
       "      <th>jul_vbc_3g</th>\n",
       "      <th>jun_vbc_3g</th>\n",
       "      <th>sep_vbc_3g</th>\n",
       "    </tr>\n",
       "  </thead>\n",
       "  <tbody>\n",
       "    <tr>\n",
       "      <th>0</th>\n",
       "      <td>7000842753</td>\n",
       "      <td>109</td>\n",
       "      <td>0.00</td>\n",
       "      <td>0.00</td>\n",
       "      <td>0.00</td>\n",
       "      <td>6/30/2014</td>\n",
       "      <td>7/31/2014</td>\n",
       "      <td>8/31/2014</td>\n",
       "      <td>9/30/2014</td>\n",
       "      <td>197.38</td>\n",
       "      <td>...</td>\n",
       "      <td>0</td>\n",
       "      <td>1.00</td>\n",
       "      <td>1.00</td>\n",
       "      <td>1.00</td>\n",
       "      <td>nan</td>\n",
       "      <td>968</td>\n",
       "      <td>30.40</td>\n",
       "      <td>0.00</td>\n",
       "      <td>101.20</td>\n",
       "      <td>3.58</td>\n",
       "    </tr>\n",
       "    <tr>\n",
       "      <th>1</th>\n",
       "      <td>7001865778</td>\n",
       "      <td>109</td>\n",
       "      <td>0.00</td>\n",
       "      <td>0.00</td>\n",
       "      <td>0.00</td>\n",
       "      <td>6/30/2014</td>\n",
       "      <td>7/31/2014</td>\n",
       "      <td>8/31/2014</td>\n",
       "      <td>9/30/2014</td>\n",
       "      <td>34.05</td>\n",
       "      <td>...</td>\n",
       "      <td>0</td>\n",
       "      <td>nan</td>\n",
       "      <td>1.00</td>\n",
       "      <td>1.00</td>\n",
       "      <td>nan</td>\n",
       "      <td>1006</td>\n",
       "      <td>0.00</td>\n",
       "      <td>0.00</td>\n",
       "      <td>0.00</td>\n",
       "      <td>0.00</td>\n",
       "    </tr>\n",
       "    <tr>\n",
       "      <th>2</th>\n",
       "      <td>7001625959</td>\n",
       "      <td>109</td>\n",
       "      <td>0.00</td>\n",
       "      <td>0.00</td>\n",
       "      <td>0.00</td>\n",
       "      <td>6/30/2014</td>\n",
       "      <td>7/31/2014</td>\n",
       "      <td>8/31/2014</td>\n",
       "      <td>9/30/2014</td>\n",
       "      <td>167.69</td>\n",
       "      <td>...</td>\n",
       "      <td>0</td>\n",
       "      <td>nan</td>\n",
       "      <td>nan</td>\n",
       "      <td>nan</td>\n",
       "      <td>1.00</td>\n",
       "      <td>1103</td>\n",
       "      <td>0.00</td>\n",
       "      <td>0.00</td>\n",
       "      <td>4.17</td>\n",
       "      <td>0.00</td>\n",
       "    </tr>\n",
       "    <tr>\n",
       "      <th>3</th>\n",
       "      <td>7001204172</td>\n",
       "      <td>109</td>\n",
       "      <td>0.00</td>\n",
       "      <td>0.00</td>\n",
       "      <td>0.00</td>\n",
       "      <td>6/30/2014</td>\n",
       "      <td>7/31/2014</td>\n",
       "      <td>8/31/2014</td>\n",
       "      <td>9/30/2014</td>\n",
       "      <td>221.34</td>\n",
       "      <td>...</td>\n",
       "      <td>0</td>\n",
       "      <td>nan</td>\n",
       "      <td>nan</td>\n",
       "      <td>nan</td>\n",
       "      <td>nan</td>\n",
       "      <td>2491</td>\n",
       "      <td>0.00</td>\n",
       "      <td>0.00</td>\n",
       "      <td>0.00</td>\n",
       "      <td>0.00</td>\n",
       "    </tr>\n",
       "    <tr>\n",
       "      <th>4</th>\n",
       "      <td>7000142493</td>\n",
       "      <td>109</td>\n",
       "      <td>0.00</td>\n",
       "      <td>0.00</td>\n",
       "      <td>0.00</td>\n",
       "      <td>6/30/2014</td>\n",
       "      <td>7/31/2014</td>\n",
       "      <td>8/31/2014</td>\n",
       "      <td>9/30/2014</td>\n",
       "      <td>261.64</td>\n",
       "      <td>...</td>\n",
       "      <td>0</td>\n",
       "      <td>0.00</td>\n",
       "      <td>nan</td>\n",
       "      <td>nan</td>\n",
       "      <td>nan</td>\n",
       "      <td>1526</td>\n",
       "      <td>0.00</td>\n",
       "      <td>0.00</td>\n",
       "      <td>0.00</td>\n",
       "      <td>0.00</td>\n",
       "    </tr>\n",
       "  </tbody>\n",
       "</table>\n",
       "<p>5 rows × 226 columns</p>\n",
       "</div>"
      ],
      "text/plain": [
       "   mobile_number  circle_id  loc_og_t2o_mou  std_og_t2o_mou  loc_ic_t2o_mou  \\\n",
       "0     7000842753        109            0.00            0.00            0.00   \n",
       "1     7001865778        109            0.00            0.00            0.00   \n",
       "2     7001625959        109            0.00            0.00            0.00   \n",
       "3     7001204172        109            0.00            0.00            0.00   \n",
       "4     7000142493        109            0.00            0.00            0.00   \n",
       "\n",
       "  last_date_of_month_6 last_date_of_month_7 last_date_of_month_8  \\\n",
       "0            6/30/2014            7/31/2014            8/31/2014   \n",
       "1            6/30/2014            7/31/2014            8/31/2014   \n",
       "2            6/30/2014            7/31/2014            8/31/2014   \n",
       "3            6/30/2014            7/31/2014            8/31/2014   \n",
       "4            6/30/2014            7/31/2014            8/31/2014   \n",
       "\n",
       "  last_date_of_month_9  arpu_6     ...      sachet_3g_9  fb_user_6  fb_user_7  \\\n",
       "0            9/30/2014  197.38     ...                0       1.00       1.00   \n",
       "1            9/30/2014   34.05     ...                0        nan       1.00   \n",
       "2            9/30/2014  167.69     ...                0        nan        nan   \n",
       "3            9/30/2014  221.34     ...                0        nan        nan   \n",
       "4            9/30/2014  261.64     ...                0       0.00        nan   \n",
       "\n",
       "   fb_user_8  fb_user_9   aon  aug_vbc_3g  jul_vbc_3g  jun_vbc_3g  sep_vbc_3g  \n",
       "0       1.00        nan   968       30.40        0.00      101.20        3.58  \n",
       "1       1.00        nan  1006        0.00        0.00        0.00        0.00  \n",
       "2        nan       1.00  1103        0.00        0.00        4.17        0.00  \n",
       "3        nan        nan  2491        0.00        0.00        0.00        0.00  \n",
       "4        nan        nan  1526        0.00        0.00        0.00        0.00  \n",
       "\n",
       "[5 rows x 226 columns]"
      ]
     },
     "execution_count": 118,
     "metadata": {},
     "output_type": "execute_result"
    }
   ],
   "source": [
    "# Loading telecom churn data from telecom_churn_data.csv file\n",
    "telecom_orig = pd.read_csv('telecom_churn_data.csv')\n",
    "telecom = telecom_orig.copy()\n",
    "print('Dataframe Shape: ', telecom.shape); print_dashes_and_ln();\n",
    "telecom.head()"
   ]
  },
  {
   "cell_type": "code",
   "execution_count": 119,
   "metadata": {},
   "outputs": [
    {
     "name": "stdout",
     "output_type": "stream",
     "text": [
      "<class 'pandas.core.frame.DataFrame'>\n",
      "RangeIndex: 99999 entries, 0 to 99998\n",
      "Columns: 226 entries, mobile_number to sep_vbc_3g\n",
      "dtypes: float64(179), int64(35), object(12)\n",
      "memory usage: 172.4+ MB\n",
      "Data related Information:  None\n",
      "---------------------------------------------------------------------------------------------------- \n",
      "\n"
     ]
    }
   ],
   "source": [
    "# Understanding data type, columns, amount, etc\n",
    "print('Data related Information: ', telecom.info()); print_dashes_and_ln();"
   ]
  },
  {
   "cell_type": "markdown",
   "metadata": {},
   "source": [
    "After doing analysis on data and understanding business. We may come to understancd that those columns are more important. Whose column name contain rech_amt, rech_data, night_pck, fb_user as substring . So, firstly filling those columns with 0 as new category will help in further manupulation, cleaning and to determine the high value customers."
   ]
  },
  {
   "cell_type": "code",
   "execution_count": 120,
   "metadata": {},
   "outputs": [
    {
     "name": "stdout",
     "output_type": "stream",
     "text": [
      "Index(['total_rech_amt_6', 'total_rech_amt_7', 'total_rech_amt_8',\n",
      "       'total_rech_amt_9', 'max_rech_amt_6', 'max_rech_amt_7',\n",
      "       'max_rech_amt_8', 'max_rech_amt_9', 'date_of_last_rech_data_6',\n",
      "       'date_of_last_rech_data_7', 'date_of_last_rech_data_8',\n",
      "       'date_of_last_rech_data_9', 'total_rech_data_6', 'total_rech_data_7',\n",
      "       'total_rech_data_8', 'total_rech_data_9', 'max_rech_data_6',\n",
      "       'max_rech_data_7', 'max_rech_data_8', 'max_rech_data_9',\n",
      "       'av_rech_amt_data_6', 'av_rech_amt_data_7', 'av_rech_amt_data_8',\n",
      "       'av_rech_amt_data_9'],\n",
      "      dtype='object')\n",
      "---------------------------------------------------------------------------------------------------- \n",
      "\n"
     ]
    }
   ],
   "source": [
    "# let us first extract list of columns containing recharge amount\n",
    "imp_columns =  telecom.columns[telecom.columns.str.contains('rech_amt|rech_data')]\n",
    "\n",
    "print(imp_columns);print_dashes_and_ln();"
   ]
  },
  {
   "cell_type": "code",
   "execution_count": 121,
   "metadata": {},
   "outputs": [
    {
     "data": {
      "text/plain": [
       "total_rech_amt_6            0.00\n",
       "total_rech_amt_7            0.00\n",
       "total_rech_amt_8            0.00\n",
       "total_rech_amt_9            0.00\n",
       "max_rech_amt_6              0.00\n",
       "max_rech_amt_7              0.00\n",
       "max_rech_amt_8              0.00\n",
       "max_rech_amt_9              0.00\n",
       "date_of_last_rech_data_6   74.85\n",
       "date_of_last_rech_data_7   74.43\n",
       "date_of_last_rech_data_8   73.66\n",
       "date_of_last_rech_data_9   74.08\n",
       "total_rech_data_6          74.85\n",
       "total_rech_data_7          74.43\n",
       "total_rech_data_8          73.66\n",
       "total_rech_data_9          74.08\n",
       "max_rech_data_6            74.85\n",
       "max_rech_data_7            74.43\n",
       "max_rech_data_8            73.66\n",
       "max_rech_data_9            74.08\n",
       "av_rech_amt_data_6         74.85\n",
       "av_rech_amt_data_7         74.43\n",
       "av_rech_amt_data_8         73.66\n",
       "av_rech_amt_data_9         74.08\n",
       "dtype: float64"
      ]
     },
     "execution_count": 121,
     "metadata": {},
     "output_type": "execute_result"
    }
   ],
   "source": [
    "# let us check if there are any missing values for recharge amount\n",
    "100*telecom.loc[:,imp_columns].isnull().sum()/len(telecom)"
   ]
  },
  {
   "cell_type": "code",
   "execution_count": 122,
   "metadata": {},
   "outputs": [
    {
     "data": {
      "text/html": [
       "<div>\n",
       "<style scoped>\n",
       "    .dataframe tbody tr th:only-of-type {\n",
       "        vertical-align: middle;\n",
       "    }\n",
       "\n",
       "    .dataframe tbody tr th {\n",
       "        vertical-align: top;\n",
       "    }\n",
       "\n",
       "    .dataframe thead th {\n",
       "        text-align: right;\n",
       "    }\n",
       "</style>\n",
       "<table border=\"1\" class=\"dataframe\">\n",
       "  <thead>\n",
       "    <tr style=\"text-align: right;\">\n",
       "      <th></th>\n",
       "      <th>total_rech_amt_6</th>\n",
       "      <th>max_rech_amt_6</th>\n",
       "      <th>total_rech_data_6</th>\n",
       "      <th>max_rech_data_6</th>\n",
       "      <th>av_rech_amt_data_6</th>\n",
       "    </tr>\n",
       "  </thead>\n",
       "  <tbody>\n",
       "    <tr>\n",
       "      <th>count</th>\n",
       "      <td>99999.00</td>\n",
       "      <td>99999.00</td>\n",
       "      <td>25153.00</td>\n",
       "      <td>25153.00</td>\n",
       "      <td>25153.00</td>\n",
       "    </tr>\n",
       "    <tr>\n",
       "      <th>mean</th>\n",
       "      <td>327.51</td>\n",
       "      <td>104.64</td>\n",
       "      <td>2.46</td>\n",
       "      <td>126.39</td>\n",
       "      <td>192.60</td>\n",
       "    </tr>\n",
       "    <tr>\n",
       "      <th>std</th>\n",
       "      <td>398.02</td>\n",
       "      <td>120.61</td>\n",
       "      <td>2.79</td>\n",
       "      <td>108.48</td>\n",
       "      <td>192.65</td>\n",
       "    </tr>\n",
       "    <tr>\n",
       "      <th>min</th>\n",
       "      <td>0.00</td>\n",
       "      <td>0.00</td>\n",
       "      <td>1.00</td>\n",
       "      <td>1.00</td>\n",
       "      <td>1.00</td>\n",
       "    </tr>\n",
       "    <tr>\n",
       "      <th>25%</th>\n",
       "      <td>109.00</td>\n",
       "      <td>30.00</td>\n",
       "      <td>1.00</td>\n",
       "      <td>25.00</td>\n",
       "      <td>82.00</td>\n",
       "    </tr>\n",
       "    <tr>\n",
       "      <th>50%</th>\n",
       "      <td>230.00</td>\n",
       "      <td>110.00</td>\n",
       "      <td>1.00</td>\n",
       "      <td>145.00</td>\n",
       "      <td>154.00</td>\n",
       "    </tr>\n",
       "    <tr>\n",
       "      <th>75%</th>\n",
       "      <td>437.50</td>\n",
       "      <td>120.00</td>\n",
       "      <td>3.00</td>\n",
       "      <td>177.00</td>\n",
       "      <td>252.00</td>\n",
       "    </tr>\n",
       "    <tr>\n",
       "      <th>max</th>\n",
       "      <td>35190.00</td>\n",
       "      <td>4010.00</td>\n",
       "      <td>61.00</td>\n",
       "      <td>1555.00</td>\n",
       "      <td>7546.00</td>\n",
       "    </tr>\n",
       "  </tbody>\n",
       "</table>\n",
       "</div>"
      ],
      "text/plain": [
       "       total_rech_amt_6  max_rech_amt_6  total_rech_data_6  max_rech_data_6  \\\n",
       "count          99999.00        99999.00           25153.00         25153.00   \n",
       "mean             327.51          104.64               2.46           126.39   \n",
       "std              398.02          120.61               2.79           108.48   \n",
       "min                0.00            0.00               1.00             1.00   \n",
       "25%              109.00           30.00               1.00            25.00   \n",
       "50%              230.00          110.00               1.00           145.00   \n",
       "75%              437.50          120.00               3.00           177.00   \n",
       "max            35190.00         4010.00              61.00          1555.00   \n",
       "\n",
       "       av_rech_amt_data_6  \n",
       "count            25153.00  \n",
       "mean               192.60  \n",
       "std                192.65  \n",
       "min                  1.00  \n",
       "25%                 82.00  \n",
       "50%                154.00  \n",
       "75%                252.00  \n",
       "max               7546.00  "
      ]
     },
     "execution_count": 122,
     "metadata": {},
     "output_type": "execute_result"
    }
   ],
   "source": [
    "recharge_amnt_columns_6 = telecom.columns[telecom.columns.str.contains('rech_amt_6|rech_data_6|rech_amt_data_6')]\n",
    "\n",
    "telecom.loc[:,recharge_amnt_columns_6].describe()"
   ]
  },
  {
   "cell_type": "code",
   "execution_count": 123,
   "metadata": {},
   "outputs": [
    {
     "name": "stdout",
     "output_type": "stream",
     "text": [
      "0.0\n",
      "0.0\n",
      "0.0\n",
      "0.0\n",
      "0.0\n",
      "0.0\n"
     ]
    }
   ],
   "source": [
    "\n",
    "\n",
    "# let's check if there are any values where total_rech_data is NA and value is present for av_rech_amt_data and vice versa\n",
    "# check how many av_rech_amt_data_6 is NA\n",
    "is_invalid_data_6 = telecom['av_rech_amt_data_6'] == np.nan\n",
    "is_invalid_data_7 = telecom['av_rech_amt_data_7'] == np.nan\n",
    "is_invalid_data_8 = telecom['av_rech_amt_data_7'] == np.nan\n",
    "\n",
    "# check if any value is present for these rows for total_rech_data\n",
    "print(telecom.loc[is_invalid_data_6,'total_rech_data_6'].sum())\n",
    "print(telecom.loc[is_invalid_data_7,'total_rech_data_7'].sum())\n",
    "print(telecom.loc[is_invalid_data_8,'total_rech_data_8'].sum())\n",
    "\n",
    "# check how many total_rech_data_6 is NA\n",
    "is_invalid_data_6 = telecom['total_rech_data_6'] == np.nan \n",
    "is_invalid_data_7 = telecom['total_rech_data_7'] == np.nan \n",
    "is_invalid_data_8 = telecom['total_rech_data_8'] == np.nan \n",
    "\n",
    "# check if any value is present for these rows for av_rech_amt_data_6\n",
    "print(telecom.loc[is_invalid_data_6,'av_rech_amt_data_6'].sum())\n",
    "print(telecom.loc[is_invalid_data_7,'av_rech_amt_data_7'].sum())\n",
    "print(telecom.loc[is_invalid_data_8,'av_rech_amt_data_8'].sum())\n",
    "\n"
   ]
  },
  {
   "cell_type": "code",
   "execution_count": 124,
   "metadata": {},
   "outputs": [],
   "source": [
    "telecom.loc[:,['total_rech_data_6','total_rech_data_7','total_rech_data_8']]= \\\n",
    "telecom.loc[:,['total_rech_data_6','total_rech_data_7','total_rech_data_8']].replace(np.NaN,0)"
   ]
  },
  {
   "cell_type": "code",
   "execution_count": 125,
   "metadata": {},
   "outputs": [],
   "source": [
    "telecom.loc[:,['av_rech_amt_data_6','av_rech_amt_data_7','av_rech_amt_data_8']]= \\\n",
    "telecom.loc[:,['av_rech_amt_data_6','av_rech_amt_data_7','av_rech_amt_data_8']].replace(np.NaN,0)"
   ]
  },
  {
   "cell_type": "code",
   "execution_count": 126,
   "metadata": {},
   "outputs": [],
   "source": [
    "\n",
    "# let's add a new derived variable total recharge amount for data: total_rech_amt_data\n",
    "telecom['total_rech_amt_data_6'] = telecom.av_rech_amt_data_6*telecom.total_rech_data_6\n",
    "telecom['total_rech_amt_data_7'] = telecom.av_rech_amt_data_7*telecom.total_rech_data_7\n",
    "telecom['total_rech_amt_data_8'] = telecom.av_rech_amt_data_8*telecom.total_rech_data_8"
   ]
  },
  {
   "cell_type": "code",
   "execution_count": 127,
   "metadata": {},
   "outputs": [],
   "source": [
    "telecom['total_avg_rech_amnt_good_ph'] = (telecom.total_rech_amt_6 +telecom.total_rech_amt_data_6 \\\n",
    "                                               + telecom.total_rech_amt_7+telecom.total_rech_amt_data_7)/4"
   ]
  },
  {
   "cell_type": "code",
   "execution_count": 128,
   "metadata": {},
   "outputs": [],
   "source": [
    "\n",
    "# create a filter for values greater than 70th percentile of total average recharge amount for good phase \n",
    "high_value_filter = telecom.total_avg_rech_amnt_good_ph >= telecom.total_avg_rech_amnt_good_ph.quantile(0.7)\n",
    "\n"
   ]
  },
  {
   "cell_type": "code",
   "execution_count": 129,
   "metadata": {},
   "outputs": [
    {
     "data": {
      "text/plain": [
       "30001"
      ]
     },
     "execution_count": 129,
     "metadata": {},
     "output_type": "execute_result"
    }
   ],
   "source": [
    "# let us subset out the High Value customers\n",
    "telecom = telecom.loc[high_value_filter,:]\n",
    "\n",
    "# let us check how many records remain\n",
    "len(telecom.loc[high_value_filter,:])"
   ]
  },
  {
   "cell_type": "code",
   "execution_count": 130,
   "metadata": {},
   "outputs": [],
   "source": [
    "# Now let us label the churned customers\n",
    "# define a new column in data frame as 'churn' with value as 1 if customer has churned and 0 if customer has not churned\n",
    "# Initially set all the values as 0\n",
    "telecom['churn']= 0"
   ]
  },
  {
   "cell_type": "code",
   "execution_count": 131,
   "metadata": {},
   "outputs": [
    {
     "data": {
      "text/plain": [
       "total_ic_mou_9   0.00\n",
       "total_ic_mou_9   0.00\n",
       "vol_2g_mb_9      0.00\n",
       "vol_3g_mb_9      0.00\n",
       "dtype: float64"
      ]
     },
     "execution_count": 131,
     "metadata": {},
     "output_type": "execute_result"
    }
   ],
   "source": [
    "\n",
    "\n",
    "# the following columns will be used to find the churned customers in the 9th month \n",
    "# total_ic_mou_9, total_ic_mou_9, vol_2g_mb_9 and vol_3g_mb_9\n",
    "# let's check if any NA/Null values are present\n",
    "ls_9 = ['total_ic_mou_9', 'total_ic_mou_9', 'vol_2g_mb_9','vol_3g_mb_9']\n",
    "100*telecom.loc[:,ls_9].isnull().sum()/len(telecom)\n",
    "\n"
   ]
  },
  {
   "cell_type": "code",
   "execution_count": 132,
   "metadata": {},
   "outputs": [
    {
     "data": {
      "text/plain": [
       "8.406386453784874"
      ]
     },
     "execution_count": 132,
     "metadata": {},
     "output_type": "execute_result"
    }
   ],
   "source": [
    "\n",
    "\n",
    "# define is_churned boolean flag for customers where above values are zero\n",
    "is_churned = (telecom.total_ic_mou_9 == 0) & (telecom.total_ic_mou_9 == 0) & (telecom.vol_2g_mb_9 ==0)& \\\n",
    "(telecom.vol_3g_mb_9 ==0)\n",
    "\n",
    "# set all such rows fulfilling is_churned condition as 1\n",
    "telecom.loc[is_churned,'churn']=1\n",
    "\n",
    "# let us check what's the % of churned customers\n",
    "100*telecom.churn.sum()/len(is_churned)"
   ]
  },
  {
   "cell_type": "code",
   "execution_count": 133,
   "metadata": {},
   "outputs": [
    {
     "name": "stdout",
     "output_type": "stream",
     "text": [
      "<class 'pandas.core.frame.DataFrame'>\n",
      "Int64Index: 30001 entries, 0 to 99997\n",
      "Columns: 177 entries, mobile_number to churn\n",
      "dtypes: float64(140), int64(28), object(9)\n",
      "memory usage: 40.7+ MB\n"
     ]
    }
   ],
   "source": [
    "\n",
    "\n",
    "# let's extract all list of 9th Month (churned month) Columns\n",
    "month_9_columns =  telecom.columns[telecom.columns.str.contains('_9')]\n",
    "\n",
    "# drop all columns corresponding to the attributes of churn phase\n",
    "telecom.drop(month_9_columns,axis=1,inplace=True)\n",
    "\n",
    "# let's check how many columns remain\n",
    "telecom.info()"
   ]
  },
  {
   "cell_type": "code",
   "execution_count": 134,
   "metadata": {},
   "outputs": [
    {
     "data": {
      "text/plain": [
       "mobile_number                  0.00\n",
       "circle_id                      0.00\n",
       "loc_og_t2o_mou                 0.75\n",
       "std_og_t2o_mou                 0.75\n",
       "loc_ic_t2o_mou                 0.75\n",
       "last_date_of_month_6           0.00\n",
       "last_date_of_month_7           0.09\n",
       "last_date_of_month_8           0.55\n",
       "arpu_6                         0.00\n",
       "arpu_7                         0.00\n",
       "arpu_8                         0.00\n",
       "onnet_mou_6                    1.82\n",
       "onnet_mou_7                    1.79\n",
       "onnet_mou_8                    3.91\n",
       "offnet_mou_6                   1.82\n",
       "offnet_mou_7                   1.79\n",
       "offnet_mou_8                   3.91\n",
       "roam_ic_mou_6                  1.82\n",
       "roam_ic_mou_7                  1.79\n",
       "roam_ic_mou_8                  3.91\n",
       "roam_og_mou_6                  1.82\n",
       "roam_og_mou_7                  1.79\n",
       "roam_og_mou_8                  3.91\n",
       "loc_og_t2t_mou_6               1.82\n",
       "loc_og_t2t_mou_7               1.79\n",
       "loc_og_t2t_mou_8               3.91\n",
       "loc_og_t2m_mou_6               1.82\n",
       "loc_og_t2m_mou_7               1.79\n",
       "loc_og_t2m_mou_8               3.91\n",
       "loc_og_t2f_mou_6               1.82\n",
       "                               ... \n",
       "arpu_2g_7                     43.15\n",
       "arpu_2g_8                     46.83\n",
       "night_pck_user_6              44.15\n",
       "night_pck_user_7              43.15\n",
       "night_pck_user_8              46.83\n",
       "monthly_2g_6                   0.00\n",
       "monthly_2g_7                   0.00\n",
       "monthly_2g_8                   0.00\n",
       "sachet_2g_6                    0.00\n",
       "sachet_2g_7                    0.00\n",
       "sachet_2g_8                    0.00\n",
       "monthly_3g_6                   0.00\n",
       "monthly_3g_7                   0.00\n",
       "monthly_3g_8                   0.00\n",
       "sachet_3g_6                    0.00\n",
       "sachet_3g_7                    0.00\n",
       "sachet_3g_8                    0.00\n",
       "fb_user_6                     44.15\n",
       "fb_user_7                     43.15\n",
       "fb_user_8                     46.83\n",
       "aon                            0.00\n",
       "aug_vbc_3g                     0.00\n",
       "jul_vbc_3g                     0.00\n",
       "jun_vbc_3g                     0.00\n",
       "sep_vbc_3g                     0.00\n",
       "total_rech_amt_data_6          0.00\n",
       "total_rech_amt_data_7          0.00\n",
       "total_rech_amt_data_8          0.00\n",
       "total_avg_rech_amnt_good_ph    0.00\n",
       "churn                          0.00\n",
       "Length: 177, dtype: float64"
      ]
     },
     "execution_count": 134,
     "metadata": {},
     "output_type": "execute_result"
    }
   ],
   "source": [
    "100*telecom.isnull().sum()/len(telecom.index)"
   ]
  },
  {
   "cell_type": "code",
   "execution_count": 135,
   "metadata": {},
   "outputs": [],
   "source": [
    "# create function to anlyze the features across 6th, 7th and 8th month\n",
    "def analyze_feature(feature_start):\n",
    "    plt.rcParams[\"figure.figsize\"] = [17, 7]\n",
    "    fig = plt.figure()\n",
    "    print(\"Churn Stats (mean and standard deviation):\")\n",
    "    cols = {c: feature_start + \"_\" + str(c) for c in [6,7,8]}\n",
    "    print(cols)\n",
    "    frame_data = []\n",
    "    [frame_data.append({\n",
    "        \"mean_6\": telecom[telecom[\"churn\"] == churn][cols[6]].mean(),\n",
    "        \"mean_7\": telecom[telecom[\"churn\"] == churn][cols[7]].mean(),\n",
    "        \"mean_8\": telecom[telecom[\"churn\"] == churn][cols[8]].mean(),\n",
    "        \"std_6\": telecom[telecom[\"churn\"] == churn][cols[6]].std(),\n",
    "        \"std_7\": telecom[telecom[\"churn\"] == churn][cols[7]].std(),\n",
    "        \"std_8\": telecom[telecom[\"churn\"] == churn][cols[8]].std()\n",
    "    }) for churn in [0,1]]\n",
    "    \n",
    "    f,axes = plt.subplots(nrows=1, ncols=3)\n",
    "    sns.boxplot(data=telecom, y=feature_start + \"_6\", x=\"churn\",\n",
    "                hue=\"churn\", linewidth=2.5, showfliers=False, ax=axes[0])\n",
    "    sns.boxplot(data=telecom, y=feature_start + \"_7\",  x=\"churn\",\n",
    "                hue=\"churn\", linewidth=2.5, showfliers=False, ax=axes[1])\n",
    "    sns.boxplot(data=telecom, y=feature_start + \"_8\",  x=\"churn\",\n",
    "                hue=\"churn\", linewidth=2.5, showfliers=False, ax=axes[2])\n",
    "    return pd.DataFrame(frame_data,index={\"Non Churned\",\"Churned\"}).round(2)\n",
    "\n"
   ]
  },
  {
   "cell_type": "code",
   "execution_count": 136,
   "metadata": {},
   "outputs": [
    {
     "data": {
      "text/plain": [
       "Index(['total_rech_amt_6', 'total_rech_amt_7', 'total_rech_amt_8',\n",
       "       'max_rech_amt_6', 'max_rech_amt_7', 'max_rech_amt_8',\n",
       "       'av_rech_amt_data_6', 'av_rech_amt_data_7', 'av_rech_amt_data_8',\n",
       "       'total_rech_amt_data_6', 'total_rech_amt_data_7',\n",
       "       'total_rech_amt_data_8'],\n",
       "      dtype='object')"
      ]
     },
     "execution_count": 136,
     "metadata": {},
     "output_type": "execute_result"
    }
   ],
   "source": [
    "\n",
    "\n",
    "#let's again extract the recharge amount related columns\n",
    "recharge_amnt_columns =  telecom.columns[telecom.columns.str.contains('rech_amt')]\n",
    "\n",
    "recharge_amnt_columns\n",
    "\n"
   ]
  },
  {
   "cell_type": "code",
   "execution_count": 137,
   "metadata": {},
   "outputs": [
    {
     "name": "stdout",
     "output_type": "stream",
     "text": [
      "Churn Stats (mean and standard deviation):\n",
      "{6: 'total_rech_amt_6', 7: 'total_rech_amt_7', 8: 'total_rech_amt_8'}\n"
     ]
    },
    {
     "data": {
      "text/html": [
       "<div>\n",
       "<style scoped>\n",
       "    .dataframe tbody tr th:only-of-type {\n",
       "        vertical-align: middle;\n",
       "    }\n",
       "\n",
       "    .dataframe tbody tr th {\n",
       "        vertical-align: top;\n",
       "    }\n",
       "\n",
       "    .dataframe thead th {\n",
       "        text-align: right;\n",
       "    }\n",
       "</style>\n",
       "<table border=\"1\" class=\"dataframe\">\n",
       "  <thead>\n",
       "    <tr style=\"text-align: right;\">\n",
       "      <th></th>\n",
       "      <th>mean_6</th>\n",
       "      <th>mean_7</th>\n",
       "      <th>mean_8</th>\n",
       "      <th>std_6</th>\n",
       "      <th>std_7</th>\n",
       "      <th>std_8</th>\n",
       "    </tr>\n",
       "  </thead>\n",
       "  <tbody>\n",
       "    <tr>\n",
       "      <th>Non Churned</th>\n",
       "      <td>649.56</td>\n",
       "      <td>663.82</td>\n",
       "      <td>614.54</td>\n",
       "      <td>548.02</td>\n",
       "      <td>574.33</td>\n",
       "      <td>615.19</td>\n",
       "    </tr>\n",
       "    <tr>\n",
       "      <th>Churned</th>\n",
       "      <td>782.50</td>\n",
       "      <td>624.30</td>\n",
       "      <td>255.57</td>\n",
       "      <td>675.28</td>\n",
       "      <td>663.40</td>\n",
       "      <td>450.55</td>\n",
       "    </tr>\n",
       "  </tbody>\n",
       "</table>\n",
       "</div>"
      ],
      "text/plain": [
       "             mean_6  mean_7  mean_8  std_6  std_7  std_8\n",
       "Non Churned  649.56  663.82  614.54 548.02 574.33 615.19\n",
       "Churned      782.50  624.30  255.57 675.28 663.40 450.55"
      ]
     },
     "execution_count": 137,
     "metadata": {},
     "output_type": "execute_result"
    },
    {
     "data": {
      "text/plain": [
       "<Figure size 1224x504 with 0 Axes>"
      ]
     },
     "metadata": {},
     "output_type": "display_data"
    },
    {
     "data": {
      "image/png": "[encoded data removed]",
      "text/plain": [
       "<Figure size 1224x504 with 3 Axes>"
      ]
     },
     "metadata": {
      "needs_background": "light"
     },
     "output_type": "display_data"
    }
   ],
   "source": [
    "# let's analyze total recharge amount:\n",
    "analyze_feature('total_rech_amt')"
   ]
  },
  {
   "cell_type": "code",
   "execution_count": 138,
   "metadata": {},
   "outputs": [
    {
     "name": "stdout",
     "output_type": "stream",
     "text": [
      "Churn Stats (mean and standard deviation):\n",
      "{6: 'total_rech_amt_data_6', 7: 'total_rech_amt_data_7', 8: 'total_rech_amt_data_8'}\n"
     ]
    },
    {
     "data": {
      "text/html": [
       "<div>\n",
       "<style scoped>\n",
       "    .dataframe tbody tr th:only-of-type {\n",
       "        vertical-align: middle;\n",
       "    }\n",
       "\n",
       "    .dataframe tbody tr th {\n",
       "        vertical-align: top;\n",
       "    }\n",
       "\n",
       "    .dataframe thead th {\n",
       "        text-align: right;\n",
       "    }\n",
       "</style>\n",
       "<table border=\"1\" class=\"dataframe\">\n",
       "  <thead>\n",
       "    <tr style=\"text-align: right;\">\n",
       "      <th></th>\n",
       "      <th>mean_6</th>\n",
       "      <th>mean_7</th>\n",
       "      <th>mean_8</th>\n",
       "      <th>std_6</th>\n",
       "      <th>std_7</th>\n",
       "      <th>std_8</th>\n",
       "    </tr>\n",
       "  </thead>\n",
       "  <tbody>\n",
       "    <tr>\n",
       "      <th>Non Churned</th>\n",
       "      <td>460.70</td>\n",
       "      <td>545.73</td>\n",
       "      <td>498.19</td>\n",
       "      <td>1447.90</td>\n",
       "      <td>1500.10</td>\n",
       "      <td>1685.29</td>\n",
       "    </tr>\n",
       "    <tr>\n",
       "      <th>Churned</th>\n",
       "      <td>402.12</td>\n",
       "      <td>337.63</td>\n",
       "      <td>82.54</td>\n",
       "      <td>1047.33</td>\n",
       "      <td>1165.83</td>\n",
       "      <td>470.96</td>\n",
       "    </tr>\n",
       "  </tbody>\n",
       "</table>\n",
       "</div>"
      ],
      "text/plain": [
       "             mean_6  mean_7  mean_8   std_6   std_7   std_8\n",
       "Non Churned  460.70  545.73  498.19 1447.90 1500.10 1685.29\n",
       "Churned      402.12  337.63   82.54 1047.33 1165.83  470.96"
      ]
     },
     "execution_count": 138,
     "metadata": {},
     "output_type": "execute_result"
    },
    {
     "data": {
      "text/plain": [
       "<Figure size 1224x504 with 0 Axes>"
      ]
     },
     "metadata": {},
     "output_type": "display_data"
    },
    {
     "data": {
      "image/png": "[encoded data removed]",
      "text/plain": [
       "<Figure size 1224x504 with 3 Axes>"
      ]
     },
     "metadata": {
      "needs_background": "light"
     },
     "output_type": "display_data"
    }
   ],
   "source": [
    "# let's analyze total recharge amount for data:\n",
    "analyze_feature('total_rech_amt_data')"
   ]
  },
  {
   "cell_type": "code",
   "execution_count": 139,
   "metadata": {},
   "outputs": [
    {
     "name": "stdout",
     "output_type": "stream",
     "text": [
      "Churn Stats (mean and standard deviation):\n",
      "{6: 'max_rech_amt_6', 7: 'max_rech_amt_7', 8: 'max_rech_amt_8'}\n"
     ]
    },
    {
     "data": {
      "text/html": [
       "<div>\n",
       "<style scoped>\n",
       "    .dataframe tbody tr th:only-of-type {\n",
       "        vertical-align: middle;\n",
       "    }\n",
       "\n",
       "    .dataframe tbody tr th {\n",
       "        vertical-align: top;\n",
       "    }\n",
       "\n",
       "    .dataframe thead th {\n",
       "        text-align: right;\n",
       "    }\n",
       "</style>\n",
       "<table border=\"1\" class=\"dataframe\">\n",
       "  <thead>\n",
       "    <tr style=\"text-align: right;\">\n",
       "      <th></th>\n",
       "      <th>mean_6</th>\n",
       "      <th>mean_7</th>\n",
       "      <th>mean_8</th>\n",
       "      <th>std_6</th>\n",
       "      <th>std_7</th>\n",
       "      <th>std_8</th>\n",
       "    </tr>\n",
       "  </thead>\n",
       "  <tbody>\n",
       "    <tr>\n",
       "      <th>Non Churned</th>\n",
       "      <td>168.85</td>\n",
       "      <td>173.23</td>\n",
       "      <td>166.78</td>\n",
       "      <td>171.50</td>\n",
       "      <td>176.37</td>\n",
       "      <td>170.97</td>\n",
       "    </tr>\n",
       "    <tr>\n",
       "      <th>Churned</th>\n",
       "      <td>173.98</td>\n",
       "      <td>161.00</td>\n",
       "      <td>87.89</td>\n",
       "      <td>212.49</td>\n",
       "      <td>228.85</td>\n",
       "      <td>180.84</td>\n",
       "    </tr>\n",
       "  </tbody>\n",
       "</table>\n",
       "</div>"
      ],
      "text/plain": [
       "             mean_6  mean_7  mean_8  std_6  std_7  std_8\n",
       "Non Churned  168.85  173.23  166.78 171.50 176.37 170.97\n",
       "Churned      173.98  161.00   87.89 212.49 228.85 180.84"
      ]
     },
     "execution_count": 139,
     "metadata": {},
     "output_type": "execute_result"
    },
    {
     "data": {
      "text/plain": [
       "<Figure size 1224x504 with 0 Axes>"
      ]
     },
     "metadata": {},
     "output_type": "display_data"
    },
    {
     "data": {
      "image/png": "[encoded data removed]",
      "text/plain": [
       "<Figure size 1224x504 with 3 Axes>"
      ]
     },
     "metadata": {
      "needs_background": "light"
     },
     "output_type": "display_data"
    }
   ],
   "source": [
    "\n",
    "\n",
    "# let's analyze maximum recharge amount for data:\n",
    "analyze_feature('max_rech_amt')\n",
    "\n"
   ]
  },
  {
   "cell_type": "code",
   "execution_count": 140,
   "metadata": {},
   "outputs": [],
   "source": [
    "# drop av_rech_amt_data and total_rech_data columns as total_rech_amt_data derived using these columns.\n",
    "telecom.drop(['av_rech_amt_data_6','av_rech_amt_data_7'\n",
    "                   ,'av_rech_amt_data_8','total_rech_data_6','total_rech_data_7','total_rech_data_8'],axis=1,inplace=True)"
   ]
  },
  {
   "cell_type": "code",
   "execution_count": 141,
   "metadata": {},
   "outputs": [],
   "source": [
    "# Let us define 3 new derived columns\n",
    "# total recharge amount for good phase: total_rech_amt_good_ph\n",
    "# total recharge amount data for good phase: total_rech_amt_data_good_ph\n",
    "# max recharge amount for good phase: max_rech_amt_good_ph\n",
    "\n",
    "telecom['total_rech_amt_good_ph'] = (telecom.total_rech_amt_6 + telecom.total_rech_amt_7)/2\n",
    "telecom['total_rech_amt_data_good_ph'] = (telecom.total_rech_amt_data_6 + telecom.total_rech_amt_data_7)/2\n",
    "telecom['max_rech_amt_good_ph'] = (telecom.max_rech_amt_6 + telecom.max_rech_amt_7)/2\n",
    "\n",
    "# drop the original columns as these are not longer required\n",
    "telecom.drop(['total_rech_amt_6','total_rech_amt_7'\n",
    "              ,'max_rech_amt_6','max_rech_amt_7','total_rech_amt_data_6','total_rech_amt_data_7'],axis=1,inplace=True)\n",
    "\n",
    "# also drop total_avg_rech_amnt_good_ph as we are using the component columns defined above\n",
    "telecom.drop('total_avg_rech_amnt_good_ph',axis=1,inplace=True)"
   ]
  },
  {
   "cell_type": "code",
   "execution_count": 142,
   "metadata": {},
   "outputs": [
    {
     "name": "stdout",
     "output_type": "stream",
     "text": [
      "Churn Stats (mean and standard deviation):\n",
      "{6: 'last_day_rch_amt_6', 7: 'last_day_rch_amt_7', 8: 'last_day_rch_amt_8'}\n"
     ]
    },
    {
     "data": {
      "text/html": [
       "<div>\n",
       "<style scoped>\n",
       "    .dataframe tbody tr th:only-of-type {\n",
       "        vertical-align: middle;\n",
       "    }\n",
       "\n",
       "    .dataframe tbody tr th {\n",
       "        vertical-align: top;\n",
       "    }\n",
       "\n",
       "    .dataframe thead th {\n",
       "        text-align: right;\n",
       "    }\n",
       "</style>\n",
       "<table border=\"1\" class=\"dataframe\">\n",
       "  <thead>\n",
       "    <tr style=\"text-align: right;\">\n",
       "      <th></th>\n",
       "      <th>mean_6</th>\n",
       "      <th>mean_7</th>\n",
       "      <th>mean_8</th>\n",
       "      <th>std_6</th>\n",
       "      <th>std_7</th>\n",
       "      <th>std_8</th>\n",
       "    </tr>\n",
       "  </thead>\n",
       "  <tbody>\n",
       "    <tr>\n",
       "      <th>Non Churned</th>\n",
       "      <td>100.36</td>\n",
       "      <td>102.08</td>\n",
       "      <td>97.35</td>\n",
       "      <td>140.19</td>\n",
       "      <td>138.95</td>\n",
       "      <td>145.09</td>\n",
       "    </tr>\n",
       "    <tr>\n",
       "      <th>Churned</th>\n",
       "      <td>106.67</td>\n",
       "      <td>81.52</td>\n",
       "      <td>38.43</td>\n",
       "      <td>177.76</td>\n",
       "      <td>159.67</td>\n",
       "      <td>134.92</td>\n",
       "    </tr>\n",
       "  </tbody>\n",
       "</table>\n",
       "</div>"
      ],
      "text/plain": [
       "             mean_6  mean_7  mean_8  std_6  std_7  std_8\n",
       "Non Churned  100.36  102.08   97.35 140.19 138.95 145.09\n",
       "Churned      106.67   81.52   38.43 177.76 159.67 134.92"
      ]
     },
     "execution_count": 142,
     "metadata": {},
     "output_type": "execute_result"
    },
    {
     "data": {
      "text/plain": [
       "<Figure size 1224x504 with 0 Axes>"
      ]
     },
     "metadata": {},
     "output_type": "display_data"
    },
    {
     "data": {
      "image/png": "[encoded data removed]",
      "text/plain": [
       "<Figure size 1224x504 with 3 Axes>"
      ]
     },
     "metadata": {
      "needs_background": "light"
     },
     "output_type": "display_data"
    }
   ],
   "source": [
    "#let's extract the last day recharge amount columns\n",
    "last_day_rech_amt = telecom.columns[telecom.columns.str.contains('day')]\n",
    "\n",
    "\n",
    "\n",
    "# let's check the mean variation in last day recharge for churned and non churned customers\n",
    "analyze_feature('last_day_rch_amt')\n",
    "\n"
   ]
  },
  {
   "cell_type": "code",
   "execution_count": 143,
   "metadata": {},
   "outputs": [
    {
     "data": {
      "text/plain": [
       "total_rech_num_6    0.00\n",
       "total_rech_num_7    0.00\n",
       "total_rech_num_8    0.00\n",
       "max_rech_data_6    44.15\n",
       "max_rech_data_7    43.15\n",
       "max_rech_data_8    46.83\n",
       "dtype: float64"
      ]
     },
     "execution_count": 143,
     "metadata": {},
     "output_type": "execute_result"
    }
   ],
   "source": [
    "# Let us define new derived column\n",
    "# last day recharge amount for good phase: last_day_rch_amt_good_ph\n",
    "telecom['last_day_rch_amt_good_ph'] = (telecom.last_day_rch_amt_6 + telecom.last_day_rch_amt_7)/2\n",
    "\n",
    "# drop the original columns as these are not longer required\n",
    "telecom.drop(['last_day_rch_amt_6','last_day_rch_amt_7'],axis=1,inplace=True)\n",
    "\n",
    "# Let's check other recharge related variables:\n",
    "ls_recharge = telecom.columns[telecom.columns.str.contains('rech_num|max_rech_data',regex=True)]\n",
    "\n",
    "# lets check the % of NA values for recharge related variables\n",
    "100*telecom.loc[:,ls_recharge].isnull().sum()/len(telecom)"
   ]
  },
  {
   "cell_type": "code",
   "execution_count": 144,
   "metadata": {},
   "outputs": [
    {
     "data": {
      "text/html": [
       "<div>\n",
       "<style scoped>\n",
       "    .dataframe tbody tr th:only-of-type {\n",
       "        vertical-align: middle;\n",
       "    }\n",
       "\n",
       "    .dataframe tbody tr th {\n",
       "        vertical-align: top;\n",
       "    }\n",
       "\n",
       "    .dataframe thead th {\n",
       "        text-align: right;\n",
       "    }\n",
       "</style>\n",
       "<table border=\"1\" class=\"dataframe\">\n",
       "  <thead>\n",
       "    <tr style=\"text-align: right;\">\n",
       "      <th></th>\n",
       "      <th>max_rech_data_6</th>\n",
       "      <th>max_rech_data_7</th>\n",
       "      <th>max_rech_data_8</th>\n",
       "    </tr>\n",
       "  </thead>\n",
       "  <tbody>\n",
       "    <tr>\n",
       "      <th>count</th>\n",
       "      <td>16756.00</td>\n",
       "      <td>17057.00</td>\n",
       "      <td>15953.00</td>\n",
       "    </tr>\n",
       "    <tr>\n",
       "      <th>mean</th>\n",
       "      <td>139.80</td>\n",
       "      <td>140.43</td>\n",
       "      <td>136.33</td>\n",
       "    </tr>\n",
       "    <tr>\n",
       "      <th>std</th>\n",
       "      <td>118.85</td>\n",
       "      <td>120.25</td>\n",
       "      <td>119.53</td>\n",
       "    </tr>\n",
       "    <tr>\n",
       "      <th>min</th>\n",
       "      <td>1.00</td>\n",
       "      <td>1.00</td>\n",
       "      <td>1.00</td>\n",
       "    </tr>\n",
       "    <tr>\n",
       "      <th>25%</th>\n",
       "      <td>25.00</td>\n",
       "      <td>25.00</td>\n",
       "      <td>25.00</td>\n",
       "    </tr>\n",
       "    <tr>\n",
       "      <th>50%</th>\n",
       "      <td>152.00</td>\n",
       "      <td>152.00</td>\n",
       "      <td>152.00</td>\n",
       "    </tr>\n",
       "    <tr>\n",
       "      <th>75%</th>\n",
       "      <td>198.00</td>\n",
       "      <td>198.00</td>\n",
       "      <td>198.00</td>\n",
       "    </tr>\n",
       "    <tr>\n",
       "      <th>max</th>\n",
       "      <td>1555.00</td>\n",
       "      <td>1555.00</td>\n",
       "      <td>1555.00</td>\n",
       "    </tr>\n",
       "  </tbody>\n",
       "</table>\n",
       "</div>"
      ],
      "text/plain": [
       "       max_rech_data_6  max_rech_data_7  max_rech_data_8\n",
       "count         16756.00         17057.00         15953.00\n",
       "mean            139.80           140.43           136.33\n",
       "std             118.85           120.25           119.53\n",
       "min               1.00             1.00             1.00\n",
       "25%              25.00            25.00            25.00\n",
       "50%             152.00           152.00           152.00\n",
       "75%             198.00           198.00           198.00\n",
       "max            1555.00          1555.00          1555.00"
      ]
     },
     "execution_count": 144,
     "metadata": {},
     "output_type": "execute_result"
    }
   ],
   "source": [
    "# let's check the distribution for max_rech_data\n",
    "telecom.loc[:,['max_rech_data_6','max_rech_data_7','max_rech_data_8']].describe()"
   ]
  },
  {
   "cell_type": "code",
   "execution_count": 145,
   "metadata": {},
   "outputs": [
    {
     "name": "stdout",
     "output_type": "stream",
     "text": [
      "       total_rech_num_6  total_rech_num_7  total_rech_num_8\n",
      "count          30001.00          30001.00          30001.00\n",
      "mean              11.85             11.72              9.97\n",
      "std                9.43              9.43              9.27\n",
      "min                0.00              0.00              0.00\n",
      "25%                6.00              6.00              4.00\n",
      "50%                9.00              9.00              8.00\n",
      "75%               15.00             15.00             13.00\n",
      "max              307.00            138.00            196.00\n"
     ]
    },
    {
     "data": {
      "text/html": [
       "<div>\n",
       "<style scoped>\n",
       "    .dataframe tbody tr th:only-of-type {\n",
       "        vertical-align: middle;\n",
       "    }\n",
       "\n",
       "    .dataframe tbody tr th {\n",
       "        vertical-align: top;\n",
       "    }\n",
       "\n",
       "    .dataframe thead th {\n",
       "        text-align: right;\n",
       "    }\n",
       "</style>\n",
       "<table border=\"1\" class=\"dataframe\">\n",
       "  <thead>\n",
       "    <tr style=\"text-align: right;\">\n",
       "      <th></th>\n",
       "      <th>total_rech_num_6</th>\n",
       "      <th>total_rech_num_7</th>\n",
       "      <th>total_rech_num_8</th>\n",
       "    </tr>\n",
       "  </thead>\n",
       "  <tbody>\n",
       "    <tr>\n",
       "      <th>Non Churned</th>\n",
       "      <td>9.00</td>\n",
       "      <td>9.00</td>\n",
       "      <td>8.00</td>\n",
       "    </tr>\n",
       "    <tr>\n",
       "      <th>Churned</th>\n",
       "      <td>11.00</td>\n",
       "      <td>9.00</td>\n",
       "      <td>3.00</td>\n",
       "    </tr>\n",
       "  </tbody>\n",
       "</table>\n",
       "</div>"
      ],
      "text/plain": [
       "             total_rech_num_6  total_rech_num_7  total_rech_num_8\n",
       "Non Churned              9.00              9.00              8.00\n",
       "Churned                 11.00              9.00              3.00"
      ]
     },
     "execution_count": 145,
     "metadata": {},
     "output_type": "execute_result"
    }
   ],
   "source": [
    "telecom.loc[:,['max_rech_data_6','max_rech_data_7','max_rech_data_8']] \\\n",
    "= telecom.loc[:,['max_rech_data_6','max_rech_data_7','max_rech_data_8']].replace(np.nan,0)\n",
    "# Let us define new derived column\n",
    "# maximum recharge for data for good phase: max_rech_data_good_ph\n",
    "telecom['max_rech_data_good_ph'] = (telecom.max_rech_data_6 + telecom.max_rech_data_7)/2\n",
    "\n",
    "# drop the original columns as these are not longer required\n",
    "telecom.drop(['max_rech_data_6','max_rech_data_7'],axis=1,inplace=True)\n",
    "\n",
    "# let's check total recharge number\n",
    "ls_tot_recharge_num = telecom.columns[telecom.columns.str.contains('total_rech_num')]\n",
    "\n",
    "# check the summary stats:\n",
    "print(telecom.loc[:,ls_tot_recharge_num].describe())\n",
    "\n",
    "# let's check the median variation in total recharge numbers for churned and non churned customers\n",
    "pd.DataFrame([telecom.loc[telecom.churn==0,ls_tot_recharge_num].median()\n",
    "              ,telecom.loc[telecom.churn==1,ls_tot_recharge_num].median()],index={'Non Churned','Churned'})"
   ]
  },
  {
   "cell_type": "code",
   "execution_count": 146,
   "metadata": {},
   "outputs": [],
   "source": [
    "# Let us define new derived column\n",
    "# total recharge number for good phase: total_rech_num_good_ph\n",
    "telecom['total_rech_num_good_ph'] = (telecom.total_rech_num_6 + telecom.total_rech_num_7)/2\n",
    "\n",
    "# drop the original columns as these are not longer required\n",
    "telecom.drop(['total_rech_num_6','total_rech_num_7'],axis=1,inplace=True)"
   ]
  },
  {
   "cell_type": "code",
   "execution_count": 147,
   "metadata": {},
   "outputs": [],
   "source": [
    "#let's extract the 2G and 3G usage related columns\n",
    "typ_2g_or_3g = telecom.columns[telecom.columns.str.contains('2g|3g',regex=True)]"
   ]
  },
  {
   "cell_type": "code",
   "execution_count": 148,
   "metadata": {},
   "outputs": [
    {
     "data": {
      "text/plain": [
       "count_rech_2g_6   0.44\n",
       "count_rech_2g_7   0.43\n",
       "count_rech_2g_8   0.47\n",
       "count_rech_3g_6   0.44\n",
       "count_rech_3g_7   0.43\n",
       "count_rech_3g_8   0.47\n",
       "vol_2g_mb_6       0.00\n",
       "vol_2g_mb_7       0.00\n",
       "vol_2g_mb_8       0.00\n",
       "vol_3g_mb_6       0.00\n",
       "vol_3g_mb_7       0.00\n",
       "vol_3g_mb_8       0.00\n",
       "arpu_3g_6         0.44\n",
       "arpu_3g_7         0.43\n",
       "arpu_3g_8         0.47\n",
       "arpu_2g_6         0.44\n",
       "arpu_2g_7         0.43\n",
       "arpu_2g_8         0.47\n",
       "monthly_2g_6      0.00\n",
       "monthly_2g_7      0.00\n",
       "monthly_2g_8      0.00\n",
       "sachet_2g_6       0.00\n",
       "sachet_2g_7       0.00\n",
       "sachet_2g_8       0.00\n",
       "monthly_3g_6      0.00\n",
       "monthly_3g_7      0.00\n",
       "monthly_3g_8      0.00\n",
       "sachet_3g_6       0.00\n",
       "sachet_3g_7       0.00\n",
       "sachet_3g_8       0.00\n",
       "aug_vbc_3g        0.00\n",
       "jul_vbc_3g        0.00\n",
       "jun_vbc_3g        0.00\n",
       "sep_vbc_3g        0.00\n",
       "dtype: float64"
      ]
     },
     "execution_count": 148,
     "metadata": {},
     "output_type": "execute_result"
    }
   ],
   "source": [
    "#let us check the % of NA values present\n",
    "telecom.loc[:,typ_2g_or_3g].isnull().sum()/len(telecom.loc[:,typ_2g_or_3g])"
   ]
  },
  {
   "cell_type": "code",
   "execution_count": 149,
   "metadata": {},
   "outputs": [
    {
     "name": "stdout",
     "output_type": "stream",
     "text": [
      "       vol_2g_mb_6  vol_2g_mb_7  vol_2g_mb_8  vol_3g_mb_6  vol_3g_mb_7  \\\n",
      "count     30001.00     30001.00     30001.00     30001.00     30001.00   \n",
      "mean        126.52       125.10       105.91       344.26       370.20   \n",
      "std         330.53       331.55       313.38       913.75       915.53   \n",
      "min           0.00         0.00         0.00         0.00         0.00   \n",
      "25%           0.00         0.00         0.00         0.00         0.00   \n",
      "50%           0.00         0.05         0.00         0.00         0.00   \n",
      "75%          83.45        77.77        51.65       358.74       410.70   \n",
      "max       10285.90      7873.55     11117.61     45735.40     28144.12   \n",
      "\n",
      "       vol_3g_mb_8  \n",
      "count     30001.00  \n",
      "mean        351.49  \n",
      "std         919.02  \n",
      "min           0.00  \n",
      "25%           0.00  \n",
      "50%           0.00  \n",
      "75%         356.19  \n",
      "max       30036.06  \n"
     ]
    }
   ],
   "source": [
    "telecom.drop(['count_rech_2g_6','count_rech_2g_7',\n",
    "              'count_rech_2g_8','count_rech_3g_6','count_rech_3g_7','count_rech_3g_8'\n",
    "               ,'arpu_3g_6','arpu_3g_7','arpu_3g_8','arpu_2g_6','arpu_2g_7','arpu_2g_8'],axis=1,inplace=True)\n",
    "\n",
    "\n",
    "# let's extract volume of 2G and 3G usage columns\n",
    "volume_of_usage_3g_and_2g = telecom.columns[telecom.columns.str.contains('vol_2g|vol_3g',regex=True)]\n",
    "\n",
    "# let's check the summary stats:\n",
    "print(telecom.loc[:,volume_of_usage_3g_and_2g].describe())\n",
    "\n"
   ]
  },
  {
   "cell_type": "code",
   "execution_count": 150,
   "metadata": {},
   "outputs": [
    {
     "data": {
      "text/html": [
       "<div>\n",
       "<style scoped>\n",
       "    .dataframe tbody tr th:only-of-type {\n",
       "        vertical-align: middle;\n",
       "    }\n",
       "\n",
       "    .dataframe tbody tr th {\n",
       "        vertical-align: top;\n",
       "    }\n",
       "\n",
       "    .dataframe thead th {\n",
       "        text-align: right;\n",
       "    }\n",
       "</style>\n",
       "<table border=\"1\" class=\"dataframe\">\n",
       "  <thead>\n",
       "    <tr style=\"text-align: right;\">\n",
       "      <th></th>\n",
       "      <th>vol_2g_mb_6</th>\n",
       "      <th>vol_2g_mb_7</th>\n",
       "      <th>vol_2g_mb_8</th>\n",
       "      <th>vol_3g_mb_6</th>\n",
       "      <th>vol_3g_mb_7</th>\n",
       "      <th>vol_3g_mb_8</th>\n",
       "    </tr>\n",
       "  </thead>\n",
       "  <tbody>\n",
       "    <tr>\n",
       "      <th>Non Churned</th>\n",
       "      <td>128.07</td>\n",
       "      <td>128.46</td>\n",
       "      <td>113.56</td>\n",
       "      <td>350.31</td>\n",
       "      <td>384.20</td>\n",
       "      <td>375.78</td>\n",
       "    </tr>\n",
       "    <tr>\n",
       "      <th>Churned</th>\n",
       "      <td>109.60</td>\n",
       "      <td>88.41</td>\n",
       "      <td>22.56</td>\n",
       "      <td>278.30</td>\n",
       "      <td>217.62</td>\n",
       "      <td>86.92</td>\n",
       "    </tr>\n",
       "  </tbody>\n",
       "</table>\n",
       "</div>"
      ],
      "text/plain": [
       "             vol_2g_mb_6  vol_2g_mb_7  vol_2g_mb_8  vol_3g_mb_6  vol_3g_mb_7  \\\n",
       "Non Churned       128.07       128.46       113.56       350.31       384.20   \n",
       "Churned           109.60        88.41        22.56       278.30       217.62   \n",
       "\n",
       "             vol_3g_mb_8  \n",
       "Non Churned       375.78  \n",
       "Churned            86.92  "
      ]
     },
     "execution_count": 150,
     "metadata": {},
     "output_type": "execute_result"
    }
   ],
   "source": [
    "# let's check the mean variation in volume of 2G/3G usage for churned and non churned customers\n",
    "pd.DataFrame([telecom.loc[telecom.churn==0,volume_of_usage_3g_and_2g].mean()\n",
    "              ,telecom.loc[telecom.churn==1,volume_of_usage_3g_and_2g].mean()],index={'Non Churned','Churned'})"
   ]
  },
  {
   "cell_type": "code",
   "execution_count": 151,
   "metadata": {},
   "outputs": [],
   "source": [
    "# Let us define two new derived columns\n",
    "# 2G volume usage for good phase: vol_2g_mb_good_ph\n",
    "# 3G volume usage for good phase: vol_3g_mb_good_ph\n",
    "telecom['vol_2g_mb_good_ph'] = (telecom.vol_2g_mb_6 + telecom.vol_2g_mb_7)/2\n",
    "telecom['vol_3g_mb_good_ph'] = (telecom.vol_3g_mb_6 + telecom.vol_3g_mb_7)/2\n",
    "\n",
    "# drop the original columns as these are not longer required\n",
    "telecom.drop(['vol_2g_mb_6','vol_2g_mb_7'\n",
    "              ,'vol_3g_mb_6','vol_3g_mb_7'],axis=1,inplace=True)\n",
    "\n"
   ]
  },
  {
   "cell_type": "code",
   "execution_count": 152,
   "metadata": {},
   "outputs": [
    {
     "name": "stdout",
     "output_type": "stream",
     "text": [
      "       monthly_2g_6  monthly_2g_7  monthly_2g_8  monthly_3g_6  monthly_3g_7  \\\n",
      "count      30001.00      30001.00      30001.00      30001.00      30001.00   \n",
      "mean           0.17          0.18          0.15          0.22          0.23   \n",
      "std            0.43          0.45          0.41          0.61          0.66   \n",
      "min            0.00          0.00          0.00          0.00          0.00   \n",
      "25%            0.00          0.00          0.00          0.00          0.00   \n",
      "50%            0.00          0.00          0.00          0.00          0.00   \n",
      "75%            0.00          0.00          0.00          0.00          0.00   \n",
      "max            4.00          5.00          5.00         14.00         16.00   \n",
      "\n",
      "       monthly_3g_8  \n",
      "count      30001.00  \n",
      "mean           0.21  \n",
      "std            0.62  \n",
      "min            0.00  \n",
      "25%            0.00  \n",
      "50%            0.00  \n",
      "75%            0.00  \n",
      "max           16.00  \n"
     ]
    }
   ],
   "source": [
    "# let's check monthly 2G/3G service schemes\n",
    "monthly_2g_3g = telecom.columns[telecom.columns.str.contains('monthly_2g|monthly_3g',regex=True)]\n",
    "\n",
    "# let's check the summary stats:\n",
    "print(telecom.loc[:,monthly_2g_3g].describe())"
   ]
  },
  {
   "cell_type": "code",
   "execution_count": 153,
   "metadata": {},
   "outputs": [
    {
     "data": {
      "text/html": [
       "<div>\n",
       "<style scoped>\n",
       "    .dataframe tbody tr th:only-of-type {\n",
       "        vertical-align: middle;\n",
       "    }\n",
       "\n",
       "    .dataframe tbody tr th {\n",
       "        vertical-align: top;\n",
       "    }\n",
       "\n",
       "    .dataframe thead th {\n",
       "        text-align: right;\n",
       "    }\n",
       "</style>\n",
       "<table border=\"1\" class=\"dataframe\">\n",
       "  <thead>\n",
       "    <tr style=\"text-align: right;\">\n",
       "      <th></th>\n",
       "      <th>monthly_2g_6</th>\n",
       "      <th>monthly_2g_7</th>\n",
       "      <th>monthly_2g_8</th>\n",
       "      <th>monthly_3g_6</th>\n",
       "      <th>monthly_3g_7</th>\n",
       "      <th>monthly_3g_8</th>\n",
       "    </tr>\n",
       "  </thead>\n",
       "  <tbody>\n",
       "    <tr>\n",
       "      <th>Non Churned</th>\n",
       "      <td>0.18</td>\n",
       "      <td>0.19</td>\n",
       "      <td>0.17</td>\n",
       "      <td>0.22</td>\n",
       "      <td>0.24</td>\n",
       "      <td>0.23</td>\n",
       "    </tr>\n",
       "    <tr>\n",
       "      <th>Churned</th>\n",
       "      <td>0.09</td>\n",
       "      <td>0.07</td>\n",
       "      <td>0.02</td>\n",
       "      <td>0.19</td>\n",
       "      <td>0.14</td>\n",
       "      <td>0.06</td>\n",
       "    </tr>\n",
       "  </tbody>\n",
       "</table>\n",
       "</div>"
      ],
      "text/plain": [
       "             monthly_2g_6  monthly_2g_7  monthly_2g_8  monthly_3g_6  \\\n",
       "Non Churned          0.18          0.19          0.17          0.22   \n",
       "Churned              0.09          0.07          0.02          0.19   \n",
       "\n",
       "             monthly_3g_7  monthly_3g_8  \n",
       "Non Churned          0.24          0.23  \n",
       "Churned              0.14          0.06  "
      ]
     },
     "execution_count": 153,
     "metadata": {},
     "output_type": "execute_result"
    }
   ],
   "source": [
    "# let's check the mean variation in monthly schemes of 2G/3G usage for churned and non churned customers\n",
    "pd.DataFrame([telecom.loc[telecom.churn==0,monthly_2g_3g].mean()\n",
    "              ,telecom.loc[telecom.churn==1,monthly_2g_3g].mean()],index={'Non Churned','Churned'})"
   ]
  },
  {
   "cell_type": "code",
   "execution_count": 154,
   "metadata": {},
   "outputs": [],
   "source": [
    "\n",
    "\n",
    "# Let us define two new derived columns\n",
    "# 2G monthly for good phase: monthly_2g_good_ph\n",
    "# 3G monthly for good phase: monthly_3g_good_ph\n",
    "telecom['monthly_2g_good_ph'] = (telecom.monthly_2g_6 + telecom.monthly_2g_7)/2\n",
    "telecom['monthly_3g_good_ph'] = (telecom.monthly_3g_6 + telecom.monthly_3g_7)/2\n",
    "\n",
    "# drop the original columns as these are not longer required\n",
    "telecom.drop(['monthly_2g_6','monthly_2g_7'\n",
    "              ,'monthly_3g_6','monthly_3g_7'],axis=1,inplace=True)\n",
    "\n"
   ]
  },
  {
   "cell_type": "code",
   "execution_count": 155,
   "metadata": {},
   "outputs": [
    {
     "name": "stdout",
     "output_type": "stream",
     "text": [
      "Churn Stats (mean and standard deviation):\n",
      "{6: 'vbc_3g_6', 7: 'vbc_3g_7', 8: 'vbc_3g_8'}\n"
     ]
    },
    {
     "data": {
      "text/html": [
       "<div>\n",
       "<style scoped>\n",
       "    .dataframe tbody tr th:only-of-type {\n",
       "        vertical-align: middle;\n",
       "    }\n",
       "\n",
       "    .dataframe tbody tr th {\n",
       "        vertical-align: top;\n",
       "    }\n",
       "\n",
       "    .dataframe thead th {\n",
       "        text-align: right;\n",
       "    }\n",
       "</style>\n",
       "<table border=\"1\" class=\"dataframe\">\n",
       "  <thead>\n",
       "    <tr style=\"text-align: right;\">\n",
       "      <th></th>\n",
       "      <th>mean_6</th>\n",
       "      <th>mean_7</th>\n",
       "      <th>mean_8</th>\n",
       "      <th>std_6</th>\n",
       "      <th>std_7</th>\n",
       "      <th>std_8</th>\n",
       "    </tr>\n",
       "  </thead>\n",
       "  <tbody>\n",
       "    <tr>\n",
       "      <th>Non Churned</th>\n",
       "      <td>162.62</td>\n",
       "      <td>186.49</td>\n",
       "      <td>180.93</td>\n",
       "      <td>421.60</td>\n",
       "      <td>452.97</td>\n",
       "      <td>433.33</td>\n",
       "    </tr>\n",
       "    <tr>\n",
       "      <th>Churned</th>\n",
       "      <td>113.95</td>\n",
       "      <td>95.86</td>\n",
       "      <td>40.64</td>\n",
       "      <td>356.49</td>\n",
       "      <td>311.75</td>\n",
       "      <td>210.34</td>\n",
       "    </tr>\n",
       "  </tbody>\n",
       "</table>\n",
       "</div>"
      ],
      "text/plain": [
       "             mean_6  mean_7  mean_8  std_6  std_7  std_8\n",
       "Non Churned  162.62  186.49  180.93 421.60 452.97 433.33\n",
       "Churned      113.95   95.86   40.64 356.49 311.75 210.34"
      ]
     },
     "execution_count": 155,
     "metadata": {},
     "output_type": "execute_result"
    },
    {
     "data": {
      "text/plain": [
       "<Figure size 1224x504 with 0 Axes>"
      ]
     },
     "metadata": {},
     "output_type": "display_data"
    },
    {
     "data": {
      "image/png": "[encoded data removed]",
      "text/plain": [
       "<Figure size 1224x504 with 3 Axes>"
      ]
     },
     "metadata": {
      "needs_background": "light"
     },
     "output_type": "display_data"
    }
   ],
   "source": [
    "# let us rename month named vbc columns to 6,7,8,9 format\n",
    "telecom.rename(columns={'jun_vbc_3g':'vbc_3g_6','jul_vbc_3g':'vbc_3g_7','aug_vbc_3g':'vbc_3g_8'\n",
    "                         ,'sep_vbc_3g':'vbc_3g_9'}, inplace=True)\n",
    "\n",
    "# drop 9th month column as it is not needed\n",
    "telecom.drop('vbc_3g_9',axis=1,inplace=True)\n",
    "\n",
    "# let's check the volumne based cost for 3G\n",
    "volumn_based_cost_3g = telecom.columns[telecom.columns.str.contains('vbc_3g')]\n",
    "\n",
    "# analyze volume based cost\n",
    "analyze_feature('vbc_3g')"
   ]
  },
  {
   "cell_type": "code",
   "execution_count": 156,
   "metadata": {},
   "outputs": [],
   "source": [
    "\n",
    "\n",
    "# Let us define new derived columns\n",
    "# 3g volume based cost for good phase: vbc_3g_good_ph\n",
    "telecom['vbc_3g_good_ph'] = (telecom['vbc_3g_6'] + telecom['vbc_3g_7'])/2\n",
    "\n",
    "# drop the original columns as these are not longer required\n",
    "telecom.drop(['vbc_3g_6','vbc_3g_7'],axis=1,inplace=True)\n",
    "\n"
   ]
  },
  {
   "cell_type": "code",
   "execution_count": 157,
   "metadata": {},
   "outputs": [
    {
     "name": "stdout",
     "output_type": "stream",
     "text": [
      "       sachet_2g_6  sachet_2g_7  sachet_2g_8  sachet_3g_6  sachet_3g_7  \\\n",
      "count     30001.00     30001.00     30001.00     30001.00     30001.00   \n",
      "mean          1.07         1.21         1.05         0.21         0.23   \n",
      "std           2.51         2.74         2.54         0.99         1.09   \n",
      "min           0.00         0.00         0.00         0.00         0.00   \n",
      "25%           0.00         0.00         0.00         0.00         0.00   \n",
      "50%           0.00         0.00         0.00         0.00         0.00   \n",
      "75%           1.00         1.00         1.00         0.00         0.00   \n",
      "max          42.00        48.00        44.00        29.00        35.00   \n",
      "\n",
      "       sachet_3g_8  \n",
      "count     30001.00  \n",
      "mean          0.20  \n",
      "std           1.10  \n",
      "min           0.00  \n",
      "25%           0.00  \n",
      "50%           0.00  \n",
      "75%           0.00  \n",
      "max          41.00  \n"
     ]
    },
    {
     "data": {
      "text/html": [
       "<div>\n",
       "<style scoped>\n",
       "    .dataframe tbody tr th:only-of-type {\n",
       "        vertical-align: middle;\n",
       "    }\n",
       "\n",
       "    .dataframe tbody tr th {\n",
       "        vertical-align: top;\n",
       "    }\n",
       "\n",
       "    .dataframe thead th {\n",
       "        text-align: right;\n",
       "    }\n",
       "</style>\n",
       "<table border=\"1\" class=\"dataframe\">\n",
       "  <thead>\n",
       "    <tr style=\"text-align: right;\">\n",
       "      <th></th>\n",
       "      <th>sachet_2g_6</th>\n",
       "      <th>sachet_2g_7</th>\n",
       "      <th>sachet_2g_8</th>\n",
       "      <th>sachet_3g_6</th>\n",
       "      <th>sachet_3g_7</th>\n",
       "      <th>sachet_3g_8</th>\n",
       "    </tr>\n",
       "  </thead>\n",
       "  <tbody>\n",
       "    <tr>\n",
       "      <th>Non Churned</th>\n",
       "      <td>1.07</td>\n",
       "      <td>1.24</td>\n",
       "      <td>1.13</td>\n",
       "      <td>0.21</td>\n",
       "      <td>0.23</td>\n",
       "      <td>0.22</td>\n",
       "    </tr>\n",
       "    <tr>\n",
       "      <th>Churned</th>\n",
       "      <td>1.03</td>\n",
       "      <td>0.88</td>\n",
       "      <td>0.27</td>\n",
       "      <td>0.24</td>\n",
       "      <td>0.22</td>\n",
       "      <td>0.06</td>\n",
       "    </tr>\n",
       "  </tbody>\n",
       "</table>\n",
       "</div>"
      ],
      "text/plain": [
       "             sachet_2g_6  sachet_2g_7  sachet_2g_8  sachet_3g_6  sachet_3g_7  \\\n",
       "Non Churned         1.07         1.24         1.13         0.21         0.23   \n",
       "Churned             1.03         0.88         0.27         0.24         0.22   \n",
       "\n",
       "             sachet_3g_8  \n",
       "Non Churned         0.22  \n",
       "Churned             0.06  "
      ]
     },
     "execution_count": 157,
     "metadata": {},
     "output_type": "execute_result"
    }
   ],
   "source": [
    "# let's check sachet subscription for 2G/3G\n",
    "sachet_2g_or_3g = telecom.columns[telecom.columns.str.contains('sachet_2g|sachet_3g',regex=True)]\n",
    "\n",
    "print(telecom.loc[:,sachet_2g_or_3g].describe())\n",
    "\n",
    "pd.DataFrame([telecom.loc[telecom.churn==0,sachet_2g_or_3g].mean()\n",
    "              ,telecom.loc[telecom.churn==1,sachet_2g_or_3g].mean()],index={'Non Churned','Churned'})"
   ]
  },
  {
   "cell_type": "code",
   "execution_count": 158,
   "metadata": {},
   "outputs": [],
   "source": [
    "# Let us define two new derived columns\n",
    "# 2G sachet for good phase: sachet_2g_good_ph\n",
    "# 3G sachet for good phase: sachet_3g_good_ph\n",
    "telecom['sachet_2g_good_ph'] = (telecom.sachet_2g_6 + telecom.sachet_2g_7)/2\n",
    "telecom['sachet_3g_good_ph'] = (telecom.sachet_3g_6 + telecom.sachet_3g_7)/2\n",
    "\n",
    "# drop the original columns as these are not longer required\n",
    "telecom.drop(['sachet_2g_6','sachet_2g_7'\n",
    "              ,'sachet_3g_6','sachet_3g_7'],axis=1,inplace=True)"
   ]
  },
  {
   "cell_type": "code",
   "execution_count": 159,
   "metadata": {},
   "outputs": [
    {
     "name": "stdout",
     "output_type": "stream",
     "text": [
      "859.3049167327517\n",
      "1241.4973252301759\n"
     ]
    },
    {
     "data": {
      "text/plain": [
       "<matplotlib.axes._subplots.AxesSubplot at 0x7f59be8a0240>"
      ]
     },
     "execution_count": 159,
     "metadata": {},
     "output_type": "execute_result"
    },
    {
     "data": {
      "image/png": "[encoded data removed]",
      "text/plain": [
       "<Figure size 360x216 with 1 Axes>"
      ]
     },
     "metadata": {
      "needs_background": "light"
     },
     "output_type": "display_data"
    }
   ],
   "source": [
    "\n",
    "\n",
    "# let's check the age on n/w for churned and non churned customers\n",
    "print(telecom.loc[telecom.churn==1,'aon'].mean())\n",
    "print(telecom.loc[telecom.churn==0,'aon'].mean())\n",
    "\n",
    "# let's check the age distribution for non churned customers\n",
    "plt.figure(figsize=(5,3))\n",
    "telecom.loc[telecom.churn==0,'aon'].plot.hist()"
   ]
  },
  {
   "cell_type": "code",
   "execution_count": 160,
   "metadata": {},
   "outputs": [
    {
     "data": {
      "text/plain": [
       "<matplotlib.axes._subplots.AxesSubplot at 0x7f59d45369e8>"
      ]
     },
     "execution_count": 160,
     "metadata": {},
     "output_type": "execute_result"
    },
    {
     "data": {
      "image/png": "[encoded data removed]",
      "text/plain": [
       "<Figure size 360x216 with 1 Axes>"
      ]
     },
     "metadata": {
      "needs_background": "light"
     },
     "output_type": "display_data"
    }
   ],
   "source": [
    "# let's check the age distribution for churned customers\n",
    "plt.figure(figsize=(5,3))\n",
    "telecom.loc[telecom.churn==1,'aon'].plot.hist()"
   ]
  },
  {
   "cell_type": "code",
   "execution_count": 161,
   "metadata": {},
   "outputs": [],
   "source": [
    "# let's check the circle id values\n",
    "telecom.circle_id.unique()\n",
    "\n",
    "# let's drop this column as there is only one circle id\n",
    "telecom.drop('circle_id',inplace=True,axis=1)"
   ]
  },
  {
   "cell_type": "code",
   "execution_count": 162,
   "metadata": {},
   "outputs": [],
   "source": [
    "# extract the date columns\n",
    "date_columns = telecom.columns[telecom.columns.str.contains('date')]\n",
    "\n",
    "# convert to datetime\n",
    "for date_col in list(date_columns):\n",
    "    telecom[date_col]= pd.to_datetime(telecom[date_col])"
   ]
  },
  {
   "cell_type": "code",
   "execution_count": 163,
   "metadata": {},
   "outputs": [
    {
     "name": "stdout",
     "output_type": "stream",
     "text": [
      "[30] [31. nan] [31. nan]\n"
     ]
    }
   ],
   "source": [
    "print(telecom.last_date_of_month_6.dt.day.unique(),telecom.last_date_of_month_7.dt.day.unique()\n",
    "      ,telecom.last_date_of_month_8.dt.day.unique())\n",
    "\n",
    "# as only 1 unique value last day of month is present these columns are not adding much information\n",
    "# let us drop the columns\n",
    "telecom.drop(['last_date_of_month_6','last_date_of_month_7','last_date_of_month_8'],axis=1,inplace=True)"
   ]
  },
  {
   "cell_type": "code",
   "execution_count": 164,
   "metadata": {},
   "outputs": [
    {
     "data": {
      "text/html": [
       "<div>\n",
       "<style scoped>\n",
       "    .dataframe tbody tr th:only-of-type {\n",
       "        vertical-align: middle;\n",
       "    }\n",
       "\n",
       "    .dataframe tbody tr th {\n",
       "        vertical-align: top;\n",
       "    }\n",
       "\n",
       "    .dataframe thead th {\n",
       "        text-align: right;\n",
       "    }\n",
       "</style>\n",
       "<table border=\"1\" class=\"dataframe\">\n",
       "  <thead>\n",
       "    <tr style=\"text-align: right;\">\n",
       "      <th></th>\n",
       "      <th>day_of_last_rech_6</th>\n",
       "      <th>day_of_last_rech_7</th>\n",
       "      <th>day_of_last_rech_8</th>\n",
       "    </tr>\n",
       "  </thead>\n",
       "  <tbody>\n",
       "    <tr>\n",
       "      <th>Non Churned</th>\n",
       "      <td>28.00</td>\n",
       "      <td>29.00</td>\n",
       "      <td>29.00</td>\n",
       "    </tr>\n",
       "    <tr>\n",
       "      <th>Churned</th>\n",
       "      <td>28.00</td>\n",
       "      <td>27.00</td>\n",
       "      <td>26.00</td>\n",
       "    </tr>\n",
       "  </tbody>\n",
       "</table>\n",
       "</div>"
      ],
      "text/plain": [
       "             day_of_last_rech_6  day_of_last_rech_7  day_of_last_rech_8\n",
       "Non Churned               28.00               29.00               29.00\n",
       "Churned                   28.00               27.00               26.00"
      ]
     },
     "execution_count": 164,
     "metadata": {},
     "output_type": "execute_result"
    }
   ],
   "source": [
    "# let's extract the day of last recharge\n",
    "telecom['day_of_last_rech_6'] =  telecom.date_of_last_rech_6.dt.day\n",
    "telecom['day_of_last_rech_7'] =  telecom.date_of_last_rech_7.dt.day\n",
    "telecom['day_of_last_rech_8'] =  telecom.date_of_last_rech_8.dt.day\n",
    "\n",
    "dt_of_last_rech_cols = ['day_of_last_rech_6','day_of_last_rech_7','day_of_last_rech_8']\n",
    "\n",
    "pd.DataFrame([telecom.loc[telecom.churn==0,dt_of_last_rech_cols].median()\n",
    "              ,telecom.loc[telecom.churn==1,dt_of_last_rech_cols].median()],index={'Non Churned','Churned'})"
   ]
  },
  {
   "cell_type": "code",
   "execution_count": 171,
   "metadata": {},
   "outputs": [
    {
     "data": {
      "text/html": [
       "<div>\n",
       "<style scoped>\n",
       "    .dataframe tbody tr th:only-of-type {\n",
       "        vertical-align: middle;\n",
       "    }\n",
       "\n",
       "    .dataframe tbody tr th {\n",
       "        vertical-align: top;\n",
       "    }\n",
       "\n",
       "    .dataframe thead th {\n",
       "        text-align: right;\n",
       "    }\n",
       "</style>\n",
       "<table border=\"1\" class=\"dataframe\">\n",
       "  <thead>\n",
       "    <tr style=\"text-align: right;\">\n",
       "      <th></th>\n",
       "      <th>day_of_last_rech_shift</th>\n",
       "    </tr>\n",
       "  </thead>\n",
       "  <tbody>\n",
       "    <tr>\n",
       "      <th>Non Churned</th>\n",
       "      <td>0.50</td>\n",
       "    </tr>\n",
       "    <tr>\n",
       "      <th>Churned</th>\n",
       "      <td>-2.00</td>\n",
       "    </tr>\n",
       "  </tbody>\n",
       "</table>\n",
       "</div>"
      ],
      "text/plain": [
       "             day_of_last_rech_shift\n",
       "Non Churned                    0.50\n",
       "Churned                       -2.00"
      ]
     },
     "execution_count": 171,
     "metadata": {},
     "output_type": "execute_result"
    }
   ],
   "source": [
    "# let's define a new derived column indicating the shift in day of last recharge\n",
    "\n",
    "telecom['day_of_last_rech_shift'] = telecom.day_of_last_rech_8 -(telecom.day_of_last_rech_6+telecom.day_of_last_rech_7)/2\n",
    "\n",
    "# let's check how the shift indicates pattern for Churned and non churn customers\n",
    "pd.DataFrame([telecom.loc[telecom.churn==0,['day_of_last_rech_shift']].median()\n",
    "              ,telecom.loc[telecom.churn==1,['day_of_last_rech_shift']].median()],index={'Non Churned','Churned'})"
   ]
  },
  {
   "cell_type": "code",
   "execution_count": 172,
   "metadata": {},
   "outputs": [
    {
     "data": {
      "text/html": [
       "<div>\n",
       "<style scoped>\n",
       "    .dataframe tbody tr th:only-of-type {\n",
       "        vertical-align: middle;\n",
       "    }\n",
       "\n",
       "    .dataframe tbody tr th {\n",
       "        vertical-align: top;\n",
       "    }\n",
       "\n",
       "    .dataframe thead th {\n",
       "        text-align: right;\n",
       "    }\n",
       "</style>\n",
       "<table border=\"1\" class=\"dataframe\">\n",
       "  <thead>\n",
       "    <tr style=\"text-align: right;\">\n",
       "      <th></th>\n",
       "      <th>day_of_last_rech_data_6</th>\n",
       "      <th>day_of_last_rech_data_7</th>\n",
       "      <th>day_of_last_rech_data_8</th>\n",
       "    </tr>\n",
       "  </thead>\n",
       "  <tbody>\n",
       "    <tr>\n",
       "      <th>Non Churned</th>\n",
       "      <td>22.00</td>\n",
       "      <td>24.00</td>\n",
       "      <td>23.00</td>\n",
       "    </tr>\n",
       "    <tr>\n",
       "      <th>Churned</th>\n",
       "      <td>23.00</td>\n",
       "      <td>20.00</td>\n",
       "      <td>15.00</td>\n",
       "    </tr>\n",
       "  </tbody>\n",
       "</table>\n",
       "</div>"
      ],
      "text/plain": [
       "             day_of_last_rech_data_6  day_of_last_rech_data_7  \\\n",
       "Non Churned                    22.00                    24.00   \n",
       "Churned                        23.00                    20.00   \n",
       "\n",
       "             day_of_last_rech_data_8  \n",
       "Non Churned                    23.00  \n",
       "Churned                        15.00  "
      ]
     },
     "execution_count": 172,
     "metadata": {},
     "output_type": "execute_result"
    }
   ],
   "source": [
    "\n",
    "\n",
    "# let's delete the other colummns derived as are no longer required\n",
    "telecom.drop(['day_of_last_rech_6','day_of_last_rech_7','day_of_last_rech_8'],axis=1,inplace=True)\n",
    "\n",
    "# let's extract the day of last recharge for data\n",
    "telecom['day_of_last_rech_data_6'] =  telecom.date_of_last_rech_data_6.dt.day\n",
    "telecom['day_of_last_rech_data_7'] =  telecom.date_of_last_rech_data_7.dt.day\n",
    "telecom['day_of_last_rech_data_8'] =  telecom.date_of_last_rech_data_8.dt.day\n",
    "\n",
    "dt_of_last_rech_cols = ['day_of_last_rech_data_6','day_of_last_rech_data_7','day_of_last_rech_data_8']\n",
    "\n",
    "pd.DataFrame([telecom.loc[telecom.churn==0,dt_of_last_rech_cols].median()\n",
    "              ,telecom.loc[telecom.churn==1,dt_of_last_rech_cols].median()],index={'Non Churned','Churned'})"
   ]
  },
  {
   "cell_type": "code",
   "execution_count": 173,
   "metadata": {},
   "outputs": [],
   "source": [
    "# let's define a new derived column indicating the shift in day of last data recharge\n",
    "\n",
    "telecom['day_of_last_rech_data_shift'] = telecom.day_of_last_rech_data_8 -(telecom.day_of_last_rech_data_6+telecom.day_of_last_rech_data_7)/2"
   ]
  },
  {
   "cell_type": "code",
   "execution_count": 174,
   "metadata": {},
   "outputs": [
    {
     "data": {
      "text/html": [
       "<div>\n",
       "<style scoped>\n",
       "    .dataframe tbody tr th:only-of-type {\n",
       "        vertical-align: middle;\n",
       "    }\n",
       "\n",
       "    .dataframe tbody tr th {\n",
       "        vertical-align: top;\n",
       "    }\n",
       "\n",
       "    .dataframe thead th {\n",
       "        text-align: right;\n",
       "    }\n",
       "</style>\n",
       "<table border=\"1\" class=\"dataframe\">\n",
       "  <thead>\n",
       "    <tr style=\"text-align: right;\">\n",
       "      <th></th>\n",
       "      <th>day_of_last_rech_data_shift</th>\n",
       "    </tr>\n",
       "  </thead>\n",
       "  <tbody>\n",
       "    <tr>\n",
       "      <th>Non Churned</th>\n",
       "      <td>-0.50</td>\n",
       "    </tr>\n",
       "    <tr>\n",
       "      <th>Churned</th>\n",
       "      <td>-6.00</td>\n",
       "    </tr>\n",
       "  </tbody>\n",
       "</table>\n",
       "</div>"
      ],
      "text/plain": [
       "             day_of_last_rech_data_shift\n",
       "Non Churned                        -0.50\n",
       "Churned                            -6.00"
      ]
     },
     "execution_count": 174,
     "metadata": {},
     "output_type": "execute_result"
    }
   ],
   "source": [
    "# let's check how the shift indicates pattern for Churned and non churn customers\n",
    "pd.DataFrame([telecom.loc[telecom.churn==0,['day_of_last_rech_data_shift']].median()\n",
    "              ,telecom.loc[telecom.churn==1,['day_of_last_rech_data_shift']].median()],index={'Non Churned','Churned'})"
   ]
  },
  {
   "cell_type": "code",
   "execution_count": 175,
   "metadata": {},
   "outputs": [],
   "source": [
    "# let's delete the other colummns derived as are no longer required\n",
    "telecom.drop(['day_of_last_rech_data_6','day_of_last_rech_data_7','day_of_last_rech_data_8'],axis=1,inplace=True)\n",
    "\n",
    "\n",
    "\n",
    "# let us drop the date columns as we have derived day of month variables from them\n",
    "telecom.drop(['date_of_last_rech_6','date_of_last_rech_7','date_of_last_rech_8'],axis=1,inplace=True)\n",
    "telecom.drop(['date_of_last_rech_data_6','date_of_last_rech_data_7','date_of_last_rech_data_8'],axis=1,inplace=True)\n",
    "\n"
   ]
  },
  {
   "cell_type": "code",
   "execution_count": 176,
   "metadata": {},
   "outputs": [
    {
     "name": "stdout",
     "output_type": "stream",
     "text": [
      "Churn Stats (mean and standard deviation):\n",
      "{6: 'arpu_6', 7: 'arpu_7', 8: 'arpu_8'}\n"
     ]
    },
    {
     "data": {
      "text/html": [
       "<div>\n",
       "<style scoped>\n",
       "    .dataframe tbody tr th:only-of-type {\n",
       "        vertical-align: middle;\n",
       "    }\n",
       "\n",
       "    .dataframe tbody tr th {\n",
       "        vertical-align: top;\n",
       "    }\n",
       "\n",
       "    .dataframe thead th {\n",
       "        text-align: right;\n",
       "    }\n",
       "</style>\n",
       "<table border=\"1\" class=\"dataframe\">\n",
       "  <thead>\n",
       "    <tr style=\"text-align: right;\">\n",
       "      <th></th>\n",
       "      <th>mean_6</th>\n",
       "      <th>mean_7</th>\n",
       "      <th>mean_8</th>\n",
       "      <th>std_6</th>\n",
       "      <th>std_7</th>\n",
       "      <th>std_8</th>\n",
       "    </tr>\n",
       "  </thead>\n",
       "  <tbody>\n",
       "    <tr>\n",
       "      <th>Non Churned</th>\n",
       "      <td>549.23</td>\n",
       "      <td>562.86</td>\n",
       "      <td>533.26</td>\n",
       "      <td>447.05</td>\n",
       "      <td>474.10</td>\n",
       "      <td>504.14</td>\n",
       "    </tr>\n",
       "    <tr>\n",
       "      <th>Churned</th>\n",
       "      <td>659.36</td>\n",
       "      <td>538.11</td>\n",
       "      <td>239.87</td>\n",
       "      <td>579.28</td>\n",
       "      <td>537.32</td>\n",
       "      <td>386.45</td>\n",
       "    </tr>\n",
       "  </tbody>\n",
       "</table>\n",
       "</div>"
      ],
      "text/plain": [
       "             mean_6  mean_7  mean_8  std_6  std_7  std_8\n",
       "Non Churned  549.23  562.86  533.26 447.05 474.10 504.14\n",
       "Churned      659.36  538.11  239.87 579.28 537.32 386.45"
      ]
     },
     "execution_count": 176,
     "metadata": {},
     "output_type": "execute_result"
    },
    {
     "data": {
      "text/plain": [
       "<Figure size 1224x504 with 0 Axes>"
      ]
     },
     "metadata": {},
     "output_type": "display_data"
    },
    {
     "data": {
      "image/png": "[encoded data removed]",
      "text/plain": [
       "<Figure size 1224x504 with 3 Axes>"
      ]
     },
     "metadata": {
      "needs_background": "light"
     },
     "output_type": "display_data"
    }
   ],
   "source": [
    "# extract columns for average revenue per user\n",
    "arpu_cols = telecom.columns[telecom.columns.str.contains('arpu_')]\n",
    "\n",
    "# analyze arpu\n",
    "analyze_feature('arpu')"
   ]
  },
  {
   "cell_type": "code",
   "execution_count": 177,
   "metadata": {},
   "outputs": [],
   "source": [
    "# Let us define new derived columns\n",
    "# arpu for good phase: arpu_good_ph\n",
    "telecom['arpu_good_ph'] = (telecom.arpu_6 + telecom.arpu_7)/2\n",
    "\n",
    "# drop the original columns as these are not longer required\n",
    "telecom.drop(['arpu_6','arpu_7'],axis=1,inplace=True)"
   ]
  },
  {
   "cell_type": "code",
   "execution_count": 178,
   "metadata": {},
   "outputs": [
    {
     "data": {
      "text/plain": [
       "Index(['onnet_mou_6', 'onnet_mou_7', 'onnet_mou_8', 'offnet_mou_6',\n",
       "       'offnet_mou_7', 'offnet_mou_8', 'roam_ic_mou_6', 'roam_ic_mou_7',\n",
       "       'roam_ic_mou_8', 'roam_og_mou_6', 'roam_og_mou_7', 'roam_og_mou_8',\n",
       "       'loc_og_t2t_mou_6', 'loc_og_t2t_mou_7', 'loc_og_t2t_mou_8',\n",
       "       'loc_og_t2m_mou_6', 'loc_og_t2m_mou_7', 'loc_og_t2m_mou_8',\n",
       "       'loc_og_t2f_mou_6', 'loc_og_t2f_mou_7', 'loc_og_t2f_mou_8',\n",
       "       'loc_og_t2c_mou_6', 'loc_og_t2c_mou_7', 'loc_og_t2c_mou_8',\n",
       "       'loc_og_mou_6', 'loc_og_mou_7', 'loc_og_mou_8', 'std_og_t2t_mou_6',\n",
       "       'std_og_t2t_mou_7', 'std_og_t2t_mou_8', 'std_og_t2m_mou_6',\n",
       "       'std_og_t2m_mou_7', 'std_og_t2m_mou_8', 'std_og_t2f_mou_6',\n",
       "       'std_og_t2f_mou_7', 'std_og_t2f_mou_8', 'std_og_mou_6', 'std_og_mou_7',\n",
       "       'std_og_mou_8', 'isd_og_mou_6', 'isd_og_mou_7', 'isd_og_mou_8',\n",
       "       'spl_og_mou_6', 'spl_og_mou_7', 'spl_og_mou_8', 'total_og_mou_6',\n",
       "       'total_og_mou_7', 'total_og_mou_8', 'loc_ic_t2t_mou_6',\n",
       "       'loc_ic_t2t_mou_7', 'loc_ic_t2t_mou_8', 'loc_ic_t2m_mou_6',\n",
       "       'loc_ic_t2m_mou_7', 'loc_ic_t2m_mou_8', 'loc_ic_t2f_mou_6',\n",
       "       'loc_ic_t2f_mou_7', 'loc_ic_t2f_mou_8', 'loc_ic_mou_6', 'loc_ic_mou_7',\n",
       "       'loc_ic_mou_8', 'std_ic_t2t_mou_6', 'std_ic_t2t_mou_7',\n",
       "       'std_ic_t2t_mou_8', 'std_ic_t2m_mou_6', 'std_ic_t2m_mou_7',\n",
       "       'std_ic_t2m_mou_8', 'std_ic_t2f_mou_6', 'std_ic_t2f_mou_7',\n",
       "       'std_ic_t2f_mou_8', 'std_ic_mou_6', 'std_ic_mou_7', 'std_ic_mou_8',\n",
       "       'total_ic_mou_6', 'total_ic_mou_7', 'total_ic_mou_8', 'spl_ic_mou_6',\n",
       "       'spl_ic_mou_7', 'spl_ic_mou_8', 'isd_ic_mou_6', 'isd_ic_mou_7',\n",
       "       'isd_ic_mou_8'],\n",
       "      dtype='object')"
      ]
     },
     "execution_count": 178,
     "metadata": {},
     "output_type": "execute_result"
    }
   ],
   "source": [
    "# let's derive minutes of usage columns\n",
    "mou_cols = telecom.columns[telecom.columns.str.contains('mou')]\n",
    "mou_cols"
   ]
  },
  {
   "cell_type": "code",
   "execution_count": 179,
   "metadata": {},
   "outputs": [
    {
     "data": {
      "text/plain": [
       "array([], dtype=object)"
      ]
     },
     "execution_count": 179,
     "metadata": {},
     "output_type": "execute_result"
    }
   ],
   "source": [
    "# let's check if there are any zero variation columns among these\n",
    "zero_var_cols = telecom.loc[:,mou_cols].std()[telecom.loc[:,mou_cols].std()==0].index.values\n",
    "\n",
    "zero_var_cols"
   ]
  },
  {
   "cell_type": "code",
   "execution_count": 181,
   "metadata": {},
   "outputs": [],
   "source": [
    "# let's drop these columns\n",
    "telecom.drop(list(zero_var_cols),axis=1,inplace=True)"
   ]
  },
  {
   "cell_type": "code",
   "execution_count": 182,
   "metadata": {},
   "outputs": [
    {
     "data": {
      "text/plain": [
       "onnet_mou_6        1.82\n",
       "onnet_mou_7        1.79\n",
       "onnet_mou_8        3.91\n",
       "offnet_mou_6       1.82\n",
       "offnet_mou_7       1.79\n",
       "offnet_mou_8       3.91\n",
       "roam_ic_mou_6      1.82\n",
       "roam_ic_mou_7      1.79\n",
       "roam_ic_mou_8      3.91\n",
       "roam_og_mou_6      1.82\n",
       "roam_og_mou_7      1.79\n",
       "roam_og_mou_8      3.91\n",
       "loc_og_t2t_mou_6   1.82\n",
       "loc_og_t2t_mou_7   1.79\n",
       "loc_og_t2t_mou_8   3.91\n",
       "loc_og_t2m_mou_6   1.82\n",
       "loc_og_t2m_mou_7   1.79\n",
       "loc_og_t2m_mou_8   3.91\n",
       "loc_og_t2f_mou_6   1.82\n",
       "loc_og_t2f_mou_7   1.79\n",
       "loc_og_t2f_mou_8   3.91\n",
       "loc_og_t2c_mou_6   1.82\n",
       "loc_og_t2c_mou_7   1.79\n",
       "loc_og_t2c_mou_8   3.91\n",
       "loc_og_mou_6       1.82\n",
       "loc_og_mou_7       1.79\n",
       "loc_og_mou_8       3.91\n",
       "std_og_t2t_mou_6   1.82\n",
       "std_og_t2t_mou_7   1.79\n",
       "std_og_t2t_mou_8   3.91\n",
       "                   ... \n",
       "loc_ic_t2m_mou_6   1.82\n",
       "loc_ic_t2m_mou_7   1.79\n",
       "loc_ic_t2m_mou_8   3.91\n",
       "loc_ic_t2f_mou_6   1.82\n",
       "loc_ic_t2f_mou_7   1.79\n",
       "loc_ic_t2f_mou_8   3.91\n",
       "loc_ic_mou_6       1.82\n",
       "loc_ic_mou_7       1.79\n",
       "loc_ic_mou_8       3.91\n",
       "std_ic_t2t_mou_6   1.82\n",
       "std_ic_t2t_mou_7   1.79\n",
       "std_ic_t2t_mou_8   3.91\n",
       "std_ic_t2m_mou_6   1.82\n",
       "std_ic_t2m_mou_7   1.79\n",
       "std_ic_t2m_mou_8   3.91\n",
       "std_ic_t2f_mou_6   1.82\n",
       "std_ic_t2f_mou_7   1.79\n",
       "std_ic_t2f_mou_8   3.91\n",
       "std_ic_mou_6       1.82\n",
       "std_ic_mou_7       1.79\n",
       "std_ic_mou_8       3.91\n",
       "total_ic_mou_6     0.00\n",
       "total_ic_mou_7     0.00\n",
       "total_ic_mou_8     0.00\n",
       "spl_ic_mou_6       1.82\n",
       "spl_ic_mou_7       1.79\n",
       "spl_ic_mou_8       3.91\n",
       "isd_ic_mou_6       1.82\n",
       "isd_ic_mou_7       1.79\n",
       "isd_ic_mou_8       3.91\n",
       "Length: 81, dtype: float64"
      ]
     },
     "execution_count": 182,
     "metadata": {},
     "output_type": "execute_result"
    }
   ],
   "source": [
    "# let's check the % of null values among mou variables\n",
    "mou_cols = telecom.columns[telecom.columns.str.contains('mou')]\n",
    "100*telecom.loc[:,mou_cols].isnull().sum()/len(telecom.loc[:,mou_cols])"
   ]
  },
  {
   "cell_type": "code",
   "execution_count": 183,
   "metadata": {},
   "outputs": [
    {
     "data": {
      "text/plain": [
       "3.913202893236892"
      ]
     },
     "execution_count": 183,
     "metadata": {},
     "output_type": "execute_result"
    }
   ],
   "source": [
    "# let's check the maximum % of missing value\n",
    "100*telecom.loc[:,mou_cols].isnull().sum().max()/len(telecom.loc[:,mou_cols])"
   ]
  },
  {
   "cell_type": "code",
   "execution_count": 184,
   "metadata": {},
   "outputs": [],
   "source": [
    "# replaceing null values by 0 for minutes of usage variables\n",
    "telecom.loc[:,mou_cols] = telecom.loc[:,mou_cols].replace(np.NaN,0)"
   ]
  },
  {
   "cell_type": "code",
   "execution_count": 185,
   "metadata": {},
   "outputs": [
    {
     "data": {
      "text/plain": [
       "Index(['onnet_mou_6', 'offnet_mou_6', 'roam_ic_mou_6', 'roam_og_mou_6',\n",
       "       'loc_og_t2t_mou_6', 'loc_og_t2m_mou_6', 'loc_og_t2f_mou_6',\n",
       "       'loc_og_t2c_mou_6', 'loc_og_mou_6', 'std_og_t2t_mou_6',\n",
       "       'std_og_t2m_mou_6', 'std_og_t2f_mou_6', 'std_og_mou_6', 'isd_og_mou_6',\n",
       "       'spl_og_mou_6', 'total_og_mou_6', 'loc_ic_t2t_mou_6',\n",
       "       'loc_ic_t2m_mou_6', 'loc_ic_t2f_mou_6', 'loc_ic_mou_6',\n",
       "       'std_ic_t2t_mou_6', 'std_ic_t2m_mou_6', 'std_ic_t2f_mou_6',\n",
       "       'std_ic_mou_6', 'total_ic_mou_6', 'spl_ic_mou_6', 'isd_ic_mou_6'],\n",
       "      dtype='object')"
      ]
     },
     "execution_count": 185,
     "metadata": {},
     "output_type": "execute_result"
    }
   ],
   "source": [
    "# let's collect mou variables for month 6\n",
    "mou_6 = telecom.columns[telecom.columns.str.contains('mou_6')]\n",
    "\n",
    "mou_6"
   ]
  },
  {
   "cell_type": "code",
   "execution_count": 186,
   "metadata": {},
   "outputs": [
    {
     "data": {
      "image/png": "[encoded data removed]",
      "text/plain": [
       "<Figure size 720x576 with 2 Axes>"
      ]
     },
     "metadata": {
      "needs_background": "light"
     },
     "output_type": "display_data"
    }
   ],
   "source": [
    "# Let's check the outgoing mou variables.\n",
    "mou_og_cols6 = telecom.columns[telecom.columns.str.contains('.*_og_.*mou_6',regex=True)]\n",
    "\n",
    "#sns.heatmap(telecom_data.loc[:,mou_cols6].corr())\n",
    "\n",
    "# let us create a correlation matrix heatmap among quantitative varibales\n",
    "plt.figure(figsize=(10, 8))\n",
    "sns.heatmap(telecom.loc[:,mou_og_cols6].corr(), cmap=\"YlGnBu\")\n",
    "plt.show()"
   ]
  },
  {
   "cell_type": "code",
   "execution_count": 187,
   "metadata": {},
   "outputs": [
    {
     "name": "stdout",
     "output_type": "stream",
     "text": [
      "487.53 487.52000000000004\n",
      "60.86 60.849999999999994\n",
      "422.16 422.15\n"
     ]
    }
   ],
   "source": [
    "## fact checking!!\n",
    "print(telecom.loc[7,'total_og_mou_6'],telecom.loc[7,['loc_og_mou_6','std_og_mou_6','spl_og_mou_6','isd_og_mou_6','og_others_6']].sum())\n",
    "\n",
    "print(telecom.loc[7,'std_og_mou_6'],telecom.loc[7,['std_og_t2m_mou_6','std_og_t2t_mou_6','std_og_t2f_mou_6','std_og_loc_mou_6']].sum())\n",
    "\n",
    "print(telecom.loc[7,'loc_og_mou_6'],telecom.loc[7,['loc_og_t2m_mou_6','loc_og_t2t_mou_6','loc_og_t2f_mou_6','loc_og_2tc_mou_6']].sum())"
   ]
  },
  {
   "cell_type": "code",
   "execution_count": 189,
   "metadata": {},
   "outputs": [
    {
     "name": "stdout",
     "output_type": "stream",
     "text": [
      "Index(['loc_og_mou_6', 'loc_og_mou_7', 'loc_og_mou_8', 'std_og_mou_6',\n",
      "       'std_og_mou_7', 'std_og_mou_8', 'total_og_mou_6', 'total_og_mou_7',\n",
      "       'total_og_mou_8'],\n",
      "      dtype='object')\n"
     ]
    }
   ],
   "source": [
    "# As total_og_mou_6, std_og_mou_6 and loc_og_mou_6 already have component variables present in dataset\n",
    "# let's remove these columns for all months from the data set\n",
    "\n",
    "ls_total_og_cols = telecom.columns[telecom.columns.str.contains('total_og_mou|std_og_mou|loc_og_mou',regex=True)]\n",
    "\n",
    "print(ls_total_og_cols)\n",
    "\n",
    "telecom.drop(ls_total_og_cols,axis=1,inplace=True)"
   ]
  },
  {
   "cell_type": "code",
   "execution_count": 190,
   "metadata": {},
   "outputs": [
    {
     "name": "stdout",
     "output_type": "stream",
     "text": [
      "Index(['roam_og_mou_6', 'roam_og_mou_7', 'loc_og_t2t_mou_6',\n",
      "       'loc_og_t2t_mou_7', 'loc_og_t2m_mou_6', 'loc_og_t2m_mou_7',\n",
      "       'loc_og_t2f_mou_6', 'loc_og_t2f_mou_7', 'loc_og_t2c_mou_6',\n",
      "       'loc_og_t2c_mou_7', 'std_og_t2t_mou_6', 'std_og_t2t_mou_7',\n",
      "       'std_og_t2m_mou_6', 'std_og_t2m_mou_7', 'std_og_t2f_mou_6',\n",
      "       'std_og_t2f_mou_7', 'isd_og_mou_6', 'isd_og_mou_7', 'spl_og_mou_6',\n",
      "       'spl_og_mou_7'],\n",
      "      dtype='object')\n"
     ]
    }
   ],
   "source": [
    "\n",
    "\n",
    "# let's define good phase derived variables for all og components:\n",
    "telecom['spl_og_mou_good_ph'] = (telecom.spl_og_mou_6 + telecom.spl_og_mou_7)/2\n",
    "telecom['isd_og_mou_good_ph'] = (telecom.isd_og_mou_6 + telecom.isd_og_mou_7)/2\n",
    "telecom['roam_og_mou_good_ph'] = (telecom.roam_og_mou_6 + telecom.roam_og_mou_7)/2\n",
    "telecom['std_og_t2m_mou_good_ph'] = (telecom.std_og_t2m_mou_6 + telecom.std_og_t2m_mou_7)/2\n",
    "telecom['std_og_t2t_mou_good_ph'] = (telecom.std_og_t2t_mou_6 + telecom.std_og_t2t_mou_7)/2\n",
    "telecom['std_og_t2f_mou_good_ph'] = (telecom.std_og_t2f_mou_6 + telecom.std_og_t2f_mou_7)/2\n",
    "\n",
    "telecom['loc_og_t2m_mou_good_ph'] = (telecom.loc_og_t2m_mou_6 + telecom.loc_og_t2m_mou_7)/2\n",
    "telecom['loc_og_t2t_mou_good_ph'] = (telecom.loc_og_t2t_mou_6 + telecom.loc_og_t2t_mou_7)/2\n",
    "telecom['loc_og_t2f_mou_good_ph'] = (telecom.loc_og_t2f_mou_6 + telecom.loc_og_t2f_mou_7)/2\n",
    "telecom['loc_og_t2c_mou_good_ph'] = (telecom.loc_og_t2c_mou_6 + telecom.loc_og_t2c_mou_7)/2\n",
    "\n",
    "\n",
    "\n",
    "# drop all the original og mou variables\n",
    "ls_og = telecom.columns[telecom.columns.str.contains('.*_og_.*mou_6|.*_og_.*mou_7',regex=True)]\n",
    "\n",
    "print(ls_og)\n",
    "\n",
    "telecom.drop(ls_og,axis=1,inplace=True)\n",
    "\n"
   ]
  },
  {
   "cell_type": "code",
   "execution_count": 191,
   "metadata": {},
   "outputs": [
    {
     "data": {
      "text/plain": [
       "Index(['roam_ic_mou_6', 'loc_ic_t2t_mou_6', 'loc_ic_t2m_mou_6',\n",
       "       'loc_ic_t2f_mou_6', 'loc_ic_mou_6', 'std_ic_t2t_mou_6',\n",
       "       'std_ic_t2m_mou_6', 'std_ic_t2f_mou_6', 'std_ic_mou_6',\n",
       "       'total_ic_mou_6', 'spl_ic_mou_6', 'isd_ic_mou_6'],\n",
       "      dtype='object')"
      ]
     },
     "execution_count": 191,
     "metadata": {},
     "output_type": "execute_result"
    }
   ],
   "source": [
    "mou_ic_cols6 = telecom.columns[telecom.columns.str.contains('.*_ic_.*mou_6',regex=True)]\n",
    "\n",
    "mou_ic_cols6\n"
   ]
  },
  {
   "cell_type": "code",
   "execution_count": null,
   "metadata": {},
   "outputs": [],
   "source": []
  },
  {
   "cell_type": "code",
   "execution_count": null,
   "metadata": {},
   "outputs": [],
   "source": []
  },
  {
   "cell_type": "code",
   "execution_count": null,
   "metadata": {},
   "outputs": [],
   "source": []
  },
  {
   "cell_type": "code",
   "execution_count": null,
   "metadata": {},
   "outputs": [],
   "source": []
  },
  {
   "cell_type": "code",
   "execution_count": null,
   "metadata": {},
   "outputs": [],
   "source": []
  },
  {
   "cell_type": "code",
   "execution_count": null,
   "metadata": {},
   "outputs": [],
   "source": []
  },
  {
   "cell_type": "code",
   "execution_count": null,
   "metadata": {},
   "outputs": [],
   "source": []
  },
  {
   "cell_type": "code",
   "execution_count": null,
   "metadata": {},
   "outputs": [],
   "source": []
  },
  {
   "cell_type": "markdown",
   "metadata": {},
   "source": [
    "# Data Cleaning and Filling missing value"
   ]
  },
  {
   "cell_type": "markdown",
   "metadata": {},
   "source": [
    "### Treating all Categorical Variables"
   ]
  },
  {
   "cell_type": "code",
   "execution_count": 166,
   "metadata": {},
   "outputs": [
    {
     "name": "stdout",
     "output_type": "stream",
     "text": [
      "Number of Columns dropped\t:  0\n",
      "---------------------------------------------------------------------------------------------------- \n",
      "\n"
     ]
    }
   ],
   "source": [
    "#1. Data Cleaning. ## Replacing Columns values with -1 as new category when > 70% Null Values\n",
    "#print('Total number of missing values in the DataFrame: ', telecom.isnull().values.sum());print_dashes_and_ln();\n",
    "#print('Checking percentage the column-wise distribution of null values: ', round(100*(telecom.isnull().sum()/len(telecom.index)), 2));print_dashes_and_ln();\n",
    "#categorical_vars = list(categorical_vars[categorical_vars.values>=0.7].index)\n",
    "#print('The columns that need to replace with new category as -1: ', colnames);print_dashes_and_ln();\n",
    "# Missing values can be imputed with '-1' \n",
    "# where -1 can be treated as a new category.\n",
    "#for var in categorical_vars:\n",
    "#    telecom[var].fillna(value=-1, inplace=True)\n",
    "    \n",
    "    \n",
    "#1. Data Cleaning. Removing Columns with > 70% Null Values\n",
    "colnames = (telecom.isnull().sum()/len(telecom))\n",
    "colnames = list(colnames[colnames.values>=0.7].index)\n",
    "telecom.drop(labels = colnames,axis =1,inplace=True)\n",
    "print(\"Number of Columns dropped\\t: \",len(colnames));print_dashes_and_ln();"
   ]
  },
  {
   "cell_type": "code",
   "execution_count": 167,
   "metadata": {},
   "outputs": [
    {
     "name": "stdout",
     "output_type": "stream",
     "text": [
      "So now we are left with (30001, 135) rows & columns.\n",
      "---------------------------------------------------------------------------------------------------- \n",
      "\n"
     ]
    }
   ],
   "source": [
    "#2. Data Cleaning. ## Removing Columns with single Unique Value\n",
    "unique = telecom.nunique()\n",
    "unique = unique[unique.values == 1]\n",
    "telecom.drop(labels = list(unique.index), axis =1, inplace=True)\n",
    "print(\"So now we are left with\",telecom.shape ,\"rows & columns.\"); print_dashes_and_ln();"
   ]
  },
  {
   "cell_type": "code",
   "execution_count": 168,
   "metadata": {},
   "outputs": [
    {
     "name": "stdout",
     "output_type": "stream",
     "text": [
      "Numeric \t:  Index(['mobile_number', 'arpu_6', 'arpu_7', 'arpu_8', 'onnet_mou_6',\n",
      "       'onnet_mou_7', 'onnet_mou_8', 'offnet_mou_6', 'offnet_mou_7',\n",
      "       'offnet_mou_8',\n",
      "       ...\n",
      "       'vol_3g_mb_good_ph', 'monthly_2g_good_ph', 'monthly_3g_good_ph',\n",
      "       'vbc_3g_good_ph', 'sachet_2g_good_ph', 'sachet_3g_good_ph',\n",
      "       'day_of_last_rech_6', 'day_of_last_rech_7', 'day_of_last_rech_8',\n",
      "       'day_of_last_rech_shift'],\n",
      "      dtype='object', length=129)\n",
      "---------------------------------------------------------------------------------------------------- \n",
      "\n",
      "Non-numeric Columns \t:  Index([], dtype='object')\n",
      "---------------------------------------------------------------------------------------------------- \n",
      "\n"
     ]
    }
   ],
   "source": [
    "#3. Columns by Data Type\n",
    "non_numeric_columns = telecom.select_dtypes(['object']).columns\n",
    "numeric_columns = telecom.select_dtypes(['number']).columns\n",
    "print(\"Numeric \\t: \",numeric_columns); print_dashes_and_ln();\n",
    "print(\"Non-numeric Columns \\t: \",non_numeric_columns); print_dashes_and_ln();\n",
    "\n"
   ]
  },
  {
   "cell_type": "code",
   "execution_count": 169,
   "metadata": {},
   "outputs": [
    {
     "ename": "SyntaxError",
     "evalue": "invalid syntax (<ipython-input-169-4a581bf20bab>, line 4)",
     "output_type": "error",
     "traceback": [
      "\u001b[0;36m  File \u001b[0;32m\"<ipython-input-169-4a581bf20bab>\"\u001b[0;36m, line \u001b[0;32m4\u001b[0m\n\u001b[0;31m    There are 12 of them and all of these have more than 70% missing values. Missing values can be imputed with '-1' where -1 can be treated as a new category.\u001b[0m\n\u001b[0m            ^\u001b[0m\n\u001b[0;31mSyntaxError\u001b[0m\u001b[0;31m:\u001b[0m invalid syntax\n"
     ]
    }
   ],
   "source": [
    "\n",
    "##Treating all non numerical columns or Categorical Variables\n",
    "\n",
    "There are 12 of them and all of these have more than 70% missing values. Missing values can be imputed with '-1' where -1 can be treated as a new category.\n",
    "\n",
    "CATEGORICAL VARIABLES:\n",
    "\n",
    "    night_pck_user_6\n",
    "    night_pck_user_7\n",
    "    night_pck_user_8\n",
    "    night_pck_user_9\n",
    "    fb_user_6\n",
    "    fb_user_7\n",
    "    fb_user_8\n",
    "    fb_user_9\n",
    "\n"
   ]
  },
  {
   "cell_type": "markdown",
   "metadata": {},
   "source": [
    "# Data Preparation"
   ]
  },
  {
   "cell_type": "markdown",
   "metadata": {},
   "source": [
    "## 1. Derive new features\n",
    "There are some importance variable which must have missing value. So, first lets create a new category."
   ]
  },
  {
   "cell_type": "code",
   "execution_count": null,
   "metadata": {},
   "outputs": [],
   "source": []
  },
  {
   "cell_type": "code",
   "execution_count": null,
   "metadata": {},
   "outputs": [],
   "source": []
  },
  {
   "cell_type": "code",
   "execution_count": null,
   "metadata": {},
   "outputs": [],
   "source": []
  },
  {
   "cell_type": "code",
   "execution_count": null,
   "metadata": {},
   "outputs": [],
   "source": []
  },
  {
   "cell_type": "code",
   "execution_count": null,
   "metadata": {},
   "outputs": [],
   "source": []
  },
  {
   "cell_type": "code",
   "execution_count": null,
   "metadata": {},
   "outputs": [],
   "source": []
  },
  {
   "cell_type": "code",
   "execution_count": null,
   "metadata": {},
   "outputs": [],
   "source": []
  }
 ],
 "metadata": {
  "kernelspec": {
   "display_name": "Python 3",
   "language": "python",
   "name": "python3"
  },
  "language_info": {
   "codemirror_mode": {
    "name": "ipython",
    "version": 3
   },
   "file_extension": ".py",
   "mimetype": "text/x-python",
   "name": "python",
   "nbconvert_exporter": "python",
   "pygments_lexer": "ipython3",
   "version": "3.7.1"
  }
 },
 "nbformat": 4,
 "nbformat_minor": 2
}
